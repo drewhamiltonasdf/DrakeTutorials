{
 "cells": [
  {
   "cell_type": "markdown",
   "id": "b7f5b94f",
   "metadata": {},
   "source": [
    "### Before we begin, a (very) quick primer on AutoDiffXD:"
   ]
  },
  {
   "cell_type": "code",
   "execution_count": 1,
   "id": "2786e9b2",
   "metadata": {},
   "outputs": [],
   "source": [
    "from pydrake import math\n",
    "import numpy as np"
   ]
  },
  {
   "cell_type": "markdown",
   "id": "fd5219f3",
   "metadata": {},
   "source": [
    "# pydrake.autodiffutils\n",
    "\n",
    "Bindings for Eigen AutoDiff Scalars"
   ]
  },
  {
   "cell_type": "markdown",
   "id": "d68a95fb",
   "metadata": {},
   "source": [
    "### [Class]: pydrake.autodiffutils.AutoDiffXd"
   ]
  },
  {
   "cell_type": "markdown",
   "id": "fadf69e0",
   "metadata": {},
   "source": [
    "***_init__()*** and ***methods***:"
   ]
  },
  {
   "cell_type": "code",
   "execution_count": 2,
   "id": "34ced1d6",
   "metadata": {},
   "outputs": [
    {
     "name": "stdout",
     "output_type": "stream",
     "text": [
      "a.value():  1.5\n",
      "a.derivatives():  [1.]\n"
     ]
    }
   ],
   "source": [
    "#from pydrake.autodiffutils import AutoDiffXd\n",
    "#from pydrake.autodiffutils import ExtractGradient\n",
    "\n",
    "from pydrake import autodiffutils\n",
    "\n",
    "# 1) Constructs a value with empty derivatives\n",
    "#  value: float\n",
    "a = autodiffutils.AutoDiffXd(1.5)\n",
    "\n",
    "# 2) Constructs a value with the given derivatives.\n",
    "#    value: float\n",
    "#    derivatives: list of nth derivatives\n",
    "a = autodiffutils.AutoDiffXd(1.5, [1.0, 0.0, 0.0])\n",
    "\n",
    "# 3) value: float\n",
    "#    offset: (int)\n",
    "# Constructs a value with a single partial derivative of 1.0 \n",
    "# at the given offset in a vector of size otherwise-zero derivatives.\n",
    "a = autodiffutils.AutoDiffXd(1.5, 1, 0)\n",
    "\n",
    "# ***pydrake.autodiffutils.AutoDiffXd methods:***\n",
    "b = autodiffutils.AutoDiffXd(1.5, [1.0, 0.0, 0.0])\n",
    "\n",
    "a.abs()\n",
    "a.acos()\n",
    "a.arccos()\n",
    "a.arcsin()\n",
    "a.arctan()\n",
    "a.arctan2(b)     # Uses self for y in atan2(y, x).\n",
    "a.asin()\n",
    "a.atan()\n",
    "a.atan2(b)       # Uses self for y in atan2(y, x).\n",
    "a.ceil()\n",
    "a.cos()\n",
    "a.cosh()\n",
    "\n",
    "derivs = a.derivatives()         # Return array of nth derivatives\n",
    "\n",
    "a.exp()\n",
    "a.floor()\n",
    "a.log()\n",
    "a.max(b)\n",
    "a.min(b)\n",
    "a.pow(2)\n",
    "a.sin()\n",
    "a.sinh()\n",
    "a.sqrt()\n",
    "a.tan()\n",
    "a.tanh()\n",
    "\n",
    "val = a.value()\n",
    "\n",
    "print(\"a.value(): \", val)\n",
    "print(\"a.derivatives(): \", derivs)"
   ]
  },
  {
   "cell_type": "markdown",
   "id": "4a760116",
   "metadata": {},
   "source": [
    "### [Function]: pydrake.autodiffutils.ExtractGradient"
   ]
  },
  {
   "cell_type": "code",
   "execution_count": 3,
   "id": "5921ae14",
   "metadata": {},
   "outputs": [
    {
     "data": {
      "text/plain": [
       "array([[0.0707372]])"
      ]
     },
     "execution_count": 3,
     "metadata": {},
     "output_type": "execute_result"
    }
   ],
   "source": [
    "# Simple 1D example:\n",
    "expra = math.sin(a)\n",
    "autodiffutils.ExtractGradient(np.array([[expra]]))"
   ]
  },
  {
   "cell_type": "markdown",
   "id": "0c4a7df6",
   "metadata": {},
   "source": [
    "### [Function]: pydrake.autodiffutils.ExtractValue\n",
    "\n",
    "Extracts the value() portion from a matrix of AutoDiffScalar entries. (Each entry contains a value and some derivatives.)"
   ]
  },
  {
   "cell_type": "code",
   "execution_count": 4,
   "id": "e69ac600",
   "metadata": {},
   "outputs": [
    {
     "data": {
      "text/plain": [
       "array([[ 0.99749499,  0.0707372 ],\n",
       "       [14.10141995,  2.12927946]])"
      ]
     },
     "execution_count": 4,
     "metadata": {},
     "output_type": "execute_result"
    }
   ],
   "source": [
    "expra = math.sin(a)\n",
    "exprb = math.cos(a)\n",
    "exprc = math.tan(a)\n",
    "exprd = math.sinh(a)\n",
    "\n",
    "mat = np.array([[expra, exprb],\n",
    "                [exprc, exprd]])\n",
    "\n",
    "autodiffutils.ExtractValue(mat)"
   ]
  },
  {
   "cell_type": "markdown",
   "id": "d22e29e5",
   "metadata": {},
   "source": [
    "### [Function]: pydrake.autodiffutils.InitializeAutoDiff\n",
    "\n",
    "Initializes a single AutoDiff matrix given the corresponding value matrix."
   ]
  },
  {
   "cell_type": "code",
   "execution_count": 5,
   "id": "42cfd3c5",
   "metadata": {},
   "outputs": [
    {
     "data": {
      "text/plain": [
       "array([[<AutoDiffXd 1.0 nderiv=1>, <AutoDiffXd 2.0 nderiv=1>,\n",
       "        <AutoDiffXd 3.0 nderiv=1>],\n",
       "       [<AutoDiffXd 4.0 nderiv=1>, <AutoDiffXd 5.0 nderiv=1>,\n",
       "        <AutoDiffXd 6.0 nderiv=1>],\n",
       "       [<AutoDiffXd 7.0 nderiv=1>, <AutoDiffXd 8.0 nderiv=1>,\n",
       "        <AutoDiffXd 9.0 nderiv=1>]], dtype=object)"
      ]
     },
     "execution_count": 5,
     "metadata": {},
     "output_type": "execute_result"
    }
   ],
   "source": [
    "# Value matrix:\n",
    "M = np.array([[1, 2, 3], [4, 5, 6], [7, 8, 9]])\n",
    "\n",
    "# gradient (as column vector where #rows = size(M))\n",
    "grad = np.array([[1, 1, 1, 1, 1, 1, 1, 1, 1]]).T\n",
    "\n",
    "M_ad = autodiffutils.InitializeAutoDiff(value=M, gradient=grad)\n",
    "M_ad"
   ]
  },
  {
   "cell_type": "code",
   "execution_count": 6,
   "id": "aa0ba2fb",
   "metadata": {},
   "outputs": [
    {
     "data": {
      "text/plain": [
       "array([<AutoDiffXd 1.0 nderiv=1>, <AutoDiffXd 2.0 nderiv=1>,\n",
       "       <AutoDiffXd 3.0 nderiv=1>], dtype=object)"
      ]
     },
     "execution_count": 6,
     "metadata": {},
     "output_type": "execute_result"
    }
   ],
   "source": [
    "# Can be indexed into, like any ndarray:\n",
    "M_ad[0]"
   ]
  },
  {
   "cell_type": "code",
   "execution_count": 7,
   "id": "a84e37f8",
   "metadata": {},
   "outputs": [
    {
     "data": {
      "text/plain": [
       "1.0"
      ]
     },
     "execution_count": 7,
     "metadata": {},
     "output_type": "execute_result"
    }
   ],
   "source": [
    "# You have to ask for the value of a cell\n",
    "# you can't request the value of the whole matrix\n",
    "# because it is an ndarray:\n",
    "M_ad[0][0].value()"
   ]
  },
  {
   "cell_type": "code",
   "execution_count": 8,
   "id": "2830041f",
   "metadata": {},
   "outputs": [
    {
     "data": {
      "text/plain": [
       "array([[1., 2., 3.],\n",
       "       [4., 5., 6.],\n",
       "       [7., 8., 9.]])"
      ]
     },
     "execution_count": 8,
     "metadata": {},
     "output_type": "execute_result"
    }
   ],
   "source": [
    "# Or... you can ExtractValues INTO an ndarray:\n",
    "autodiffutils.ExtractValue(M_ad)"
   ]
  },
  {
   "cell_type": "markdown",
   "id": "402588fe",
   "metadata": {},
   "source": [
    "### [Function]: pydrake.autodiffutils.InitializeAutoDiffTuple\n",
    "\n",
    "Given a series of array_like input arguments, create a tuple of corresponding AutoDiff matrices with values equal to the input matrices and properly initialized derivative vectors."
   ]
  },
  {
   "cell_type": "code",
   "execution_count": 9,
   "id": "560ae161",
   "metadata": {},
   "outputs": [],
   "source": [
    "# This gives you properly initialized derivatives in one function call:\n",
    "\n",
    "# Value matrix:\n",
    "vals = np.array([[1, 2, 3, 4, 5, 6, 7, 8, 9]])\n",
    "\n",
    "tup = autodiffutils.InitializeAutoDiffTuple(vals)"
   ]
  },
  {
   "cell_type": "code",
   "execution_count": 10,
   "id": "3ba80d30",
   "metadata": {},
   "outputs": [
    {
     "data": {
      "text/plain": [
       "1.0"
      ]
     },
     "execution_count": 10,
     "metadata": {},
     "output_type": "execute_result"
    }
   ],
   "source": [
    "tup[0][0][0].value()"
   ]
  },
  {
   "cell_type": "code",
   "execution_count": 11,
   "id": "05881f92",
   "metadata": {},
   "outputs": [
    {
     "data": {
      "text/plain": [
       "array([1., 0., 0., 0., 0., 0., 0., 0., 0.])"
      ]
     },
     "execution_count": 11,
     "metadata": {},
     "output_type": "execute_result"
    }
   ],
   "source": [
    "# The size of the derivative vector of each element \n",
    "# of the matrices/arrays in the output tuple will \n",
    "# be the same, and will equal the sum of the number \n",
    "# of elements of the matrices in args.\n",
    "tup[0][0][0].derivatives()"
   ]
  },
  {
   "cell_type": "code",
   "execution_count": 12,
   "id": "dc75fc6f",
   "metadata": {},
   "outputs": [
    {
     "data": {
      "text/plain": [
       "array([[1., 2., 3., 4., 5., 6., 7., 8., 9.]])"
      ]
     },
     "execution_count": 12,
     "metadata": {},
     "output_type": "execute_result"
    }
   ],
   "source": [
    "# Extract by index0\n",
    "autodiffutils.ExtractValue(tup[0])"
   ]
  }
 ],
 "metadata": {
  "kernelspec": {
   "display_name": "Python 3 (ipykernel)",
   "language": "python",
   "name": "python3"
  },
  "language_info": {
   "codemirror_mode": {
    "name": "ipython",
    "version": 3
   },
   "file_extension": ".py",
   "mimetype": "text/x-python",
   "name": "python",
   "nbconvert_exporter": "python",
   "pygments_lexer": "ipython3",
   "version": "3.10.12"
  }
 },
 "nbformat": 4,
 "nbformat_minor": 5
}
