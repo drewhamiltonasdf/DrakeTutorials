{
 "cells": [
  {
   "cell_type": "markdown",
   "id": "e293ceaa",
   "metadata": {},
   "source": [
    "# pydrake.math\n",
    "\n",
    "- Most of these functions have a version that takes floats, as well as an AutoDiffXd and an Expression version.\n",
    "\n",
    "- AutoDiffXd overload is for autodiffing through equations, obviously, and Expression is for Symbolic computation (similar to Sympy)."
   ]
  },
  {
   "cell_type": "markdown",
   "id": "1c020674",
   "metadata": {},
   "source": [
    "#### Exhaustive List of classes and member functions:\n",
    "\n",
    "- pydrake.math.abs\n",
    "- pydrake.math.acos\n",
    "- pydrake.math.arccos\n",
    "- pydrake.math.arcsin\n",
    "- pydrake.math.arctan\n",
    "- pydrake.math.arctan2\n",
    "- pydrake.math.AreQuaternionsEqualForOrientation\n",
    "- pydrake.math.asin\n",
    "- pydrake.math.atan\n",
    "- pydrake.math.atan2\n",
    "- pydrake.math.BalanceQuadraticForms\n",
    "- pydrake.math.BarycentricMesh\n",
    "    - Eval\n",
    "    - EvalBarycentricWeights\n",
    "    - get_all_mesh_points\n",
    "    - get_input_grid\n",
    "    - get_input_size\n",
    "    - get_mesh_point\n",
    "    - get_num_interpolants\n",
    "    - get_num_mesh_points\n",
    "    - MeshValuesFrom\n",
    "- pydrake.math.BsplineBasis\n",
    "    - ComputeActiveBasisFunctionIndices\n",
    "    - degree\n",
    "    - EvaluateBasisFunctionI\n",
    "    - EvaluateCurve\n",
    "    - final_parameter_value\n",
    "    - FindContainingInterval\n",
    "    - initial_parameter_value\n",
    "    - knots\n",
    "    - num_basis_functions\n",
    "    - order\n",
    "- pydrake.math.CalculateAngularVelocityExpressedInBFromQuaternionDt\n",
    "- pydrake.math.CalculateQuaternionDtConstraintViolation\n",
    "- pydrake.math.CalculateQuaternionDtFromAngularVelocityExpressedInB\n",
    "- pydrake.math.ceil\n",
    "- pydrake.math.ClosestQuaternion\n",
    "- pydrake.math.ComputeNumericalGradient\n",
    "- pydrake.math.ContinuousAlgebraicRiccatiEquation\n",
    "- pydrake.math.cos\n",
    "- pydrake.math.cosh\n",
    "- pydrake.math.DecomposePositiveQuadraticForm\n",
    "- pydrake.math.DecomposePSDmatrixIntoXtransposeTimesX\n",
    "- pydrake.math.DiscreteAlgebraicRiccatiEquation\n",
    "- pydrake.math.exp\n",
    "- pydrake.math.floor\n",
    "- pydrake.math.inv\n",
    "- pydrake.math.is_quaternion_in_canonical_form\n",
    "- pydrake.math.IsBothQuaternionAndQuaternionDtOK\n",
    "- pydrake.math.isnan\n",
    "- pydrake.math.IsPositiveDefinite\n",
    "- pydrake.math.IsQuaternionValid\n",
    "- pydrake.math.IsSymmetric\n",
    "- pydrake.math.KnotVectorType\n",
    "- pydrake.math.log\n",
    "- pydrake.math.matmul\n",
    "- pydrake.math.max\n",
    "- pydrake.math.min\n",
    "- pydrake.math.NumericalGradientMethod\n",
    "- pydrake.math.NumericalGradientOption\n",
    "- pydrake.math.pow\n",
    "- pydrake.math.QuaternionToCanonicalForm\n",
    "- pydrake.math.RealContinuousLyapunovEquation\n",
    "- pydrake.math.RealDiscreteLyapunovEquation\n",
    "- pydrake.math.RigidTransform\n",
    "    - GetAsIsometry3\n",
    "    - GetAsMatrix34\n",
    "    - GetAsMatrix4\n",
    "    - GetMaximumAbsoluteDifference\n",
    "    - GetMaximumAbsoluteTranslationDifference\n",
    "    - Identity\n",
    "    - inverse\n",
    "    - InvertAndCompose\n",
    "    - IsExactlyEqualTo\n",
    "    - IsExactlyIdentity\n",
    "    - IsNearlyEqualTo\n",
    "    - IsNearlyIdentity\n",
    "    - multiply\n",
    "    - rotation\n",
    "    - set\n",
    "    - set_rotation\n",
    "    - set_translation\n",
    "    - SetFromIsometry3\n",
    "    - SetIdentity\n",
    "    - translation\n",
    "    \n",
    "- pydrake.math.RollPitchYaw\n",
    "    - CalcAngularVelocityInChildFromRpyDt\n",
    "    - CalcAngularVelocityInParentFromRpyDt\n",
    "    - CalcRotationMatrixDt\n",
    "    - CalcRpyDDtFromAngularAccelInChild\n",
    "    - CalcRpyDDtFromRpyDtAndAngularAccelInParent\n",
    "    - CalcRpyDtFromAngularVelocityInChild\n",
    "    - CalcRpyDtFromAngularVelocityInParent\n",
    "    - pitch_angle\n",
    "    - roll_angle\n",
    "    - ToQuaternion\n",
    "    - ToRotationMatrix\n",
    "    - vector\n",
    "    - yaw_angle\n",
    "    \n",
    "- pydrake.math.RotationMatrix\n",
    "    - cast[AutoDiffXd]\n",
    "    - cast[Expression]\n",
    "    - cast[float]\n",
    "    - col\n",
    "    - Identity\n",
    "    - inverse\n",
    "    - InvertAndCompose\n",
    "    - IsExactlyIdentity\n",
    "    - IsNearlyIdentity\n",
    "    - IsValid\n",
    "    - MakeFromOneVector\n",
    "    - MakeXRotation\n",
    "    - MakeYRotation\n",
    "    - MakeZRotation\n",
    "    - matrix\n",
    "    - multiply\n",
    "    - ProjectToRotationMatrix\n",
    "    - row\n",
    "    - set\n",
    "    - ToAngleAxis\n",
    "    - ToQuaternion\n",
    "    - ToRollPitchYaw\n",
    "    - transpose\n",
    "    \n",
    "- pydrake.math.sin\n",
    "- pydrake.math.sinh\n",
    "- pydrake.math.SoftOverMax\n",
    "- pydrake.math.SoftOverMin\n",
    "- pydrake.math.SoftUnderMax\n",
    "- pydrake.math.SoftUnderMin\n",
    "- pydrake.math.sqrt\n",
    "- pydrake.math.tan\n",
    "- pydrake.math.tanh\n",
    "- pydrake.math.ToSymmetricMatrixFromLowerTriangularColumns\n",
    "- pydrake.math.UniformlyRandomAngleAxis\n",
    "- pydrake.math.UniformlyRandomQuaternion\n",
    "- pydrake.math.UniformlyRandomRotationMatrix\n",
    "- pydrake.math.UniformlyRandomRPY\n",
    "- pydrake.math.VectorToSkewSymmetric\n",
    "- pydrake.math.wrap_to"
   ]
  },
  {
   "cell_type": "code",
   "execution_count": 1,
   "id": "b19f56ef",
   "metadata": {},
   "outputs": [],
   "source": [
    "import numpy as np\n",
    "from IPython.display import Markdown, display\n",
    "\n",
    "from pydrake import math\n",
    "from pydrake.all import Variable, Expression\n",
    "from pydrake.all import ToLatex\n",
    "\n",
    "from pydrake.autodiffutils import AutoDiffXd\n",
    "from pydrake.autodiffutils import ExtractGradient"
   ]
  },
  {
   "cell_type": "markdown",
   "id": "89226ae3",
   "metadata": {},
   "source": [
    "### Before we begin, a (very) quick primer on AutoDiffXD:"
   ]
  },
  {
   "cell_type": "code",
   "execution_count": 2,
   "id": "191a01c4",
   "metadata": {},
   "outputs": [],
   "source": [
    "# This sets up a value a=1.5\n",
    "# with first deriv = 1\n",
    "# second deriv = 0\n",
    "# third deriv = 0\n",
    "a = AutoDiffXd(1.5, [1.0, 0.0, 0.0])\n",
    "\n",
    "# This sets up a value b=1.5\n",
    "# with first deriv = 1\n",
    "b = AutoDiffXd(1.5, [1.0])\n",
    "\n",
    "# This sets up a vector c with 12 elements\n",
    "# with value=1.5, and a derivative of 1\n",
    "# JUST at offset 1 in the vector.\n",
    "c = AutoDiffXd(value=1.5, size=12, offset=0)\n",
    "\n",
    "# This sets up a value d=1.4 with empty derivatives.\n",
    "d = AutoDiffXd(1.4)\n",
    "\n",
    "# If you just want derivatives, set the 1st deriv. to 1.0"
   ]
  },
  {
   "cell_type": "code",
   "execution_count": 3,
   "id": "1a80c305",
   "metadata": {
    "scrolled": true
   },
   "outputs": [
    {
     "name": "stdout",
     "output_type": "stream",
     "text": [
      "grada:  [[0.0707372 0.        0.       ]]\n",
      "gradb:  [[0.0707372]]\n",
      "gradc:  [[0.0707372 0.        0.        0.        0.        0.        0.\n",
      "  0.        0.        0.        0.        0.       ]]\n",
      "gradd:  []\n"
     ]
    }
   ],
   "source": [
    "expra = math.sin(a)\n",
    "exprb = math.sin(b)\n",
    "exprc = math.sin(c)\n",
    "exprd = math.sin(d)\n",
    "\n",
    "grada = ExtractGradient(np.array([[expra]]))\n",
    "gradb = ExtractGradient(np.array([[exprb]]))\n",
    "gradc = ExtractGradient(np.array([[exprc]]))\n",
    "gradd = ExtractGradient(np.array([[exprd]]))\n",
    "\n",
    "print(\"grada: \", grada)\n",
    "print(\"gradb: \", gradb)\n",
    "print(\"gradc: \", gradc)\n",
    "print(\"gradd: \", gradd)"
   ]
  },
  {
   "cell_type": "markdown",
   "id": "d1f90c49",
   "metadata": {},
   "source": [
    "***We can also get values/derivatives directly from AD expressions:***"
   ]
  },
  {
   "cell_type": "code",
   "execution_count": 4,
   "id": "e71246fb",
   "metadata": {},
   "outputs": [
    {
     "data": {
      "text/plain": [
       "array([0.0707372, 0.       , 0.       ])"
      ]
     },
     "execution_count": 4,
     "metadata": {},
     "output_type": "execute_result"
    }
   ],
   "source": [
    "expra.value()\n",
    "expra.derivatives()"
   ]
  },
  {
   "cell_type": "markdown",
   "id": "60ba9dd9",
   "metadata": {},
   "source": [
    "---\n",
    "\n",
    "\n",
    "# pydrake.math classes and methods:\n",
    "\n",
    "---"
   ]
  },
  {
   "cell_type": "markdown",
   "id": "d14f2e86",
   "metadata": {},
   "source": [
    "###  [function]: pydrake.math.abs(*args, **kwargs)\n",
    "\n",
    "- Overloaded function.\n",
    "    - abs(arg0: float) -> float\n",
    "    - abs(arg0: pydrake.autodiffutils.AutoDiffXd) -> pydrake.autodiffutils.AutoDiffXd\n",
    "    - abs(arg0: pydrake.symbolic.Expression) -> pydrake.symbolic.Expression"
   ]
  },
  {
   "cell_type": "code",
   "execution_count": 5,
   "id": "7ec52f2e",
   "metadata": {},
   "outputs": [
    {
     "name": "stdout",
     "output_type": "stream",
     "text": [
      "Numeric:  13.0\n"
     ]
    },
    {
     "data": {
      "text/markdown": [
       "Symbolic: $|( - 5x0 + x0^{3})|$"
      ],
      "text/plain": [
       "<IPython.core.display.Markdown object>"
      ]
     },
     "metadata": {},
     "output_type": "display_data"
    },
    {
     "name": "stdout",
     "output_type": "stream",
     "text": [
      "AD value:  2132.0\n",
      "AD derivatives:  [-502.]\n"
     ]
    }
   ],
   "source": [
    "# Numerical Example:\n",
    "numerical = math.abs(-13)\n",
    "\n",
    "# Symbolic Example:\n",
    "x = Variable(\"x0\")\n",
    "expr = math.abs(x**3 - 5*x)\n",
    "\n",
    "# AutoDiff Example:\n",
    "x_ad = AutoDiffXd(-13, [1.0])\n",
    "expr_ad = math.abs(x_ad**3 - 5*x_ad)\n",
    "\n",
    "# Print results:\n",
    "print(\"Numeric: \", numerical)\n",
    "display(Markdown(\"Symbolic: $\" + ToLatex(expr) + \"$\"))\n",
    "print(\"AD value: \", expr_ad.value())\n",
    "print(\"AD derivatives: \", expr_ad.derivatives())"
   ]
  },
  {
   "cell_type": "markdown",
   "id": "9da68891",
   "metadata": {},
   "source": [
    " ###  [function]: pydrake.math.acos(*args, **kwargs)\n",
    " \n",
    " - Note: ToLatex doesn't seem to work on acos"
   ]
  },
  {
   "cell_type": "code",
   "execution_count": 6,
   "id": "6df9c456",
   "metadata": {},
   "outputs": [
    {
     "name": "stdout",
     "output_type": "stream",
     "text": [
      "Numeric:  1.369438406004566\n"
     ]
    },
    {
     "data": {
      "text/plain": [
       "<Expression \"acos(x0)\">"
      ]
     },
     "metadata": {},
     "output_type": "display_data"
    },
    {
     "name": "stdout",
     "output_type": "stream",
     "text": [
      "AD value:  1.369438406004566\n",
      "AD derivatives:  [-1.02062073]\n"
     ]
    }
   ],
   "source": [
    "# Numerical Example:\n",
    "numerical = math.acos(0.2)\n",
    "\n",
    "# Symbolic Example:\n",
    "x = Variable(\"x0\")\n",
    "expr = math.acos(x)\n",
    "\n",
    "# AutoDiff Example:\n",
    "x_ad = AutoDiffXd(0.2, [1.0])\n",
    "expr_ad = math.acos(x_ad)\n",
    "\n",
    "# Print results:\n",
    "print(\"Numeric: \", numerical)\n",
    "display(expr)\n",
    "print(\"AD value: \", expr_ad.value())\n",
    "print(\"AD derivatives: \", expr_ad.derivatives())"
   ]
  },
  {
   "cell_type": "markdown",
   "id": "a727c12f",
   "metadata": {},
   "source": [
    "###  [function]:  pydrake.math.arccos(*args, **kwargs)\n",
    "\n",
    "- Note: ToLatex doesn't seem to work on arccos"
   ]
  },
  {
   "cell_type": "code",
   "execution_count": 7,
   "id": "a4c94b04",
   "metadata": {},
   "outputs": [
    {
     "name": "stdout",
     "output_type": "stream",
     "text": [
      "Numeric:  1.369438406004566\n"
     ]
    },
    {
     "data": {
      "text/plain": [
       "<Expression \"acos(x0)\">"
      ]
     },
     "metadata": {},
     "output_type": "display_data"
    },
    {
     "name": "stdout",
     "output_type": "stream",
     "text": [
      "AD value:  1.369438406004566\n",
      "AD derivatives:  [-1.02062073]\n"
     ]
    }
   ],
   "source": [
    "# Numerical Example:\n",
    "numerical = math.arccos(0.2)\n",
    "\n",
    "# Symbolic Example:\n",
    "x = Variable(\"x0\")\n",
    "expr = math.arccos(x)\n",
    "\n",
    "# AutoDiff Example:\n",
    "x_ad = AutoDiffXd(0.2, [1.0])\n",
    "expr_ad = math.arccos(x_ad)\n",
    "\n",
    "# Print results:\n",
    "print(\"Numeric: \", numerical)\n",
    "display(expr)\n",
    "print(\"AD value: \", expr_ad.value())\n",
    "print(\"AD derivatives: \", expr_ad.derivatives())"
   ]
  },
  {
   "cell_type": "markdown",
   "id": "602d3514",
   "metadata": {},
   "source": [
    "###  [function]:  pydrake.math.arcsin(*args, **kwargs)\n",
    "\n",
    "- Note: ToLatex doesn't seem to work on arcsin"
   ]
  },
  {
   "cell_type": "code",
   "execution_count": 8,
   "id": "a2b3100f",
   "metadata": {},
   "outputs": [
    {
     "name": "stdout",
     "output_type": "stream",
     "text": [
      "Numeric:  0.2013579207903308\n"
     ]
    },
    {
     "data": {
      "text/plain": [
       "<Expression \"asin(x0)\">"
      ]
     },
     "metadata": {},
     "output_type": "display_data"
    },
    {
     "name": "stdout",
     "output_type": "stream",
     "text": [
      "AD value:  0.2013579207903308\n",
      "AD derivatives:  [1.02062073]\n"
     ]
    }
   ],
   "source": [
    "# Numerical Example:\n",
    "numerical = math.arcsin(0.2)\n",
    "\n",
    "# Symbolic Example:\n",
    "x = Variable(\"x0\")\n",
    "expr = math.arcsin(x)\n",
    "\n",
    "# AutoDiff Example:\n",
    "x_ad = AutoDiffXd(0.2, [1.0])\n",
    "expr_ad = math.arcsin(x_ad)\n",
    "\n",
    "# Print results:\n",
    "print(\"Numeric: \", numerical)\n",
    "display(expr)\n",
    "print(\"AD value: \", expr_ad.value())\n",
    "print(\"AD derivatives: \", expr_ad.derivatives())"
   ]
  },
  {
   "cell_type": "markdown",
   "id": "2d0b8b20",
   "metadata": {},
   "source": [
    "###   [function]: pydrake.math.arctan(*args, **kwargs)\n",
    "\n",
    "- Note: ToLatex doesn't seem to work on arctan"
   ]
  },
  {
   "cell_type": "code",
   "execution_count": 9,
   "id": "94d8c38e",
   "metadata": {},
   "outputs": [
    {
     "name": "stdout",
     "output_type": "stream",
     "text": [
      "Numeric:  0.19739555984988078\n"
     ]
    },
    {
     "data": {
      "text/plain": [
       "<Expression \"atan(x0)\">"
      ]
     },
     "metadata": {},
     "output_type": "display_data"
    },
    {
     "name": "stdout",
     "output_type": "stream",
     "text": [
      "AD value:  0.19739555984988078\n",
      "AD derivatives:  [0.96153846]\n"
     ]
    }
   ],
   "source": [
    "# Numerical Example:\n",
    "numerical = math.arctan(0.2)\n",
    "\n",
    "# Symbolic Example:\n",
    "x = Variable(\"x0\")\n",
    "expr = math.arctan(x)\n",
    "\n",
    "# AutoDiff Example:\n",
    "x_ad = AutoDiffXd(0.2, [1.0])\n",
    "expr_ad = math.arctan(x_ad)\n",
    "\n",
    "# Print results:\n",
    "print(\"Numeric: \", numerical)\n",
    "display(expr)\n",
    "print(\"AD value: \", expr_ad.value())\n",
    "print(\"AD derivatives: \", expr_ad.derivatives())"
   ]
  },
  {
   "cell_type": "markdown",
   "id": "8ca8bd54",
   "metadata": {},
   "source": [
    "###  [function]: pydrake.math.arctan2(*args, **kwargs)\n",
    "\n",
    "- Note: ToLatex doesn't seem to work on arctan2"
   ]
  },
  {
   "cell_type": "code",
   "execution_count": 10,
   "id": "0f6fd8b2",
   "metadata": {},
   "outputs": [
    {
     "name": "stdout",
     "output_type": "stream",
     "text": [
      "Numeric:  0.19739555984988078\n"
     ]
    },
    {
     "data": {
      "text/plain": [
       "<Expression \"atan2(x, y)\">"
      ]
     },
     "metadata": {},
     "output_type": "display_data"
    },
    {
     "name": "stdout",
     "output_type": "stream",
     "text": [
      "AD value:  0.19739555984988078\n",
      "AD derivatives:  [0.76923077]\n"
     ]
    }
   ],
   "source": [
    "# Numerical Example:\n",
    "numerical = math.arctan2(0.2, 1)\n",
    "\n",
    "# Symbolic Example:\n",
    "x = Variable(\"x\")\n",
    "y = Variable(\"y\")\n",
    "expr = math.arctan2(x, y)\n",
    "\n",
    "# AutoDiff Example:\n",
    "x_ad = AutoDiffXd(0.2, [1.0])\n",
    "y_ad = AutoDiffXd(1, [1.0])\n",
    "expr_ad = math.arctan2(x_ad, y_ad)\n",
    "\n",
    "# Print results:\n",
    "print(\"Numeric: \", numerical)\n",
    "display(expr)\n",
    "print(\"AD value: \", expr_ad.value())\n",
    "print(\"AD derivatives: \", expr_ad.derivatives())"
   ]
  },
  {
   "cell_type": "markdown",
   "id": "4112db47",
   "metadata": {},
   "source": [
    "###  [function]: pydrake.math.AreQuaternionsEqualForOrientation(*args, **kwargs)\n",
    "\n",
    "- 1. (quat1: pydrake.common.eigen_geometry.Quaternion, quat2: pydrake.common.eigen_geometry.Quaternion, tolerance: float) -> bool\n",
    "\n",
    "- 2. (quat1: pydrake.common.eigen_geometry.Quaternion_𝓣AutoDiffXd𝓤, quat2: pydrake.common.eigen_geometry.Quaternion_𝓣AutoDiffXd𝓤, tolerance: pydrake.autodiffutils.AutoDiffXd) -> bool\n",
    "\n",
    "- 3. (quat1: pydrake.common.eigen_geometry.Quaternion_𝓣Expression𝓤, quat2: pydrake.common.eigen_geometry.Quaternion_𝓣Expression𝓤, tolerance: pydrake.symbolic.Expression) -> pydrake.symbolic.Formula"
   ]
  },
  {
   "cell_type": "code",
   "execution_count": 11,
   "id": "6dbab7f9",
   "metadata": {},
   "outputs": [
    {
     "name": "stdout",
     "output_type": "stream",
     "text": [
      "Does quat1 = quat2?: False\n"
     ]
    }
   ],
   "source": [
    "from pydrake.common.eigen_geometry import Quaternion, Quaternion_\n",
    "from pydrake.all import MakeVectorVariable\n",
    "\n",
    "# Numeric Example:\n",
    "quat1 = Quaternion([1,0,0,0])\n",
    "quat2 = Quaternion([0,0,1,0])\n",
    "bool_numeric = math.AreQuaternionsEqualForOrientation(quat1, quat2, tolerance=1e-3)\n",
    "print(\"Does quat1 = quat2?:\", bool_numeric)"
   ]
  },
  {
   "cell_type": "code",
   "execution_count": 12,
   "id": "4b066133",
   "metadata": {},
   "outputs": [
    {
     "name": "stdout",
     "output_type": "stream",
     "text": [
      "Does quat1 = quat2?: False\n"
     ]
    }
   ],
   "source": [
    "# Symbolic Example. Not sure how to make this work with symbolic variables for w,x,y,z\n",
    "# then again, not sure why you would want to...\n",
    "\n",
    "quat1 = Quaternion_[Expression]([1,0,0,0])\n",
    "quat2 = Quaternion_[Expression]([0,0,1,0])\n",
    "\n",
    "bool_symbolic = math.AreQuaternionsEqualForOrientation(quat1, quat2, tolerance=Expression(1e-3))\n",
    "print(\"Does quat1 = quat2?:\", bool_symbolic)"
   ]
  },
  {
   "cell_type": "code",
   "execution_count": 13,
   "id": "b14923b6",
   "metadata": {},
   "outputs": [
    {
     "name": "stdout",
     "output_type": "stream",
     "text": [
      "Does quat1 = quat2?: False\n"
     ]
    }
   ],
   "source": [
    "# AutoDiffXd example\n",
    "\n",
    "quat1 = Quaternion_[AutoDiffXd]([1,0,0,0])\n",
    "quat2 = Quaternion_[AutoDiffXd]([0,1,0,0])\n",
    "\n",
    "bool_symbolic = math.AreQuaternionsEqualForOrientation(quat1, quat2, tolerance=1e-3)\n",
    "print(\"Does quat1 = quat2?:\", bool_symbolic)"
   ]
  },
  {
   "cell_type": "markdown",
   "id": "caca298d",
   "metadata": {},
   "source": [
    " ###  [function]: pydrake.math.asin(*args, **kwargs)\n",
    " \n",
    " - Note: ToLatex doesn't seem to work on arctan2"
   ]
  },
  {
   "cell_type": "code",
   "execution_count": 14,
   "id": "072d2e04",
   "metadata": {},
   "outputs": [
    {
     "name": "stdout",
     "output_type": "stream",
     "text": [
      "Numeric:  0.2013579207903308\n"
     ]
    },
    {
     "data": {
      "text/plain": [
       "<Expression \"asin(x)\">"
      ]
     },
     "metadata": {},
     "output_type": "display_data"
    },
    {
     "name": "stdout",
     "output_type": "stream",
     "text": [
      "AD value:  0.2013579207903308\n",
      "AD derivatives:  [1.02062073]\n"
     ]
    }
   ],
   "source": [
    "# Numerical Example:\n",
    "numerical = math.asin(0.2)\n",
    "\n",
    "# Symbolic Example:\n",
    "x = Variable(\"x\")\n",
    "expr = math.asin(x)\n",
    "\n",
    "# AutoDiff Example:\n",
    "x_ad = AutoDiffXd(0.2, [1.0])\n",
    "expr_ad = math.asin(x_ad)\n",
    "\n",
    "# Print results:\n",
    "print(\"Numeric: \", numerical)\n",
    "display(expr)\n",
    "print(\"AD value: \", expr_ad.value())\n",
    "print(\"AD derivatives: \", expr_ad.derivatives())"
   ]
  },
  {
   "cell_type": "markdown",
   "id": "0dc09d25",
   "metadata": {},
   "source": [
    "###  [function]: pydrake.math.atan(*args, **kwargs)"
   ]
  },
  {
   "cell_type": "code",
   "execution_count": 15,
   "id": "81aea1a2",
   "metadata": {},
   "outputs": [
    {
     "name": "stdout",
     "output_type": "stream",
     "text": [
      "Numeric:  0.19739555984988078\n"
     ]
    },
    {
     "data": {
      "text/plain": [
       "<Expression \"atan(x)\">"
      ]
     },
     "metadata": {},
     "output_type": "display_data"
    },
    {
     "name": "stdout",
     "output_type": "stream",
     "text": [
      "AD value:  0.19739555984988078\n",
      "AD derivatives:  [0.96153846]\n"
     ]
    }
   ],
   "source": [
    "# Numerical Example:\n",
    "numerical = math.atan(0.2)\n",
    "\n",
    "# Symbolic Example:\n",
    "x = Variable(\"x\")\n",
    "expr = math.atan(x)\n",
    "\n",
    "# AutoDiff Example:\n",
    "x_ad = AutoDiffXd(0.2, [1.0])\n",
    "expr_ad = math.atan(x_ad)\n",
    "\n",
    "# Print results:\n",
    "print(\"Numeric: \", numerical)\n",
    "display(expr)\n",
    "print(\"AD value: \", expr_ad.value())\n",
    "print(\"AD derivatives: \", expr_ad.derivatives())"
   ]
  },
  {
   "cell_type": "markdown",
   "id": "f9eccfc6",
   "metadata": {},
   "source": [
    "###  [function]: pydrake.math.atan2(*args, **kwargs)"
   ]
  },
  {
   "cell_type": "code",
   "execution_count": 16,
   "id": "83cc8123",
   "metadata": {},
   "outputs": [
    {
     "name": "stdout",
     "output_type": "stream",
     "text": [
      "Numeric:  0.19739555984988078\n"
     ]
    },
    {
     "data": {
      "text/plain": [
       "<Expression \"atan2(x, y)\">"
      ]
     },
     "metadata": {},
     "output_type": "display_data"
    },
    {
     "name": "stdout",
     "output_type": "stream",
     "text": [
      "AD value:  0.19739555984988078\n",
      "AD derivatives:  [0.76923077]\n"
     ]
    }
   ],
   "source": [
    "# Numerical Example:\n",
    "numerical = math.atan2(0.2, 1)\n",
    "\n",
    "# Symbolic Example:\n",
    "x = Variable(\"x\")\n",
    "y = Variable(\"y\")\n",
    "expr = math.atan2(x, y)\n",
    "\n",
    "# AutoDiff Example:\n",
    "x_ad = AutoDiffXd(0.2, [1.0])\n",
    "y_ad = AutoDiffXd(1, [1.0])\n",
    "expr_ad = math.atan2(x_ad, y_ad)\n",
    "\n",
    "# Print results:\n",
    "print(\"Numeric: \", numerical)\n",
    "display(expr)\n",
    "print(\"AD value: \", expr_ad.value())\n",
    "print(\"AD derivatives: \", expr_ad.derivatives())"
   ]
  },
  {
   "cell_type": "markdown",
   "id": "09d9b0a8",
   "metadata": {},
   "source": [
    "### [function]: pydrake.math.BalanceQuadraticForms\n",
    "\n",
    "pydrake.math.BalanceQuadraticForms(S: numpy.ndarray[numpy.float64[m, n], flags.f_contiguous], P: numpy.ndarray[numpy.float64[m, n], flags.f_contiguous]) → numpy.ndarray[numpy.float64[m, n]]\n",
    "\n",
    "Given two quadratic forms $x^T S x > 0$ and $x^T P x$, with $P$ symmetric and full rank, finds a change of variables $x = Ty$, which simultaneously diagonalizes both forms (as inspired by “balanced truncation” in model-order reduction). In this note, we use abs(M) to indicate the elementwise absolute value."
   ]
  },
  {
   "cell_type": "code",
   "execution_count": 17,
   "id": "ae56c9b4",
   "metadata": {},
   "outputs": [
    {
     "data": {
      "text/plain": [
       "array([[1.        , 0.        , 0.        ],\n",
       "       [0.        , 0.75983569, 0.        ],\n",
       "       [0.        , 0.        , 0.6389431 ]])"
      ]
     },
     "execution_count": 17,
     "metadata": {},
     "output_type": "execute_result"
    }
   ],
   "source": [
    "m = 3\n",
    "n = 3\n",
    "\n",
    "x = np.random.random((m,n))\n",
    "S = np.array([[1, 0, 0],\n",
    "              [0, 3, 0],\n",
    "              [0, 0, 6]])\n",
    "\n",
    "P = np.eye(3)\n",
    "\n",
    "T = math.BalanceQuadraticForms(S=S, P=P)\n",
    "T"
   ]
  },
  {
   "cell_type": "markdown",
   "id": "64f479b0",
   "metadata": {},
   "source": [
    "## [class]: pydrake.math.BarycentricMesh\n",
    "\n",
    "- NOTE: This example needs alot of work and should really build a BarycentricMeshSystem. This is built in drake/systems/controllers/dynamic_programming.cc in C++, but we want to build the whole thing in Python.\n",
    "\n",
    "Represents a multi-linear function (from vector inputs to vector outputs) by interpolating between points on a mesh using (triangular) barycentric interpolation.\n",
    "\n",
    "For a technical description of barycentric interpolation, see e.g. Remi Munos and Andrew Moore, “Barycentric Interpolators for Continuous Space and Time Reinforcement Learning”, NIPS 1998"
   ]
  },
  {
   "cell_type": "code",
   "execution_count": 18,
   "id": "5ade1b51",
   "metadata": {
    "scrolled": false
   },
   "outputs": [
    {
     "name": "stdout",
     "output_type": "stream",
     "text": [
      "input_size:  1\n",
      "num_interpolants:  2\n",
      "Ti:  [5 4] T:  [1. 0.]\n"
     ]
    },
    {
     "data": {
      "image/png": "[encoded data removed]",
      "text/plain": [
       "<Figure size 1080x720 with 1 Axes>"
      ]
     },
     "metadata": {
      "needs_background": "light"
     },
     "output_type": "display_data"
    }
   ],
   "source": [
    "import numpy as np\n",
    "import matplotlib.pyplot as plt\n",
    "\n",
    "# takes a List[Set[float]]\n",
    "#arg0 = [{1.0,2.0},{3.0,4.0},{5.0,6.0}]\n",
    "\n",
    "# Create a NumPy array with some sample data\n",
    "#numpy_array = np.array([[1.2, 2.3, 3.4],\n",
    "#                        [2.3, 4.5, 2.9],\n",
    "#                        [1.2, 3.4, 5.6]])\n",
    "\n",
    "x = np.array([np.linspace(0, 10, 11)])\n",
    "\n",
    "# Convert the NumPy array to the desired format\n",
    "input_grid = [set(row) for row in x]\n",
    "\n",
    "\n",
    "mesh = math.BarycentricMesh(input_grid)\n",
    "\n",
    "ninputs = mesh.get_input_size()\n",
    "n_indices = mesh.get_num_interpolants()\n",
    "\n",
    "print(\"input_size: \",ninputs)\n",
    "print(\"num_interpolants: \", n_indices)\n",
    "\n",
    "# Vec, size ninputs\n",
    "vec = 5*np.ones(ninputs)\n",
    "[Ti, T] = mesh.EvalBarycentricWeights(vec)\n",
    "print(\"Ti: \", Ti, \"T: \", T)\n",
    "\n",
    "# Define a function to build mesh\n",
    "def vector_func(x):\n",
    "    return np.sin(x)\n",
    "\n",
    "# Evaluates vector_func at all input mesh points and extracts \n",
    "# the mesh value matrix that should be used to approximate the \n",
    "# function with this barycentric interpolation.\n",
    "mesh_values = mesh.MeshValuesFrom(vector_func)\n",
    "mshpts = mesh.get_all_mesh_points()\n",
    "\n",
    "# Plot\n",
    "plt.figure(figsize=(15, 10))\n",
    "xsmooth = np.linspace(0, 10, 100)\n",
    "plt.plot(xsmooth, vector_func(xsmooth), \"--\", alpha=0.4, label=\"f(x)\")\n",
    "plt.plot(mshpts, mesh_values, \"o\")\n",
    "plt.title(\"Mesh points/values over vector_func\")\n",
    "plt.show()"
   ]
  },
  {
   "cell_type": "markdown",
   "id": "505755f5",
   "metadata": {},
   "source": [
    "## [class]: pydrake.math.BsplineBasis\n",
    "\n",
    "Given a set of non-descending breakpoints t₀ ≤ t₁ ≤ ⋅⋅⋅ ≤ tₘ, a B-spline basis of order k is a set of n + 1 (where n = m - k) piecewise polynomials of degree k - 1 defined over those breakpoints. The elements of this set are called “B-splines”. The vector (t₀, t₁, …, tₘ)’ is referred to as the “knot vector” of the basis and its elements are referred to as “knots”.\n",
    "\n",
    "At a breakpoint with multiplicity p (i.e. a breakpoint that appears p times in the knot vector), B-splines are guaranteed to have Cᵏ⁻ᵖ⁻¹ continuity.\n",
    "\n",
    "A B-spline curve using a B-spline basis B, is a parametric curve mapping parameter values in [tₖ₋₁, tₙ₊₁] to a vector space V. For t ∈ [tₖ₋₁, tₙ₊₁] the value of the curve is given by the linear combination of n + 1 control points, pᵢ ∈ V, with the elements of B evaluated at t.\n",
    "\n",
    "For more information on B-splines and their uses, see (for example) Patrikalakis et al. [1].\n",
    "\n",
    "[1] https://web.mit.edu/hyperbook/Patrikalakis-Maekawa-Cho/node15.html\n",
    "\n",
    "\n",
    "***Note to self:*** what would Expression and AutoDiffXd versions do?!?"
   ]
  },
  {
   "cell_type": "code",
   "execution_count": 19,
   "id": "d67e0ce5",
   "metadata": {},
   "outputs": [
    {
     "data": {
      "image/png": "[encoded data removed]",
      "text/plain": [
       "<Figure size 1080x720 with 1 Axes>"
      ]
     },
     "metadata": {
      "needs_background": "light"
     },
     "output_type": "display_data"
    }
   ],
   "source": [
    "import matplotlib.pyplot as plt\n",
    "import numpy as np\n",
    "from pydrake import math\n",
    "\n",
    "bspline = math.BsplineBasis()\n",
    "\n",
    "order = 3\n",
    "num_basis_funcs = 5\n",
    "\n",
    "# kClampedUniform will clamp the curve to the inital/final values\n",
    "bspline = math.BsplineBasis(order=order, num_basis_functions=num_basis_funcs,\n",
    "               type=math.KnotVectorType.kClampedUniform, #kUniform,\n",
    "               initial_parameter_value=1.,\n",
    "               final_parameter_value=16.)\n",
    "\n",
    "\n",
    "knots = bspline.knots()\n",
    "nk = len(knots)\n",
    "x0 = bspline.initial_parameter_value()\n",
    "xf = bspline.final_parameter_value()\n",
    "\n",
    "# Generate (but repeateable) random control points\n",
    "np.random.seed(seed=1)\n",
    "offset = 0\n",
    "ctrl_ptsx = np.linspace(x0 - offset, xf + offset, num_basis_funcs)\n",
    "ctrl_ptsy = np.random.random(num_basis_funcs)\n",
    "ctrl_pts = np.vstack((ctrl_ptsx, ctrl_ptsy)).T\n",
    "\n",
    "# Evaluate the curve at 100 points...\n",
    "xy = []\n",
    "t = np.linspace(x0, xf, 100)\n",
    "for x in t:\n",
    "    val = bspline.EvaluateCurve(control_points=ctrl_pts, parameter_value=x)\n",
    "    xy.append(val)\n",
    "xy = np.vstack(xy)\n",
    "\n",
    "fig, ax = plt.subplots(figsize=(15, 10))\n",
    "ctrl_pts = np.vstack(ctrl_pts)\n",
    "ax.axvline(x=x0)\n",
    "ax.axvline(x=xf)\n",
    "\n",
    "ax.plot(xy[:,0], xy[:,1], color = \"red\", label='Bspline Drake')\n",
    "ax.plot(ctrl_pts[:,0], ctrl_pts[:,1], label=\"'handles'\")\n",
    "ax.plot(ctrl_ptsx, ctrl_ptsy, \"o\",markersize=10, alpha=0.5, color=\"orange\", label=\"ctrl_pts\")\n",
    "\n",
    "\n",
    "ax.plot(ctrl_ptsx, ctrl_ptsy, \"o\",markersize=10, alpha=0.5, color=\"orange\", label=\"ctrl_pts\")\n",
    "\n",
    "ax.grid(True)\n",
    "ax.legend(loc='upper right')\n",
    "plt.show()"
   ]
  },
  {
   "cell_type": "markdown",
   "id": "43fa6385",
   "metadata": {},
   "source": [
    "### [Function]: pydrake.math.CalculateAngularVelocityExpressedInBFromQuaternionDt\n",
    "\n",
    "This function calculates angular velocity from a quaternion and its time- derivative. Algorithm from [Kane, 1983] Section 1.13, Pages 58-59."
   ]
  },
  {
   "cell_type": "code",
   "execution_count": 20,
   "id": "413a42b0",
   "metadata": {},
   "outputs": [
    {
     "name": "stdout",
     "output_type": "stream",
     "text": [
      "Angular velocity:  [1.2 0.2 0.2]\n"
     ]
    }
   ],
   "source": [
    "from pydrake.common.eigen_geometry import Quaternion, Quaternion_\n",
    "\n",
    "# quat_AB is analogous to the rotation matrix R_AB.\n",
    "quat_AB = Quaternion([1,0,0,0])\n",
    "\n",
    "# Time-derivative of quat_AB, i.e. [ẇ, ẋ, ẏ, ż].\n",
    "# This can't be a quaternion object, because it will\n",
    "# almost necessarily not have unit-norm, so it's np.array:\n",
    "quatDt = np.array([0.0,0.6,0.1,0.1])\n",
    "\n",
    "w_AB_B = math.CalculateAngularVelocityExpressedInBFromQuaternionDt(quat_AB, quatDt)\n",
    "\n",
    "print(\"Angular velocity: \", w_AB_B)"
   ]
  },
  {
   "cell_type": "markdown",
   "id": "266815f3",
   "metadata": {},
   "source": [
    "### [Function]: pydrake.math.CalculateQuaternionDtConstraintViolation\n",
    "\n",
    "This function calculates how well a quaternion and its time-derivative satisfy the quaternion time-derivative constraint specified in [Kane, 1983] Section 1.13, equations 12-13, page 59. For a quaternion [w, x, y, z], the quaternion must satisfy: w^2 + x^2 + y^2 + z^2 = 1, hence its time-derivative must satisfy: 2*(w*ẇ + x*ẋ + y*ẏ + z*ż) = 0."
   ]
  },
  {
   "cell_type": "code",
   "execution_count": 21,
   "id": "71fb6fd9",
   "metadata": {},
   "outputs": [
    {
     "data": {
      "text/plain": [
       "0.0"
      ]
     },
     "execution_count": 21,
     "metadata": {},
     "output_type": "execute_result"
    }
   ],
   "source": [
    "from pydrake.common.eigen_geometry import Quaternion, Quaternion_\n",
    "\n",
    "quat = Quaternion([1,0,0,0])\n",
    "\n",
    "# Time-derivative of quat_AB, i.e. [ẇ, ẋ, ẏ, ż].\n",
    "# This can't be a quaternion object, because it will\n",
    "# almost necessarily not have unit-norm, so it's np.array:\n",
    "quatDt = np.array([0.0,0.6,0.1,0.1])\n",
    "\n",
    "math.CalculateQuaternionDtConstraintViolation(quat, quatDt)"
   ]
  },
  {
   "cell_type": "code",
   "execution_count": 22,
   "id": "631a165f",
   "metadata": {},
   "outputs": [
    {
     "name": "stdout",
     "output_type": "stream",
     "text": [
      "Constraint violation of:  2.0\n",
      "Probably not a valid combo...\n"
     ]
    }
   ],
   "source": [
    "quat = Quaternion([1,0,0,0])\n",
    "quatDt = np.array([1.0,0.6,0.1,0.1])\n",
    "\n",
    "quaternionDt_constraint_violation = math.CalculateQuaternionDtConstraintViolation(quat, quatDt)\n",
    "\n",
    "if (np.isclose(np.abs(quaternionDt_constraint_violation), 0, atol=1e-06)):\n",
    "    print(\"No constraint violation.\")\n",
    "else:\n",
    "    print(\"Constraint violation of: \", quaternionDt_constraint_violation)\n",
    "    print(\"Probably not a valid combo...\")"
   ]
  },
  {
   "cell_type": "markdown",
   "id": "99ee8028",
   "metadata": {},
   "source": [
    "### [Function]: pydrake.math.CalculateQuaternionDtFromAngularVelocityExpressedInB\n",
    "\n",
    "This function calculates a quaternion’s time-derivative from its quaternion and angular velocity. Algorithm from [Kane, 1983] Section 1.13, Pages 58-59."
   ]
  },
  {
   "cell_type": "code",
   "execution_count": 23,
   "id": "77cdd8f0",
   "metadata": {},
   "outputs": [
    {
     "name": "stdout",
     "output_type": "stream",
     "text": [
      "quatDt, i.e [ẇ, ẋ, ẏ, ż]:  [-0.    0.    0.3   0.05]\n"
     ]
    }
   ],
   "source": [
    "from pydrake.common.eigen_geometry import Quaternion, Quaternion_\n",
    "\n",
    "quat = Quaternion([1,0,0,0])\n",
    "w_AB_B = np.array([0.0,0.6,0.1]).T\n",
    "\n",
    "quatDt = math.CalculateQuaternionDtFromAngularVelocityExpressedInB(quat, w_AB_B)\n",
    "\n",
    "print(\"quatDt, i.e [ẇ, ẋ, ẏ, ż]: \", quatDt)"
   ]
  },
  {
   "cell_type": "markdown",
   "id": "fcc258e6",
   "metadata": {},
   "source": [
    "### [Function]: pydrake.math.ceil\n",
    "\n",
    "The ceil of the scalar x is the smallest integer $i$, such that $i >= x$. It is often denoted as $[x]$"
   ]
  },
  {
   "cell_type": "code",
   "execution_count": 24,
   "id": "7eaa2b95",
   "metadata": {
    "scrolled": true
   },
   "outputs": [
    {
     "name": "stdout",
     "output_type": "stream",
     "text": [
      "Numeric:  3.0\n"
     ]
    },
    {
     "data": {
      "text/markdown": [
       "Symbolic: $\\lceil x0 \\rceil$"
      ],
      "text/plain": [
       "<IPython.core.display.Markdown object>"
      ]
     },
     "metadata": {},
     "output_type": "display_data"
    },
    {
     "name": "stdout",
     "output_type": "stream",
     "text": [
      "AD value:  2.9\n",
      "AD derivatives:  [1.]\n"
     ]
    }
   ],
   "source": [
    "# Numerical Example:\n",
    "numerical = math.ceil(2.9)\n",
    "\n",
    "# Symbolic Example:\n",
    "x = Variable(\"x0\")\n",
    "expr = math.ceil(x)\n",
    "\n",
    "# AutoDiff Example:\n",
    "x_ad = AutoDiffXd(2.9, [1.0])\n",
    "expr_ad = math.abs(x_ad)\n",
    "\n",
    "# Print results:\n",
    "print(\"Numeric: \", numerical)\n",
    "display(Markdown(\"Symbolic: $\" + ToLatex(expr) + \"$\"))\n",
    "print(\"AD value: \", expr_ad.value())\n",
    "print(\"AD derivatives: \", expr_ad.derivatives())"
   ]
  },
  {
   "cell_type": "markdown",
   "id": "ab200fdd",
   "metadata": {},
   "source": [
    "### [Function]: pydrake.math.ClosestQuaternion\n",
    "\n",
    "Returns a unit quaternion that represents the same orientation as quat2, and has the “shortest” geodesic distance on the unit sphere to quat1."
   ]
  },
  {
   "cell_type": "code",
   "execution_count": 25,
   "id": "db77c58c",
   "metadata": {},
   "outputs": [
    {
     "name": "stdout",
     "output_type": "stream",
     "text": [
      "Quaternion(w=-1.0, x=-0.0, y=-0.0, z=-0.0)\n"
     ]
    }
   ],
   "source": [
    "from pydrake.common.eigen_geometry import Quaternion, Quaternion_\n",
    "\n",
    "quat = Quaternion([-0.25692512, -0.00299913, -0.91673281,  0.30591084])\n",
    "quat2 = Quaternion([ 1,  0, 0,  0])\n",
    "\n",
    "\n",
    "quat_geo = math.ClosestQuaternion(quat, quat2)\n",
    "\n",
    "# Notice the sign change on 'w' in this example.\n",
    "print(quat_geo)"
   ]
  },
  {
   "cell_type": "markdown",
   "id": "7c4696fc",
   "metadata": {},
   "source": [
    "### [Function]: pydrake.math.ComputeNumericalGradient\n",
    "\n",
    "Compute the gradient of a function f(x) through numerical difference.\n",
    "\n",
    "***calc_func:*** Callable[[numpy.ndarray[numpy.float64[m, 1]]], numpy.ndarray[numpy.float64[m, 1]]], \n",
    "- calc_func(x, &y) computes the value of f(x), and stores the value in y. calc_func is responsible for properly resizing the output y when it consists of an Eigen vector of Eigen::Dynamic size.\n",
    "\n",
    "***x:*** numpy.ndarray[numpy.float64[m, 1]], \n",
    "- The point at which the numerical gradient is computed.\n",
    "\n",
    "***option:*** pydrake.math.NumericalGradientOption = <NumericalGradientOption(<NumericalGradientMethod.kForward: 0>)>) \n",
    "- The options for computing numerical gradient.\n",
    "\n",
    "***Returns:*** numpy.ndarray[numpy.float64[m, n]"
   ]
  },
  {
   "cell_type": "code",
   "execution_count": 26,
   "id": "5cbc02f9",
   "metadata": {},
   "outputs": [
    {
     "name": "stdout",
     "output_type": "stream",
     "text": [
      "Default(forward):  [[1.]]\n",
      "kBackward:  [[0.]]\n"
     ]
    }
   ],
   "source": [
    "###################################################################\n",
    "### Didn't notice existing @code example at first and did this: ###\n",
    "###################################################################\n",
    "\n",
    "# Weird composite function that will have different derivatives\n",
    "# to take advantage of the fact that we have different methods we can use:\n",
    "def f(x):\n",
    "    if (x >= 0):\n",
    "        return np.array([math.sin(x)])\n",
    "    else:\n",
    "        return np.array([0])\n",
    "\n",
    "x = np.array([0.0])\n",
    "\n",
    "grad_default = math.ComputeNumericalGradient(f, x)\n",
    "print(\"Default(forward): \", grad_default)\n",
    "\n",
    "# Available methods:\n",
    "#method = math.NumericalGradientMethod.kForward    # 0\n",
    "#method = math.NumericalGradientMethod.kBackward   # 1\n",
    "#method = math.NumericalGradientMethod.kCentral    # 2\n",
    "\n",
    "method = math.NumericalGradientMethod.kBackward   # 1\n",
    "opts = math.NumericalGradientOption(method, function_accuracy=1e-12)\n",
    "grad_with_opts = math.ComputeNumericalGradient(f, x, opts)\n",
    "print(\"kBackward: \", grad_with_opts)"
   ]
  },
  {
   "cell_type": "code",
   "execution_count": 27,
   "id": "e7e2e9d3",
   "metadata": {},
   "outputs": [
    {
     "data": {
      "text/plain": [
       "array([[ 1.        ,  0.        ,  0.        ],\n",
       "       [ 2.        ,  1.        ,  0.        ],\n",
       "       [ 0.90929743, -0.41614687,  0.        ]])"
      ]
     },
     "execution_count": 27,
     "metadata": {},
     "output_type": "execute_result"
    }
   ],
   "source": [
    "###################################################################\n",
    "### Direct translation of existing @code example: #################\n",
    "###################################################################\n",
    "foo = lambda x: np.array([x[0], x[0]*x[1], x[0]*np.sin(x[1]) ])\n",
    "x_val = np.array([1,2,3])\n",
    "J = math.ComputeNumericalGradient(foo, x_val)\n",
    "J"
   ]
  },
  {
   "cell_type": "markdown",
   "id": "7df113bb",
   "metadata": {},
   "source": [
    "### [Function]: pydrake.math.ContinuousAlgebraicRiccatiEquation\n",
    "\n",
    "Computes the unique stabilizing solution S to the continuous-time algebraic Riccati equation:\n",
    "\n",
    "$$ SA + A'S - SBR^{-1}B'S + Q = 0 $$"
   ]
  },
  {
   "cell_type": "code",
   "execution_count": 28,
   "id": "15603845",
   "metadata": {},
   "outputs": [
    {
     "data": {
      "text/plain": [
       "array([[21.72792206, 14.48528137],\n",
       "       [14.48528137,  9.65685425]])"
      ]
     },
     "execution_count": 28,
     "metadata": {},
     "output_type": "execute_result"
    }
   ],
   "source": [
    "A = np.array([[4, 3], [-4.5, -3.5]])\n",
    "B = np.array([[1], [-1]])\n",
    "Q = np.array([[9, 6], [6, 4.]])\n",
    "R = np.eye(1)\n",
    "\n",
    "math.ContinuousAlgebraicRiccatiEquation(A, B, Q, R)"
   ]
  },
  {
   "cell_type": "markdown",
   "id": "0aa92fcb",
   "metadata": {},
   "source": [
    "### [Function]: pydrake.math.cos"
   ]
  },
  {
   "cell_type": "code",
   "execution_count": 29,
   "id": "29ee90f1",
   "metadata": {},
   "outputs": [
    {
     "name": "stdout",
     "output_type": "stream",
     "text": [
      "Numeric:  1.0\n"
     ]
    },
    {
     "data": {
      "text/markdown": [
       "Symbolic: $\\cos{x0}$"
      ],
      "text/plain": [
       "<IPython.core.display.Markdown object>"
      ]
     },
     "metadata": {},
     "output_type": "display_data"
    },
    {
     "name": "stdout",
     "output_type": "stream",
     "text": [
      "AD value:  1.0\n",
      "AD derivatives:  [-0.]\n"
     ]
    }
   ],
   "source": [
    "# Numerical Example:\n",
    "numerical = math.cos(0)\n",
    "\n",
    "# Symbolic Example:\n",
    "x = Variable(\"x0\")\n",
    "expr = math.cos(x)\n",
    "\n",
    "# AutoDiff Example:\n",
    "x_ad = AutoDiffXd(0, [1.0])\n",
    "expr_ad = math.cos(x_ad)\n",
    "\n",
    "# Print results:\n",
    "print(\"Numeric: \", numerical)\n",
    "display(Markdown(\"Symbolic: $\" + ToLatex(expr) + \"$\"))\n",
    "print(\"AD value: \", expr_ad.value())\n",
    "print(\"AD derivatives: \", expr_ad.derivatives())"
   ]
  },
  {
   "cell_type": "markdown",
   "id": "c161240b",
   "metadata": {},
   "source": [
    "### [Function]: pydrake.math.cosh"
   ]
  },
  {
   "cell_type": "code",
   "execution_count": 30,
   "id": "b5783eee",
   "metadata": {},
   "outputs": [
    {
     "name": "stdout",
     "output_type": "stream",
     "text": [
      "Numeric:  1.0\n"
     ]
    },
    {
     "data": {
      "text/markdown": [
       "Symbolic: $\\cosh{x0}$"
      ],
      "text/plain": [
       "<IPython.core.display.Markdown object>"
      ]
     },
     "metadata": {},
     "output_type": "display_data"
    },
    {
     "name": "stdout",
     "output_type": "stream",
     "text": [
      "AD value:  1.0\n",
      "AD derivatives:  [0.]\n"
     ]
    }
   ],
   "source": [
    "# Numerical Example:\n",
    "numerical = math.cosh(0)\n",
    "\n",
    "# Symbolic Example:\n",
    "x = Variable(\"x0\")\n",
    "expr = math.cosh(x)\n",
    "\n",
    "# AutoDiff Example:\n",
    "x_ad = AutoDiffXd(0, [1.0])\n",
    "expr_ad = math.cosh(x_ad)\n",
    "\n",
    "# Print results:\n",
    "print(\"Numeric: \", numerical)\n",
    "display(Markdown(\"Symbolic: $\" + ToLatex(expr) + \"$\"))\n",
    "print(\"AD value: \", expr_ad.value())\n",
    "print(\"AD derivatives: \", expr_ad.derivatives())"
   ]
  },
  {
   "cell_type": "markdown",
   "id": "634835c8",
   "metadata": {},
   "source": [
    "### [Function]: pydrake.math.DecomposePositiveQuadraticForm\n",
    "\n",
    "Rewrite a quadratic form xᵀQx + bᵀx + c to (Rx+d)ᵀ(Rx+d) where\n",
    "- RᵀR = Q\n",
    "- Rᵀd = b / 2\n",
    "- dᵀd = c\n",
    "\n",
    "See https://drake.mit.edu/pydrake/pydrake.math.html?highlight=numericalgradientoption#pydrake.math.DecomposePositiveQuadraticForm\n",
    "\n",
    "For additional notes."
   ]
  },
  {
   "cell_type": "code",
   "execution_count": 31,
   "id": "9cde111d",
   "metadata": {},
   "outputs": [
    {
     "name": "stdout",
     "output_type": "stream",
     "text": [
      "R:\n",
      " [[1. 0. 0.]\n",
      " [0. 1. 0.]\n",
      " [0. 0. 1.]\n",
      " [0. 0. 0.]]\n",
      "d:\n",
      " [[0.5]\n",
      " [0.5]\n",
      " [0.5]\n",
      " [0.5]]\n"
     ]
    }
   ],
   "source": [
    "# Q, b, c\n",
    "Q = np.eye(3)\n",
    "b = np.array([1,1,1]).T\n",
    "c = np.array([1])\n",
    "\n",
    "# Tol is optional, determines precision with which eigen-values are checked.\n",
    "[R, d] = math.DecomposePositiveQuadraticForm(Q, b, c, tol=1e-12)\n",
    "\n",
    "print(\"R:\\n\", R)\n",
    "print(\"d:\\n\", d)"
   ]
  },
  {
   "cell_type": "markdown",
   "id": "ac680424",
   "metadata": {},
   "source": [
    "### [Function]: pydrake.math.DecomposePSDmatrixIntoXtransposeTimesX\n",
    "\n",
    "Find one (of possibly many) $ x^T x $ for some $Y$."
   ]
  },
  {
   "cell_type": "code",
   "execution_count": 32,
   "id": "9991371f",
   "metadata": {},
   "outputs": [
    {
     "data": {
      "text/plain": [
       "array([[1., 0., 0.],\n",
       "       [0., 2., 0.],\n",
       "       [0., 0., 3.]])"
      ]
     },
     "execution_count": 32,
     "metadata": {},
     "output_type": "execute_result"
    }
   ],
   "source": [
    "# Y must be posdef obviously\n",
    "Y = np.array([[1, 0, 0],\n",
    "              [0, 4, 0],\n",
    "              [0, 0, 9]])\n",
    "\n",
    "# Optional\n",
    "zero_tol=1e-12\n",
    "\n",
    "math.DecomposePSDmatrixIntoXtransposeTimesX(Y, zero_tol=zero_tol)"
   ]
  },
  {
   "cell_type": "markdown",
   "id": "52536cc4",
   "metadata": {},
   "source": [
    "### [Function:] pydrake.math.DiscreteAlgebraicRiccatiEquation\n",
    "\n",
    "You know the drill by now...\n",
    "\n",
    "$$ A^TXA − X − A^TXB(B^TXB + R)^{-1}B^TXA + Q = 0 $$"
   ]
  },
  {
   "cell_type": "code",
   "execution_count": 33,
   "id": "46bd44c2",
   "metadata": {},
   "outputs": [
    {
     "data": {
      "text/plain": [
       "array([[1.22900286, 0.1572988 ],\n",
       "       [0.1572988 , 1.33793404]])"
      ]
     },
     "execution_count": 33,
     "metadata": {},
     "output_type": "execute_result"
    }
   ],
   "source": [
    "A = np.array([[0.8, 0.2], [0.4, 0.6]])\n",
    "B = np.array([[0.5], [0.2]])\n",
    "Q = np.array([[1.0, 0.0], [0.0, 1.0]])\n",
    "R = np.array([[0.1]])\n",
    "\n",
    "math.DiscreteAlgebraicRiccatiEquation(A, B, Q, R)"
   ]
  },
  {
   "cell_type": "markdown",
   "id": "a9cb37f3",
   "metadata": {},
   "source": [
    "### [Function:] pydrake.math.exp"
   ]
  },
  {
   "cell_type": "code",
   "execution_count": 34,
   "id": "195ebc36",
   "metadata": {},
   "outputs": [
    {
     "name": "stdout",
     "output_type": "stream",
     "text": [
      "Numeric:  1.0\n"
     ]
    },
    {
     "data": {
      "text/markdown": [
       "Symbolic: $e^{x0}$"
      ],
      "text/plain": [
       "<IPython.core.display.Markdown object>"
      ]
     },
     "metadata": {},
     "output_type": "display_data"
    },
    {
     "name": "stdout",
     "output_type": "stream",
     "text": [
      "AD value:  1.0\n",
      "AD derivatives:  [1.]\n"
     ]
    }
   ],
   "source": [
    "# Numerical Example:\n",
    "numerical = math.exp(0)\n",
    "\n",
    "# Symbolic Example:\n",
    "x = Variable(\"x0\")\n",
    "expr = math.exp(x)\n",
    "\n",
    "# AutoDiff Example:\n",
    "x_ad = AutoDiffXd(0, [1.0])\n",
    "expr_ad = math.exp(x_ad)\n",
    "\n",
    "# Print results:\n",
    "print(\"Numeric: \", numerical)\n",
    "display(Markdown(\"Symbolic: $\" + ToLatex(expr) + \"$\"))\n",
    "print(\"AD value: \", expr_ad.value())\n",
    "print(\"AD derivatives: \", expr_ad.derivatives())"
   ]
  },
  {
   "cell_type": "markdown",
   "id": "34e6d3ce",
   "metadata": {},
   "source": [
    "### [Function:] pydrake.math.floor\n",
    "\n",
    "The floor of the scalar $x$ is the largest integer $i$, such that $i <= x$. It is often denoted as $\\lfloor x \\rfloor$.\n",
    "\n",
    "***NOTE: AutoDiffXd returns a float. You don't call value(), and you can't call derivative***"
   ]
  },
  {
   "cell_type": "code",
   "execution_count": 35,
   "id": "6c0a1624",
   "metadata": {},
   "outputs": [
    {
     "name": "stdout",
     "output_type": "stream",
     "text": [
      "Numeric:  0.0\n"
     ]
    },
    {
     "data": {
      "text/markdown": [
       "Symbolic: $\\lfloor x0 \\rfloor$"
      ],
      "text/plain": [
       "<IPython.core.display.Markdown object>"
      ]
     },
     "metadata": {},
     "output_type": "display_data"
    },
    {
     "name": "stdout",
     "output_type": "stream",
     "text": [
      "AD value:  0.0\n"
     ]
    }
   ],
   "source": [
    "# Numerical Example:\n",
    "numerical = math.floor(0)\n",
    "\n",
    "# Symbolic Example:\n",
    "x = Variable(\"x0\")\n",
    "expr = math.floor(x)\n",
    "\n",
    "# AutoDiff Example:\n",
    "x_ad = AutoDiffXd(0, [1.0])\n",
    "expr_ad = math.floor(x_ad)\n",
    "\n",
    "# Print results:\n",
    "print(\"Numeric: \", numerical)\n",
    "display(Markdown(\"Symbolic: $\" + ToLatex(expr) + \"$\"))\n",
    "print(\"AD value: \", expr_ad)"
   ]
  },
  {
   "cell_type": "markdown",
   "id": "c6b70120",
   "metadata": {},
   "source": [
    "### [Function]: pydrake.math.inv\n",
    "\n",
    "- ***REVISIT FOR AutoDiffXd and Symbolic***"
   ]
  },
  {
   "cell_type": "code",
   "execution_count": 36,
   "id": "62a92465",
   "metadata": {},
   "outputs": [
    {
     "name": "stdout",
     "output_type": "stream",
     "text": [
      "Numeric:  [[-0.69492062 -0.19200697  0.69297823]\n",
      " [ 0.71352098 -0.30378506  0.63134967]\n",
      " [ 0.08929286  0.93319228  0.34810752]]\n"
     ]
    }
   ],
   "source": [
    "A = np.array([ [-0.6949205,  0.7135210,  0.0892929],\n",
    "               [-0.1920070, -0.3037851,  0.9331924],\n",
    "               [0.6929781,  0.6313497,  0.3481075 ] ])\n",
    "\n",
    "numerical = math.inv(A)\n",
    "print(\"Numeric: \", numerical)\n",
    "\n",
    "# Not sure how to easily make a symbolic matrix except as\n",
    "# the symbolic version of a numeric matrix. i.e. with all scalars"
   ]
  },
  {
   "cell_type": "markdown",
   "id": "b8035e5a",
   "metadata": {},
   "source": [
    "### [Function]: pydrake.math.is_quaternion_in_canonical_form\n",
    "\n",
    "This function tests whether a quaternion is in “canonical form” meaning that it tests whether the quaternion [w, x, y, z] has a non-negative w value. Example: [-0.3, +0.4, +0.5, +0.707] is not in canonical form."
   ]
  },
  {
   "cell_type": "code",
   "execution_count": 37,
   "id": "8fb42359",
   "metadata": {},
   "outputs": [
    {
     "name": "stdout",
     "output_type": "stream",
     "text": [
      "False\n",
      "True\n"
     ]
    }
   ],
   "source": [
    "from pydrake.common.eigen_geometry import Quaternion, Quaternion_\n",
    "\n",
    "quat = Quaternion ([-0.30002265,  0.4000302 ,  0.50003775,  0.70705338])\n",
    "quat2 = Quaternion([ 0.30002265, -0.4000302 , -0.50003775, -0.70705338])\n",
    "\n",
    "print(math.is_quaternion_in_canonical_form(quat))\n",
    "print(math.is_quaternion_in_canonical_form(quat2))"
   ]
  },
  {
   "cell_type": "markdown",
   "id": "3d24846c",
   "metadata": {},
   "source": [
    "### [Function]: pydrake.math.IsBothQuaternionAndQuaternionDtOK\n",
    "\n",
    "This function tests if a quaternion satisfies the time-derivative constraint specified in [Kane, 1983] Section 1.13, equation 13, page 59. A quaternion [w, x, y, z] must satisfy w^2 + x^2 + y^2 + z^2 = 1, hence its time-derivative must satisfy 2*(w*ẇ + x*ẋ + y*ẏ + z*ż) = 0. Note: To accurately test whether the time-derivative quaternion constraint is satisfied, the quaternion constraint is also tested to be accurate.\n",
    "\n",
    "    [Kane, 1983] “Spacecraft Dynamics,” McGraw-Hill Book Co., New York, 1983. (with P. W. Likins and D. A. Levinson). Available for free .pdf download: https://ecommons.cornell.edu/handle/1813/637\n",
    "\n"
   ]
  },
  {
   "cell_type": "code",
   "execution_count": 38,
   "id": "62937810",
   "metadata": {},
   "outputs": [
    {
     "name": "stdout",
     "output_type": "stream",
     "text": [
      "Should be True:  True\n",
      "Should be False:  False\n"
     ]
    },
    {
     "data": {
      "text/plain": [
       "2.0"
      ]
     },
     "execution_count": 38,
     "metadata": {},
     "output_type": "execute_result"
    }
   ],
   "source": [
    "from pydrake.common.eigen_geometry import Quaternion, Quaternion_\n",
    "\n",
    "# Let's build it, so this definitely returns true\n",
    "quat = Quaternion([1,0,0,0])\n",
    "w_AB_B = np.array([0.0,0.6,0.1]).T\n",
    "quatDt = math.CalculateQuaternionDtFromAngularVelocityExpressedInB(quat, w_AB_B)\n",
    "\n",
    "print(\"Should be True: \", math.IsBothQuaternionAndQuaternionDtOK(quat, quatDt, tolerance=1e-3))\n",
    "\n",
    "funky_quat = Quaternion([1,0,0,0])\n",
    "quatDt = np.array([1.0,0.6,0.1,0.1])\n",
    "print(\"Should be False: \", math.IsBothQuaternionAndQuaternionDtOK(funky_quat, quatDt, tolerance=1e-3))\n",
    "\n",
    "# We can also check the severity of the violation:\n",
    "math.CalculateQuaternionDtConstraintViolation(quat, quatDt)"
   ]
  },
  {
   "cell_type": "markdown",
   "id": "3a3cff3f",
   "metadata": {},
   "source": [
    "### [Function]: pydrake.math.isnan"
   ]
  },
  {
   "cell_type": "code",
   "execution_count": 39,
   "id": "9c9289ec",
   "metadata": {},
   "outputs": [
    {
     "data": {
      "text/plain": [
       "True"
      ]
     },
     "execution_count": 39,
     "metadata": {},
     "output_type": "execute_result"
    }
   ],
   "source": [
    "a = np.nan\n",
    "math.isnan(a)"
   ]
  },
  {
   "cell_type": "markdown",
   "id": "4a7da7dd",
   "metadata": {},
   "source": [
    "### [Function]: pydrake.math.IsPositiveDefinite\n",
    "\n",
    "Finally, a library that doesn't force you to check the cholesky decomposition yourself!"
   ]
  },
  {
   "cell_type": "code",
   "execution_count": 40,
   "id": "7d010d91",
   "metadata": {},
   "outputs": [
    {
     "data": {
      "text/plain": [
       "True"
      ]
     },
     "execution_count": 40,
     "metadata": {},
     "output_type": "execute_result"
    }
   ],
   "source": [
    "Q = np.array([[1, 0, 0],\n",
    "              [0, 1, 0],\n",
    "              [0, 0, 1]])\n",
    "\n",
    "math.IsPositiveDefinite(Q)"
   ]
  },
  {
   "cell_type": "code",
   "execution_count": 41,
   "id": "a36e2d6a",
   "metadata": {},
   "outputs": [
    {
     "data": {
      "text/plain": [
       "False"
      ]
     },
     "execution_count": 41,
     "metadata": {},
     "output_type": "execute_result"
    }
   ],
   "source": [
    "Q = np.array([[-1, 0, 0],\n",
    "              [0, -1, 0],\n",
    "              [0, 0, -1]])\n",
    "\n",
    "math.IsPositiveDefinite(Q)"
   ]
  },
  {
   "cell_type": "markdown",
   "id": "b8274cd6",
   "metadata": {},
   "source": [
    "### [Function]: pydrake.math.IsQuaternionValid\n",
    "\n",
    "This function tests if a quaternion satisfies the quaternion constraint specified in [Kane, 1983] Section 1.3, equation 4, page 12, i.e., a quaternion [w, x, y, z] must satisfy: w^2 + x^2 + y^2 + z^2 = 1."
   ]
  },
  {
   "cell_type": "code",
   "execution_count": 42,
   "id": "42b811d8",
   "metadata": {},
   "outputs": [
    {
     "name": "stdout",
     "output_type": "stream",
     "text": [
      "True\n",
      "False\n"
     ]
    }
   ],
   "source": [
    "# We can use this to bump up the default unit-norm checking...\n",
    "\n",
    "quat = Quaternion([1,0,0,0.001])\n",
    "print(math.IsQuaternionValid(quat, tolerance=1e-3))\n",
    "\n",
    "quat = Quaternion([1,0,0,0.001])\n",
    "print(math.IsQuaternionValid(quat, tolerance=1e-12))"
   ]
  },
  {
   "cell_type": "markdown",
   "id": "c968cf00",
   "metadata": {},
   "source": [
    "### [Function]: pydrake.math.IsSymmetric"
   ]
  },
  {
   "cell_type": "code",
   "execution_count": 43,
   "id": "e25808d9",
   "metadata": {},
   "outputs": [
    {
     "data": {
      "text/plain": [
       "False"
      ]
     },
     "execution_count": 43,
     "metadata": {},
     "output_type": "execute_result"
    }
   ],
   "source": [
    "Q = np.array([[1, 0, 0],\n",
    "              [0, 1, 0],\n",
    "              [666, 0, 1]])\n",
    "\n",
    "math.IsSymmetric(Q)"
   ]
  },
  {
   "cell_type": "markdown",
   "id": "4dbdcc0e",
   "metadata": {},
   "source": [
    "## [Class]: pydrake.math.KnotVectorType\n",
    "\n",
    "Enum representing types of knot vectors. “Uniform” refers to the spacing between the knots. “Clamped” indicates that the first and last knots have multiplicity equal to the order of the spline. This is used in BSpline\n",
    "\n",
    "***There is an example for BsplineBasis that shows it's use, here is a minimal snippet:***"
   ]
  },
  {
   "cell_type": "code",
   "execution_count": 44,
   "id": "4d8e575e",
   "metadata": {},
   "outputs": [],
   "source": [
    "bspline = math.BsplineBasis()\n",
    "\n",
    "order,num_basis_funcs = 3, 5\n",
    "\n",
    "# kClampedUniform will clamp the curve to the inital/final values\n",
    "bspline = math.BsplineBasis(order=order, num_basis_functions=num_basis_funcs,\n",
    "               type=math.KnotVectorType.kClampedUniform, #kUniform,\n",
    "               initial_parameter_value=1.,\n",
    "               final_parameter_value=16.)"
   ]
  },
  {
   "cell_type": "markdown",
   "id": "8495aa82",
   "metadata": {},
   "source": [
    "### [Function]: pydrake.math.log"
   ]
  },
  {
   "cell_type": "code",
   "execution_count": 45,
   "id": "703fc974",
   "metadata": {},
   "outputs": [
    {
     "name": "stdout",
     "output_type": "stream",
     "text": [
      "Numeric:  -inf\n"
     ]
    },
    {
     "data": {
      "text/markdown": [
       "Symbolic: $\\log{x0}$"
      ],
      "text/plain": [
       "<IPython.core.display.Markdown object>"
      ]
     },
     "metadata": {},
     "output_type": "display_data"
    },
    {
     "name": "stdout",
     "output_type": "stream",
     "text": [
      "AD value:  -inf\n",
      "AD derivatives:  [inf]\n"
     ]
    }
   ],
   "source": [
    "# Numerical Example:\n",
    "numerical = math.log(0)\n",
    "\n",
    "# Symbolic Example:\n",
    "x = Variable(\"x0\")\n",
    "expr = math.log(x)\n",
    "\n",
    "# AutoDiff Example:\n",
    "x_ad = AutoDiffXd(0, [1.0])\n",
    "expr_ad = math.log(x_ad)\n",
    "\n",
    "# Print results:\n",
    "print(\"Numeric: \", numerical)\n",
    "display(Markdown(\"Symbolic: $\" + ToLatex(expr) + \"$\"))\n",
    "print(\"AD value: \", expr_ad.value())\n",
    "print(\"AD derivatives: \", expr_ad.derivatives())"
   ]
  },
  {
   "cell_type": "markdown",
   "id": "3a2f5bf9",
   "metadata": {},
   "source": [
    "### [Function]: pydrake.math.matmul"
   ]
  },
  {
   "cell_type": "code",
   "execution_count": 46,
   "id": "22fec176",
   "metadata": {},
   "outputs": [
    {
     "name": "stdout",
     "output_type": "stream",
     "text": [
      "[[6. 0. 0.]\n",
      " [0. 6. 0.]\n",
      " [0. 0. 6.]]\n",
      "---\n",
      " [[6. 0. 0.]\n",
      " [0. 6. 0.]\n",
      " [0. 0. 6.]]\n"
     ]
    }
   ],
   "source": [
    "A, B = np.eye(3), 6*np.eye(3)\n",
    "\n",
    "print(math.matmul(A, B))\n",
    "\n",
    "# Same as numpy:\n",
    "print(\"---\\n\", A @ B)"
   ]
  },
  {
   "cell_type": "markdown",
   "id": "2fd494bf",
   "metadata": {},
   "source": [
    "### [Function]: pydrake.math.max"
   ]
  },
  {
   "cell_type": "code",
   "execution_count": 47,
   "id": "44f32a0e",
   "metadata": {},
   "outputs": [
    {
     "name": "stdout",
     "output_type": "stream",
     "text": [
      "Numeric:  666.0\n"
     ]
    },
    {
     "data": {
      "text/markdown": [
       "Symbolic: $\\max\\{x_1, x_2\\}$"
      ],
      "text/plain": [
       "<IPython.core.display.Markdown object>"
      ]
     },
     "metadata": {},
     "output_type": "display_data"
    },
    {
     "name": "stdout",
     "output_type": "stream",
     "text": [
      "AD value:  0.0\n",
      "AD derivatives:  [1.]\n"
     ]
    }
   ],
   "source": [
    "# Numerical Example:\n",
    "numerical = math.max(0, 666)\n",
    "\n",
    "# Symbolic Example:\n",
    "x_1, x_2 = Variable(\"x_1\"), Variable(\"x_2\")\n",
    "expr = math.max(x_1, x_2)\n",
    "\n",
    "# AutoDiff Example:\n",
    "x1_ad = AutoDiffXd(0, [1.0])\n",
    "x2_ad = AutoDiffXd(0, [1.0])\n",
    "expr_ad = math.max(x1_ad, x2_ad)\n",
    "\n",
    "# Print results:\n",
    "print(\"Numeric: \", numerical)\n",
    "display(Markdown(\"Symbolic: $\" + ToLatex(expr) + \"$\"))\n",
    "print(\"AD value: \", expr_ad.value())\n",
    "print(\"AD derivatives: \", expr_ad.derivatives())"
   ]
  },
  {
   "cell_type": "markdown",
   "id": "ac54f5af",
   "metadata": {},
   "source": [
    "### [Function]: pydrake.math.min"
   ]
  },
  {
   "cell_type": "code",
   "execution_count": 48,
   "id": "c98eb845",
   "metadata": {},
   "outputs": [
    {
     "name": "stdout",
     "output_type": "stream",
     "text": [
      "Numeric:  0.0\n"
     ]
    },
    {
     "data": {
      "text/markdown": [
       "Symbolic: $\\min\\{x_1, x_2\\}$"
      ],
      "text/plain": [
       "<IPython.core.display.Markdown object>"
      ]
     },
     "metadata": {},
     "output_type": "display_data"
    },
    {
     "name": "stdout",
     "output_type": "stream",
     "text": [
      "AD value:  0.0\n",
      "AD derivatives:  [1.]\n"
     ]
    }
   ],
   "source": [
    "# Numerical Example:\n",
    "numerical = math.min(0, 666)\n",
    "\n",
    "# Symbolic Example:\n",
    "x_1, x_2 = Variable(\"x_1\"), Variable(\"x_2\")\n",
    "expr = math.min(x_1, x_2)\n",
    "\n",
    "# AutoDiff Example:\n",
    "x1_ad = AutoDiffXd(0, [1.0])\n",
    "x2_ad = AutoDiffXd(0, [1.0])\n",
    "expr_ad = math.min(x1_ad, x2_ad)\n",
    "\n",
    "# Print results:\n",
    "print(\"Numeric: \", numerical)\n",
    "display(Markdown(\"Symbolic: $\" + ToLatex(expr) + \"$\"))\n",
    "print(\"AD value: \", expr_ad.value())\n",
    "print(\"AD derivatives: \", expr_ad.derivatives())"
   ]
  },
  {
   "cell_type": "markdown",
   "id": "ab0d44ff",
   "metadata": {},
   "source": [
    "## [Class]: pydrake.math.NumericalGradientMethod\n",
    "\n",
    "See above example using NumericalGradient. This sets the method. It's just a structure that has an int and a name associated with the three valid methods to plug into the NumericalGradient function."
   ]
  },
  {
   "cell_type": "code",
   "execution_count": 49,
   "id": "ca2862ca",
   "metadata": {},
   "outputs": [
    {
     "data": {
      "text/plain": [
       "0"
      ]
     },
     "execution_count": 49,
     "metadata": {},
     "output_type": "execute_result"
    }
   ],
   "source": [
    "method1 = math.NumericalGradientMethod.kBackward\n",
    "method2 = math.NumericalGradientMethod.kCentral\n",
    "method3 = math.NumericalGradientMethod.kForward\n",
    "\n",
    "method3.value"
   ]
  },
  {
   "cell_type": "code",
   "execution_count": 50,
   "id": "3a1ef132",
   "metadata": {},
   "outputs": [
    {
     "data": {
      "text/plain": [
       "'kForward'"
      ]
     },
     "execution_count": 50,
     "metadata": {},
     "output_type": "execute_result"
    }
   ],
   "source": [
    "method3.name"
   ]
  },
  {
   "cell_type": "markdown",
   "id": "05677fe9",
   "metadata": {},
   "source": [
    "## [Class]: pydrake.math.NumericalGradientOption\n",
    "\n",
    "Another helper class to set accuracy. It takes in a method (as above)."
   ]
  },
  {
   "cell_type": "code",
   "execution_count": 51,
   "id": "febef754",
   "metadata": {},
   "outputs": [],
   "source": [
    "method = math.NumericalGradientMethod.kBackward   # 1\n",
    "opts = math.NumericalGradientOption(method, function_accuracy=1e-12)\n",
    "#grad_with_opts = math.ComputeNumericalGradient(f, x, opts)"
   ]
  },
  {
   "cell_type": "markdown",
   "id": "7fbc6994",
   "metadata": {},
   "source": [
    "### [Function]: pydrake.math.pow\n",
    "\n",
    "- Notice that the symbolic version happily takes a symbolic vector as a power. However, AutoDiffXD does not want to take an AutoDiffXd variable as the power itself."
   ]
  },
  {
   "cell_type": "code",
   "execution_count": 52,
   "id": "0f5f60e0",
   "metadata": {},
   "outputs": [
    {
     "name": "stdout",
     "output_type": "stream",
     "text": [
      "Numeric:  4.0\n"
     ]
    },
    {
     "data": {
      "text/markdown": [
       "Symbolic: $x^{y}$"
      ],
      "text/plain": [
       "<IPython.core.display.Markdown object>"
      ]
     },
     "metadata": {},
     "output_type": "display_data"
    },
    {
     "name": "stdout",
     "output_type": "stream",
     "text": [
      "AD value:  4.0\n",
      "AD derivatives:  [4.]\n"
     ]
    }
   ],
   "source": [
    "# Numerical Example:\n",
    "numerical = math.pow(2, 2)\n",
    "\n",
    "# Symbolic Example:\n",
    "x, y = Variable(\"x\"), Variable(\"y\")\n",
    "expr = math.pow(x, y)\n",
    "\n",
    "# AutoDiff Example:\n",
    "x1_ad = AutoDiffXd(2, [1.0])\n",
    "expr_ad = math.pow(x1_ad, 2)\n",
    "\n",
    "# Print results:\n",
    "print(\"Numeric: \", numerical)\n",
    "display(Markdown(\"Symbolic: $\" + ToLatex(expr) + \"$\"))\n",
    "print(\"AD value: \", expr_ad.value())\n",
    "print(\"AD derivatives: \", expr_ad.derivatives())"
   ]
  },
  {
   "cell_type": "markdown",
   "id": "4ff6183e",
   "metadata": {},
   "source": [
    "### [Function]: pydrake.math.QuaternionToCanonicalForm\n",
    "\n",
    "This function returns a quaternion in its “canonical form” meaning that it returns a quaternion [w, x, y, z] with a non-negative w. For example, if passed a quaternion [-0.3, +0.4, +0.5, +0.707], the function returns the quaternion’s canonical form [+0.3, -0.4, -0.5, -0.707]."
   ]
  },
  {
   "cell_type": "code",
   "execution_count": 53,
   "id": "f8eace5a",
   "metadata": {},
   "outputs": [
    {
     "name": "stdout",
     "output_type": "stream",
     "text": [
      "Notice the sign on w flips: \n",
      "Quaternion(w=1.0, x=-0.0, y=-0.0, z=-0.0)\n"
     ]
    }
   ],
   "source": [
    "quat = Quaternion([-1,0,0,0])\n",
    "print(\"Notice the sign on w flips: \")\n",
    "print(math.QuaternionToCanonicalForm(quat))"
   ]
  },
  {
   "cell_type": "markdown",
   "id": "76a91eac",
   "metadata": {},
   "source": [
    "### [Function]: pydrake.math.RealContinuousLyapunovEquation\n",
    "\n",
    "Computes a unique solution $X$ to the continuous Lyapunov equation: $ A^TX + XA + Q = 0$, where $A$ is real and square, and $Q$ is real, symmetric and of equal size as $A$."
   ]
  },
  {
   "cell_type": "code",
   "execution_count": 54,
   "id": "32a353a1",
   "metadata": {},
   "outputs": [
    {
     "data": {
      "text/plain": [
       "array([[-0.82142857,  0.39285714],\n",
       "       [ 0.39285714, -0.96428571]])"
      ]
     },
     "execution_count": 54,
     "metadata": {},
     "output_type": "execute_result"
    }
   ],
   "source": [
    "A = np.array([[0.8, 0.2], [0.4, 0.6]])\n",
    "Q = np.array([[1.0, 0.0], [0.0, 1.0]])\n",
    "\n",
    "math.RealContinuousLyapunovEquation(A, Q)"
   ]
  },
  {
   "cell_type": "markdown",
   "id": "04918c55",
   "metadata": {},
   "source": [
    "### [Function]: pydrake.math.RealDiscreteLyapunovEquation"
   ]
  },
  {
   "cell_type": "code",
   "execution_count": 55,
   "id": "2276cfac",
   "metadata": {},
   "outputs": [
    {
     "data": {
      "text/plain": [
       "array([[ 6.28633413,  2.00997633,  2.94134111],\n",
       "       [ 2.00997633, -1.14814895, -3.35603676],\n",
       "       [ 2.94134111, -3.35603676, -4.17323671]])"
      ]
     },
     "execution_count": 55,
     "metadata": {},
     "output_type": "execute_result"
    }
   ],
   "source": [
    "A = np.array([[0.8, 0.2, 0.3], [0.4, 0.6, 0.7], [0.1, 0.5, 0.9]])\n",
    "Q = np.array([[1.0, 0.0, 0.0], [0.0, 1.0, 0.0], [0.0, 0.0, 1.0]])\n",
    "\n",
    "math.RealDiscreteLyapunovEquation(A, Q)"
   ]
  },
  {
   "cell_type": "markdown",
   "id": "ec764eca",
   "metadata": {},
   "source": [
    "### [Class]: class pydrake.math.RigidTransform\n",
    "\n",
    "- Note to self: Do AutoDiffXD and Expression versions..."
   ]
  },
  {
   "cell_type": "markdown",
   "id": "c9366f21",
   "metadata": {},
   "source": [
    "#### init()"
   ]
  },
  {
   "cell_type": "code",
   "execution_count": 56,
   "id": "5d5490d1",
   "metadata": {},
   "outputs": [
    {
     "data": {
      "text/plain": [
       "RigidTransform(\n",
       "  R=RotationMatrix([\n",
       "    [1.0, 0.0, 0.0],\n",
       "    [0.0, 1.0, 0.0],\n",
       "    [0.0, 0.0, 1.0],\n",
       "  ]),\n",
       "  p=[0.0, 0.0, 0.0],\n",
       ")"
      ]
     },
     "execution_count": 56,
     "metadata": {},
     "output_type": "execute_result"
    }
   ],
   "source": [
    "# 1) default constructor gives identity:\n",
    "math.RigidTransform()"
   ]
  },
  {
   "cell_type": "code",
   "execution_count": 57,
   "id": "20b2873b",
   "metadata": {},
   "outputs": [
    {
     "data": {
      "text/plain": [
       "RigidTransform(\n",
       "  R=RotationMatrix([\n",
       "    [1.0, 0.0, 0.0],\n",
       "    [0.0, 0.0, 1.0],\n",
       "    [0.0, 1.0, 0.0],\n",
       "  ]),\n",
       "  p=[1.0, 0.0, 0.0],\n",
       ")"
      ]
     },
     "execution_count": 57,
     "metadata": {},
     "output_type": "execute_result"
    }
   ],
   "source": [
    "# 3) Construct with Rotation Matrix:\n",
    "# Doesn't want to take a raw numpy array\n",
    "# So pass array to RotationMatrix first...\n",
    "R = np.array([[1, 0, 0],\n",
    "              [0, 0, 1],\n",
    "              [0, 1, 0]])\n",
    "\n",
    "p = np.array([[1.0, 0, 0]]).T\n",
    "\n",
    "transform = math.RigidTransform(math.RotationMatrix(R), p)\n",
    "transform"
   ]
  },
  {
   "cell_type": "code",
   "execution_count": 58,
   "id": "8bb9d18e",
   "metadata": {},
   "outputs": [
    {
     "data": {
      "text/plain": [
       "RigidTransform(\n",
       "  R=RotationMatrix([\n",
       "    [3.749399456654644e-33, 0.0, 1.0],\n",
       "    [6.123233995736766e-17, 1.0, 0.0],\n",
       "    [-1.0, 6.123233995736766e-17, 3.749399456654644e-33],\n",
       "  ]),\n",
       "  p=[1.0, 0.0, 0.0],\n",
       ")"
      ]
     },
     "execution_count": 58,
     "metadata": {},
     "output_type": "execute_result"
    }
   ],
   "source": [
    "# 4) Construct with RollPitchYaw:\n",
    "rpy = math.RollPitchYaw(np.array([[np.pi/2, np.pi/2, np.pi/2]]).T)\n",
    "math.RigidTransform(rpy, p)"
   ]
  },
  {
   "cell_type": "code",
   "execution_count": 59,
   "id": "581d33e4",
   "metadata": {},
   "outputs": [
    {
     "data": {
      "text/plain": [
       "RigidTransform(\n",
       "  R=RotationMatrix([\n",
       "    [1.0, 0.0, 0.0],\n",
       "    [0.0, 0.0, 1.0],\n",
       "    [0.0, 1.0, 0.0],\n",
       "  ]),\n",
       "  p=[1.0, 0.0, 0.0],\n",
       ")"
      ]
     },
     "execution_count": 59,
     "metadata": {},
     "output_type": "execute_result"
    }
   ],
   "source": [
    "# 2) Construct with another rigid transform:\n",
    "math.RigidTransform(transform)"
   ]
  },
  {
   "cell_type": "code",
   "execution_count": 60,
   "id": "8204a330",
   "metadata": {},
   "outputs": [
    {
     "data": {
      "text/plain": [
       "RigidTransform(\n",
       "  R=RotationMatrix([\n",
       "    [1.0, 0.0, 0.0],\n",
       "    [0.0, 1.0, 0.0],\n",
       "    [0.0, 0.0, 1.0],\n",
       "  ]),\n",
       "  p=[1.0, 0.0, 0.0],\n",
       ")"
      ]
     },
     "execution_count": 60,
     "metadata": {},
     "output_type": "execute_result"
    }
   ],
   "source": [
    "# 5) Construct with quaternion\n",
    "from pydrake.common.eigen_geometry import Quaternion\n",
    "quat = Quaternion([1,0,0,0])\n",
    "p = np.array([[1.0, 0, 0]]).T\n",
    "math.RigidTransform(quat, p)"
   ]
  },
  {
   "cell_type": "code",
   "execution_count": 61,
   "id": "9b75a983",
   "metadata": {},
   "outputs": [
    {
     "data": {
      "text/plain": [
       "RigidTransform(\n",
       "  R=RotationMatrix([\n",
       "    [6.123233995736766e-17, 0.0, 1.0],\n",
       "    [0.0, 1.0, 0.0],\n",
       "    [-1.0, 0.0, 6.123233995736766e-17],\n",
       "  ]),\n",
       "  p=[1.0, 0.0, 0.0],\n",
       ")"
      ]
     },
     "execution_count": 61,
     "metadata": {},
     "output_type": "execute_result"
    }
   ],
   "source": [
    "# 6) Construct with AngleAxis and position:\n",
    "from pydrake.common.eigen_geometry import AngleAxis\n",
    "\n",
    "angax = AngleAxis(np.pi/2, np.array([[0, 1, 0]]).T)\n",
    "p = np.array([[1.0, 0, 0]]).T\n",
    "math.RigidTransform(angax, p)"
   ]
  },
  {
   "cell_type": "code",
   "execution_count": 62,
   "id": "61c4fd7e",
   "metadata": {},
   "outputs": [
    {
     "data": {
      "text/plain": [
       "RigidTransform(\n",
       "  R=RotationMatrix([\n",
       "    [1.0, 0.0, 0.0],\n",
       "    [0.0, 0.0, 1.0],\n",
       "    [0.0, 1.0, 0.0],\n",
       "  ]),\n",
       "  p=[0.0, 0.0, 0.0],\n",
       ")"
      ]
     },
     "execution_count": 62,
     "metadata": {},
     "output_type": "execute_result"
    }
   ],
   "source": [
    "# 7) Construct with Rotation matrix and no position:\n",
    "R = np.array([[1, 0, 0],\n",
    "              [0, 0, 1],\n",
    "              [0, 1, 0]])\n",
    "\n",
    "math.RigidTransform(math.RotationMatrix(R))"
   ]
  },
  {
   "cell_type": "code",
   "execution_count": 63,
   "id": "feedc8f2",
   "metadata": {},
   "outputs": [
    {
     "data": {
      "text/plain": [
       "RigidTransform(\n",
       "  R=RotationMatrix([\n",
       "    [1.0, 0.0, 0.0],\n",
       "    [0.0, 1.0, 0.0],\n",
       "    [0.0, 0.0, 1.0],\n",
       "  ]),\n",
       "  p=[1.0, 0.0, 0.0],\n",
       ")"
      ]
     },
     "execution_count": 63,
     "metadata": {},
     "output_type": "execute_result"
    }
   ],
   "source": [
    "# 8) Construct with identity Rotation\n",
    "p = np.array([[1.0, 0, 0]]).T\n",
    "math.RigidTransform(p)"
   ]
  },
  {
   "cell_type": "code",
   "execution_count": 64,
   "id": "5839e48a",
   "metadata": {},
   "outputs": [
    {
     "data": {
      "text/plain": [
       "RigidTransform(\n",
       "  R=RotationMatrix([\n",
       "    [1.0, 0.0, 0.0],\n",
       "    [0.0, 1.0, 0.0],\n",
       "    [0.0, 0.0, 1.0],\n",
       "  ]),\n",
       "  p=[1.0, 0.0, 0.0],\n",
       ")"
      ]
     },
     "execution_count": 64,
     "metadata": {},
     "output_type": "execute_result"
    }
   ],
   "source": [
    "# 9) Construct with Isometry3 Pose\n",
    "from pydrake.common.eigen_geometry import Isometry3\n",
    "R = np.array([[1, 0, 0],\n",
    "              [0, 1, 0],\n",
    "              [0, 0, 1]])\n",
    "\n",
    "p = np.array([[1.0, 0, 0]]).T\n",
    "math.RigidTransform(Isometry3(R, p))"
   ]
  },
  {
   "cell_type": "code",
   "execution_count": 65,
   "id": "c6d0da5f",
   "metadata": {},
   "outputs": [
    {
     "data": {
      "text/plain": [
       "RigidTransform(\n",
       "  R=RotationMatrix([\n",
       "    [1.0, 0.0, 0.0],\n",
       "    [0.0, 1.0, 0.0],\n",
       "    [0.0, 0.0, 1.0],\n",
       "  ]),\n",
       "  p=[0.0, 0.0, 0.0],\n",
       ")"
      ]
     },
     "execution_count": 65,
     "metadata": {},
     "output_type": "execute_result"
    }
   ],
   "source": [
    "# 9) Construct from 4x4 homogenous matrix:\n",
    "Rp = np.array([[1, 0, 0, 0],\n",
    "              [0, 1, 0, 0],\n",
    "              [0, 0, 1, 0],\n",
    "              [0, 0, 0, 1]])\n",
    "\n",
    "Rt = math.RigidTransform(Rp)\n",
    "Rt"
   ]
  },
  {
   "cell_type": "markdown",
   "id": "c80d24ad",
   "metadata": {},
   "source": [
    "### Methods for math.RigidTransform:"
   ]
  },
  {
   "cell_type": "markdown",
   "id": "7270ba87",
   "metadata": {},
   "source": [
    "***math.RigidTransform().cast[AutoDiffXd]***"
   ]
  },
  {
   "cell_type": "code",
   "execution_count": 66,
   "id": "9d99a0df",
   "metadata": {},
   "outputs": [
    {
     "data": {
      "text/plain": [
       "RigidTransform_[AutoDiffXd](\n",
       "  R=RotationMatrix_[AutoDiffXd]([\n",
       "    [<AutoDiffXd 1.0 nderiv=0>, <AutoDiffXd 0.0 nderiv=0>, <AutoDiffXd 0.0 nderiv=0>],\n",
       "    [<AutoDiffXd 0.0 nderiv=0>, <AutoDiffXd 1.0 nderiv=0>, <AutoDiffXd 0.0 nderiv=0>],\n",
       "    [<AutoDiffXd 0.0 nderiv=0>, <AutoDiffXd 0.0 nderiv=0>, <AutoDiffXd 1.0 nderiv=0>],\n",
       "  ]),\n",
       "  p=[<AutoDiffXd 0.0 nderiv=0>, <AutoDiffXd 0.0 nderiv=0>, <AutoDiffXd 0.0 nderiv=0>],\n",
       ")"
      ]
     },
     "execution_count": 66,
     "metadata": {},
     "output_type": "execute_result"
    }
   ],
   "source": [
    "# Cast to AutoDiffXd:\n",
    "Rt.cast[AutoDiffXd]()"
   ]
  },
  {
   "cell_type": "markdown",
   "id": "036a6055",
   "metadata": {},
   "source": [
    "***math.RigidTransform().cast[Expression]***"
   ]
  },
  {
   "cell_type": "code",
   "execution_count": 67,
   "id": "d0991a34",
   "metadata": {},
   "outputs": [],
   "source": [
    "# Cast to Expression:\n",
    "expr = Rt.cast[Expression]()"
   ]
  },
  {
   "cell_type": "markdown",
   "id": "43e98988",
   "metadata": {},
   "source": [
    "***math.RigidTransform().cast[float]***"
   ]
  },
  {
   "cell_type": "code",
   "execution_count": 68,
   "id": "2c107c16",
   "metadata": {
    "scrolled": true
   },
   "outputs": [
    {
     "data": {
      "text/plain": [
       "RigidTransform(\n",
       "  R=RotationMatrix([\n",
       "    [1.0, 0.0, 0.0],\n",
       "    [0.0, 1.0, 0.0],\n",
       "    [0.0, 0.0, 1.0],\n",
       "  ]),\n",
       "  p=[0.0, 0.0, 0.0],\n",
       ")"
      ]
     },
     "execution_count": 68,
     "metadata": {},
     "output_type": "execute_result"
    }
   ],
   "source": [
    "# Cast to float\n",
    "Rt.cast[float]()"
   ]
  },
  {
   "cell_type": "markdown",
   "id": "18141875",
   "metadata": {},
   "source": [
    "***math.RigidTransform().GetAsIsometry3()***"
   ]
  },
  {
   "cell_type": "code",
   "execution_count": 69,
   "id": "0124e3f2",
   "metadata": {},
   "outputs": [
    {
     "data": {
      "text/plain": [
       "<pydrake.common.eigen_geometry.Isometry3 at 0x7fdfd67447f0>"
      ]
     },
     "execution_count": 69,
     "metadata": {},
     "output_type": "execute_result"
    }
   ],
   "source": [
    "# Returns the isometry in ℜ³ that is equivalent to a RigidTransform.\n",
    "Rt.GetAsIsometry3()"
   ]
  },
  {
   "cell_type": "markdown",
   "id": "e5021b9b",
   "metadata": {},
   "source": [
    "***math.RigidTransform().GetAsMatrix34()***"
   ]
  },
  {
   "cell_type": "code",
   "execution_count": 70,
   "id": "1e734d8a",
   "metadata": {
    "scrolled": true
   },
   "outputs": [
    {
     "data": {
      "text/plain": [
       "array([[1., 0., 0., 0.],\n",
       "       [0., 1., 0., 0.],\n",
       "       [0., 0., 1., 0.]])"
      ]
     },
     "execution_count": 70,
     "metadata": {},
     "output_type": "execute_result"
    }
   ],
   "source": [
    "# Returns the 3x4 matrix associated with this RigidTransform, i.e., X_AB.\n",
    "Rt.GetAsMatrix34()"
   ]
  },
  {
   "cell_type": "markdown",
   "id": "7d3b4767",
   "metadata": {},
   "source": [
    "***math.RigidTransform().GetAsMatrix4()***"
   ]
  },
  {
   "cell_type": "code",
   "execution_count": 71,
   "id": "27c95b08",
   "metadata": {},
   "outputs": [
    {
     "data": {
      "text/plain": [
       "array([[1., 0., 0., 0.],\n",
       "       [0., 1., 0., 0.],\n",
       "       [0., 0., 1., 0.],\n",
       "       [0., 0., 0., 1.]])"
      ]
     },
     "execution_count": 71,
     "metadata": {},
     "output_type": "execute_result"
    }
   ],
   "source": [
    "# Returns the 4x4 matrix associated with this RigidTransform, i.e., X_AB.\n",
    "Rt.GetAsMatrix4()"
   ]
  },
  {
   "cell_type": "markdown",
   "id": "8addd8fe",
   "metadata": {},
   "source": [
    "***math.RigidTransform().GetMaximumAbsoluteDifference()***"
   ]
  },
  {
   "cell_type": "code",
   "execution_count": 72,
   "id": "9bca1966",
   "metadata": {},
   "outputs": [
    {
     "data": {
      "text/plain": [
       "1.0"
      ]
     },
     "execution_count": 72,
     "metadata": {},
     "output_type": "execute_result"
    }
   ],
   "source": [
    "# Computes the infinity norm of this - other (i.e., the maximum absolute value of the difference between the elements of this and other).\n",
    "angax = AngleAxis(np.pi/2, np.array([[0, 1, 0]]).T)\n",
    "p = np.array([[1.0, 0, 0]]).T\n",
    "Rt_other = math.RigidTransform(angax, p)\n",
    "\n",
    "Rt.GetMaximumAbsoluteDifference(Rt_other)"
   ]
  },
  {
   "cell_type": "markdown",
   "id": "b5f2ef9b",
   "metadata": {},
   "source": [
    "***math.RigidTransform().GetMaximumAbsoluteTranslationDifference()***"
   ]
  },
  {
   "cell_type": "code",
   "execution_count": 73,
   "id": "789cf021",
   "metadata": {},
   "outputs": [
    {
     "data": {
      "text/plain": [
       "1.0"
      ]
     },
     "execution_count": 73,
     "metadata": {},
     "output_type": "execute_result"
    }
   ],
   "source": [
    "# Returns the maximum absolute value of the difference in the position vectors (translation) in this and other. In other words, returns the infinity norm of the difference in the position vectors.\n",
    "Rt.GetMaximumAbsoluteTranslationDifference(Rt_other)"
   ]
  },
  {
   "cell_type": "markdown",
   "id": "0b77595f",
   "metadata": {},
   "source": [
    "***math.RigidTransform().Identity()***"
   ]
  },
  {
   "cell_type": "code",
   "execution_count": 74,
   "id": "8d2b0cbb",
   "metadata": {},
   "outputs": [
    {
     "data": {
      "text/plain": [
       "RigidTransform(\n",
       "  R=RotationMatrix([\n",
       "    [1.0, 0.0, 0.0],\n",
       "    [0.0, 1.0, 0.0],\n",
       "    [0.0, 0.0, 1.0],\n",
       "  ]),\n",
       "  p=[0.0, 0.0, 0.0],\n",
       ")"
      ]
     },
     "execution_count": 74,
     "metadata": {},
     "output_type": "execute_result"
    }
   ],
   "source": [
    "# Returns the identity RigidTransform (corresponds to coincident frames).\n",
    "Rt_other.Identity()"
   ]
  },
  {
   "cell_type": "markdown",
   "id": "542c15de",
   "metadata": {},
   "source": [
    "***math.RigidTransform().inverse()***"
   ]
  },
  {
   "cell_type": "code",
   "execution_count": 75,
   "id": "ea712505",
   "metadata": {},
   "outputs": [
    {
     "data": {
      "text/plain": [
       "RigidTransform(\n",
       "  R=RotationMatrix([\n",
       "    [6.123233995736766e-17, 0.0, -1.0],\n",
       "    [0.0, 1.0, 0.0],\n",
       "    [1.0, 0.0, 6.123233995736766e-17],\n",
       "  ]),\n",
       "  p=[-6.123233995736766e-17, -0.0, -1.0],\n",
       ")"
      ]
     },
     "execution_count": 75,
     "metadata": {},
     "output_type": "execute_result"
    }
   ],
   "source": [
    "# Returns X_BA = X_AB⁻¹, the inverse of this RigidTransform.\n",
    "Rt_other.inverse()"
   ]
  },
  {
   "cell_type": "markdown",
   "id": "6e98dd02",
   "metadata": {},
   "source": [
    "***math.RigidTransform().InvertAndCompose()***"
   ]
  },
  {
   "cell_type": "code",
   "execution_count": 76,
   "id": "0dedce52",
   "metadata": {},
   "outputs": [
    {
     "data": {
      "text/plain": [
       "RigidTransform(\n",
       "  R=RotationMatrix([\n",
       "    [1.0, 0.0, 0.0],\n",
       "    [0.0, 1.0, 0.0],\n",
       "    [0.0, 0.0, 1.0],\n",
       "  ]),\n",
       "  p=[0.0, 0.0, 0.0],\n",
       ")"
      ]
     },
     "execution_count": 76,
     "metadata": {},
     "output_type": "execute_result"
    }
   ],
   "source": [
    "# Calculates the product of this inverted and another RigidTransform. \n",
    "Rt.InvertAndCompose(Rt)"
   ]
  },
  {
   "cell_type": "markdown",
   "id": "a7652e35",
   "metadata": {},
   "source": [
    "***math.RigidTransform().IsExactlyEqualTo()***"
   ]
  },
  {
   "cell_type": "code",
   "execution_count": 77,
   "id": "5ba16fe2",
   "metadata": {},
   "outputs": [
    {
     "data": {
      "text/plain": [
       "True"
      ]
     },
     "execution_count": 77,
     "metadata": {},
     "output_type": "execute_result"
    }
   ],
   "source": [
    "# Returns true if this is exactly equal to other.\n",
    "Rt.IsExactlyEqualTo(Rt)"
   ]
  },
  {
   "cell_type": "markdown",
   "id": "bc9f351a",
   "metadata": {},
   "source": [
    "***math.RigidTransform().IsExactlyIdentity()***"
   ]
  },
  {
   "cell_type": "code",
   "execution_count": 78,
   "id": "47c52c4e",
   "metadata": {},
   "outputs": [
    {
     "data": {
      "text/plain": [
       "False"
      ]
     },
     "execution_count": 78,
     "metadata": {},
     "output_type": "execute_result"
    }
   ],
   "source": [
    "# Returns true if this is exactly equal to other.\n",
    "Rt_other.IsExactlyIdentity()"
   ]
  },
  {
   "cell_type": "markdown",
   "id": "884602b1",
   "metadata": {},
   "source": [
    "***math.RigidTransform().IsNearlyEqualTo()***"
   ]
  },
  {
   "cell_type": "code",
   "execution_count": 79,
   "id": "ccdc1e2a",
   "metadata": {},
   "outputs": [
    {
     "data": {
      "text/plain": [
       "True"
      ]
     },
     "execution_count": 79,
     "metadata": {},
     "output_type": "execute_result"
    }
   ],
   "source": [
    "# Returns true if this is equal up to tolerance.\n",
    "# Obviously, compared to itself, it's always true\n",
    "# Good for checking for small numerical errors\n",
    "Rt.IsNearlyEqualTo(Rt, tolerance=1e-12)"
   ]
  },
  {
   "cell_type": "markdown",
   "id": "24f21bfa",
   "metadata": {},
   "source": [
    "***math.RigidTransform().IsNearlyIdentity()***"
   ]
  },
  {
   "cell_type": "code",
   "execution_count": 80,
   "id": "c7f81a73",
   "metadata": {},
   "outputs": [
    {
     "data": {
      "text/plain": [
       "True"
      ]
     },
     "execution_count": 80,
     "metadata": {},
     "output_type": "execute_result"
    }
   ],
   "source": [
    "Rt.IsNearlyIdentity(translation_tolerance=1e-12)"
   ]
  },
  {
   "cell_type": "markdown",
   "id": "0907012e",
   "metadata": {},
   "source": [
    "***math.RigidTransform().multiply()***"
   ]
  },
  {
   "cell_type": "code",
   "execution_count": 81,
   "id": "9840a4bc",
   "metadata": {},
   "outputs": [
    {
     "data": {
      "text/plain": [
       "RigidTransform(\n",
       "  R=RotationMatrix([\n",
       "    [6.123233995736766e-17, 0.0, 1.0],\n",
       "    [0.0, 1.0, 0.0],\n",
       "    [-1.0, 0.0, 6.123233995736766e-17],\n",
       "  ]),\n",
       "  p=[1.0, 0.0, 0.0],\n",
       ")"
      ]
     },
     "execution_count": 81,
     "metadata": {},
     "output_type": "execute_result"
    }
   ],
   "source": [
    "# Multiplies this RigidTransform X_AB by the position vector p_BoQ_B which is from Bo (B’s origin) to an arbitrary point Q.\n",
    "Rt.multiply(Rt_other)"
   ]
  },
  {
   "cell_type": "markdown",
   "id": "d677e3c6",
   "metadata": {},
   "source": [
    "***math.RigidTransform().rotation()***"
   ]
  },
  {
   "cell_type": "code",
   "execution_count": 82,
   "id": "d7dfe600",
   "metadata": {},
   "outputs": [
    {
     "data": {
      "text/plain": [
       "RotationMatrix([\n",
       "  [6.123233995736766e-17, 0.0, 1.0],\n",
       "  [0.0, 1.0, 0.0],\n",
       "  [-1.0, 0.0, 6.123233995736766e-17],\n",
       "])"
      ]
     },
     "execution_count": 82,
     "metadata": {},
     "output_type": "execute_result"
    }
   ],
   "source": [
    "# Returns R_AB, the rotation matrix portion of this RigidTransform. \n",
    "Rt_other.rotation()"
   ]
  },
  {
   "cell_type": "markdown",
   "id": "d7de4f4e",
   "metadata": {},
   "source": [
    "***math.RigidTransform().set()***"
   ]
  },
  {
   "cell_type": "code",
   "execution_count": 83,
   "id": "7e3bc3e7",
   "metadata": {},
   "outputs": [
    {
     "data": {
      "text/plain": [
       "RigidTransform(\n",
       "  R=RotationMatrix([\n",
       "    [1.0, 0.0, 0.0],\n",
       "    [0.0, 1.0, 0.0],\n",
       "    [0.0, 0.0, 1.0],\n",
       "  ]),\n",
       "  p=[1.0, 0.0, 0.0],\n",
       ")"
      ]
     },
     "execution_count": 83,
     "metadata": {},
     "output_type": "execute_result"
    }
   ],
   "source": [
    "# Set existing RigitTransform with Rotation/position\n",
    "R = np.array([[1, 0, 0],\n",
    "              [0, 1, 0],\n",
    "              [0, 0, 1]])\n",
    "\n",
    "p = np.array([[1.0, 0, 0]]).T\n",
    "\n",
    "Rt.set(math.RotationMatrix(R), p)\n",
    "Rt"
   ]
  },
  {
   "cell_type": "markdown",
   "id": "55c4e3a4",
   "metadata": {},
   "source": [
    "***math.RigidTransform().set_rotation()***"
   ]
  },
  {
   "cell_type": "code",
   "execution_count": 84,
   "id": "d0f010ac",
   "metadata": {},
   "outputs": [],
   "source": [
    "R = np.array([[1, 0, 0],\n",
    "              [0, 1, 0],\n",
    "              [0, 0, 1]])\n",
    "\n",
    "Rt.set_rotation(math.RotationMatrix(R))"
   ]
  },
  {
   "cell_type": "markdown",
   "id": "21a4d0f0",
   "metadata": {},
   "source": [
    "***math.RigidTransform().set_translation()***"
   ]
  },
  {
   "cell_type": "code",
   "execution_count": 85,
   "id": "20e0c31e",
   "metadata": {},
   "outputs": [],
   "source": [
    "p = np.array([[1.0, 0, 0]]).T\n",
    "Rt.set_translation(p)"
   ]
  },
  {
   "cell_type": "markdown",
   "id": "41b2f14b",
   "metadata": {},
   "source": [
    "***math.RigidTransform().SetFromIsometry3()***"
   ]
  },
  {
   "cell_type": "code",
   "execution_count": 86,
   "id": "82971a43",
   "metadata": {},
   "outputs": [],
   "source": [
    "from pydrake.common.eigen_geometry import Isometry3\n",
    "R = np.array([[1, 0, 0],\n",
    "              [0, 1, 0],\n",
    "              [0, 0, 1]])\n",
    "\n",
    "p = np.array([[1.0, 0, 0]]).T\n",
    "Rt.SetFromIsometry3(Isometry3(R, p))"
   ]
  },
  {
   "cell_type": "markdown",
   "id": "073935cd",
   "metadata": {},
   "source": [
    "***math.RigidTransform().translation()***"
   ]
  },
  {
   "cell_type": "code",
   "execution_count": 87,
   "id": "17dc9f86",
   "metadata": {},
   "outputs": [
    {
     "data": {
      "text/plain": [
       "array([1., 0., 0.])"
      ]
     },
     "execution_count": 87,
     "metadata": {},
     "output_type": "execute_result"
    }
   ],
   "source": [
    "# Returns translation\n",
    "Rt.translation()"
   ]
  },
  {
   "cell_type": "markdown",
   "id": "29497793",
   "metadata": {},
   "source": [
    "### [Class]: pydrake.math.RollPitchYaw"
   ]
  },
  {
   "cell_type": "code",
   "execution_count": 88,
   "id": "34252c38",
   "metadata": {},
   "outputs": [],
   "source": [
    "# 1) Construct with numpy array (Wants a column vector)\n",
    "rpy = math.RollPitchYaw(np.array([[np.pi/2, np.pi/2, np.pi/2]]).T)"
   ]
  },
  {
   "cell_type": "code",
   "execution_count": 89,
   "id": "e13d69ed",
   "metadata": {},
   "outputs": [],
   "source": [
    "# 2) Can construct with another RollPitchYaw object\n",
    "rpy = math.RollPitchYaw(rpy)"
   ]
  },
  {
   "cell_type": "code",
   "execution_count": 90,
   "id": "66f31538",
   "metadata": {},
   "outputs": [],
   "source": [
    "# 3) Can construct with 3 floats:\n",
    "rpy = math.RollPitchYaw(np.pi/2, np.pi/2, np.pi/2)"
   ]
  },
  {
   "cell_type": "code",
   "execution_count": 91,
   "id": "fc135176",
   "metadata": {},
   "outputs": [],
   "source": [
    "# 4) Construct with RotationMatrix object:\n",
    "R = np.array([[1, 0, 0],\n",
    "              [0, 1, 0],\n",
    "              [0, 0, 1]])\n",
    "\n",
    "rpy = math.RollPitchYaw(math.RotationMatrix(R))"
   ]
  },
  {
   "cell_type": "code",
   "execution_count": 92,
   "id": "3e02bca4",
   "metadata": {},
   "outputs": [],
   "source": [
    "# 5) Construct with quaternion:\n",
    "from pydrake.common.eigen_geometry import Quaternion\n",
    "\n",
    "quat = Quaternion([1.0, 0, 0, 0])\n",
    "rpy = math.RollPitchYaw(quat)"
   ]
  },
  {
   "cell_type": "code",
   "execution_count": 93,
   "id": "d3f0d727",
   "metadata": {},
   "outputs": [],
   "source": [
    "# 6) Construct with 3x3 numpy array\n",
    "R = np.array([[1, 0, 0],\n",
    "              [0, 1, 0],\n",
    "              [0, 0, 1]])\n",
    "\n",
    "rpy = math.RollPitchYaw(R)"
   ]
  },
  {
   "cell_type": "markdown",
   "id": "7d756803",
   "metadata": {},
   "source": [
    "### Methods for math.RollPitchYaw:\n",
    "\n",
    "- Note to self: Fill in AutoDiffXD and Expression versions"
   ]
  },
  {
   "cell_type": "markdown",
   "id": "e19f22a7",
   "metadata": {},
   "source": [
    "***math.RollPitchYaw().CalcAngularVelocityInChildFromRpyDt()***"
   ]
  },
  {
   "cell_type": "code",
   "execution_count": 94,
   "id": "c0f9b879",
   "metadata": {},
   "outputs": [
    {
     "data": {
      "text/plain": [
       "array([ 0.25358984,  0.27320508, -0.07320508])"
      ]
     },
     "execution_count": 94,
     "metadata": {},
     "output_type": "execute_result"
    }
   ],
   "source": [
    "# Calculates angular velocity from this RollPitchYaw whose roll-pitch-yaw angles [r; p; y] relate the orientation of two generic frames A and D.\n",
    "rpy = math.RollPitchYaw(np.pi/3, np.pi/3, np.pi/3)\n",
    "rpyDt = np.array([0.6, 0.2, 0.4])\n",
    "rpy.CalcAngularVelocityInChildFromRpyDt(rpyDt)"
   ]
  },
  {
   "cell_type": "markdown",
   "id": "cb31cbcd",
   "metadata": {},
   "source": [
    "***math.RollPitchYaw().CalcAngularVelocityInParentFromRpyDt()***"
   ]
  },
  {
   "cell_type": "code",
   "execution_count": 95,
   "id": "4a1bbcfb",
   "metadata": {},
   "outputs": [
    {
     "data": {
      "text/plain": [
       "array([-0.02320508,  0.35980762, -0.11961524])"
      ]
     },
     "execution_count": 95,
     "metadata": {},
     "output_type": "execute_result"
    }
   ],
   "source": [
    "# Calculates angular velocity from this RollPitchYaw whose roll-pitch-yaw angles [r; p; y] relate the orientation of two generic frames A and D.\n",
    "rpy = math.RollPitchYaw(np.pi/3, np.pi/3, np.pi/3)\n",
    "rpyDt = np.array([0.6, 0.2, 0.4])\n",
    "rpy.CalcAngularVelocityInParentFromRpyDt(rpyDt)"
   ]
  },
  {
   "cell_type": "markdown",
   "id": "b3eeb495",
   "metadata": {},
   "source": [
    "***math.RollPitchYaw().CalcRotationMatrixDt()***"
   ]
  },
  {
   "cell_type": "code",
   "execution_count": 96,
   "id": "122becba",
   "metadata": {},
   "outputs": [
    {
     "data": {
      "text/plain": [
       "array([[-2.59807621e-01,  2.63397460e-01,  8.30127019e-02],\n",
       "       [-5.00000000e-02,  1.69872981e-02, -1.09807621e-01],\n",
       "       [-1.00000000e-01,  5.55111512e-17, -3.46410162e-01]])"
      ]
     },
     "execution_count": 96,
     "metadata": {},
     "output_type": "execute_result"
    }
   ],
   "source": [
    "# Forms Ṙ, the ordinary derivative of the RotationMatrix R with respect to an independent variable t (t usually denotes time) and R is the RotationMatrix formed by this RollPitchYaw. The roll-pitch-yaw angles r, p, y are regarded as functions of t [i.e., r(t), p(t), y(t)].\n",
    "rpy = math.RollPitchYaw(np.pi/3, np.pi/3, np.pi/3)\n",
    "rpyDt = np.array([0.6, 0.2, 0.4])\n",
    "rpy.CalcRotationMatrixDt(rpyDt)"
   ]
  },
  {
   "cell_type": "markdown",
   "id": "9b5844f2",
   "metadata": {},
   "source": [
    "***math.RollPitchYaw().CalcRpyDDtFromAngularAccelInChild()***"
   ]
  },
  {
   "cell_type": "code",
   "execution_count": 97,
   "id": "eb19643d",
   "metadata": {},
   "outputs": [
    {
     "data": {
      "text/plain": [
       "array([ 6.96592231, -1.71807621,  6.84266568])"
      ]
     },
     "execution_count": 97,
     "metadata": {},
     "output_type": "execute_result"
    }
   ],
   "source": [
    "# Uses angular acceleration to compute the 2ⁿᵈ time-derivative of this RollPitchYaw whose angles [r; p; y] orient two generic frames A and D.\n",
    "rpy = math.RollPitchYaw(np.pi/3, np.pi/3, np.pi/3)\n",
    "rpyDt = np.array([0.6, 0.2, 0.4])\n",
    "alpha_AD_D = np.array([1,2,3])\n",
    "rpy.CalcRpyDDtFromAngularAccelInChild(rpyDt, alpha_AD_D)"
   ]
  },
  {
   "cell_type": "markdown",
   "id": "53f691c2",
   "metadata": {},
   "source": [
    "***math.RollPitchYaw().CalcRpyDDtFromRpyDtAndAngularAccelInParent()***"
   ]
  },
  {
   "cell_type": "code",
   "execution_count": 98,
   "id": "154f9321",
   "metadata": {},
   "outputs": [
    {
     "data": {
      "text/plain": [
       "array([4.83194771, 0.0139746 , 7.24458947])"
      ]
     },
     "execution_count": 98,
     "metadata": {},
     "output_type": "execute_result"
    }
   ],
   "source": [
    "# Uses angular acceleration to compute the 2ⁿᵈ time-derivative of this RollPitchYaw whose angles [r; p; y] orient two generic frames A and D.\n",
    "rpy = math.RollPitchYaw(np.pi/3, np.pi/3, np.pi/3)\n",
    "rpyDt = np.array([0.6, 0.2, 0.4])\n",
    "alpha_AD_D = np.array([1,2,3])\n",
    "rpy.CalcRpyDDtFromRpyDtAndAngularAccelInParent(rpyDt, alpha_AD_D)"
   ]
  },
  {
   "cell_type": "markdown",
   "id": "41e291e8",
   "metadata": {},
   "source": [
    "***math.RollPitchYaw().CalcRpyDtFromAngularVelocityInChild()***"
   ]
  },
  {
   "cell_type": "code",
   "execution_count": 99,
   "id": "6251c316",
   "metadata": {},
   "outputs": [
    {
     "data": {
      "text/plain": [
       "array([40.25833025, -5.25833025, 33.78460969])"
      ]
     },
     "execution_count": 99,
     "metadata": {},
     "output_type": "execute_result"
    }
   ],
   "source": [
    "# Uses angular velocity to compute the 1ˢᵗ time-derivative of this RollPitchYaw whose angles [r; p; y] orient two generic frames A and D.\n",
    "rpy = math.RollPitchYaw(np.pi/3, np.pi/3, np.pi/3)\n",
    "w_AD_D = np.array([11,12,13])\n",
    "rpy.CalcRpyDtFromAngularVelocityInChild(w_AD_D)"
   ]
  },
  {
   "cell_type": "markdown",
   "id": "a20fd3c5",
   "metadata": {},
   "source": [
    "***math.RollPitchYaw().CalcRpyDtFromAngularVelocityInParent()***"
   ]
  },
  {
   "cell_type": "code",
   "execution_count": 100,
   "id": "60a2af82",
   "metadata": {},
   "outputs": [
    {
     "data": {
      "text/plain": [
       "array([31.78460969, -3.52627944, 40.52627944])"
      ]
     },
     "execution_count": 100,
     "metadata": {},
     "output_type": "execute_result"
    }
   ],
   "source": [
    "# Uses angular velocity to compute the 1ˢᵗ time-derrpy = math.RollPitchYaw(np.pi/2, np.pi/2, np.pi/2)ivative of this RollPitchYaw whose angles [r; p; y] orient two generic frames A and D.\n",
    "rpy = math.RollPitchYaw(np.pi/3, np.pi/3, np.pi/3)\n",
    "w_AD_D = np.array([11,12,13])\n",
    "rpy.CalcRpyDtFromAngularVelocityInParent(w_AD_D)"
   ]
  },
  {
   "cell_type": "markdown",
   "id": "97b93435",
   "metadata": {},
   "source": [
    "***math.RollPitchYaw().pitch_angle()***"
   ]
  },
  {
   "cell_type": "code",
   "execution_count": 101,
   "id": "52d4962b",
   "metadata": {},
   "outputs": [
    {
     "data": {
      "text/plain": [
       "1.5707963267948966"
      ]
     },
     "execution_count": 101,
     "metadata": {},
     "output_type": "execute_result"
    }
   ],
   "source": [
    "rpy = math.RollPitchYaw(np.pi/2, np.pi/2, np.pi/2)\n",
    "rpy.pitch_angle()"
   ]
  },
  {
   "cell_type": "markdown",
   "id": "f1940c36",
   "metadata": {},
   "source": [
    "***math.RollPitchYaw().roll_angle()***"
   ]
  },
  {
   "cell_type": "code",
   "execution_count": 102,
   "id": "2c71b051",
   "metadata": {},
   "outputs": [
    {
     "data": {
      "text/plain": [
       "1.5707963267948966"
      ]
     },
     "execution_count": 102,
     "metadata": {},
     "output_type": "execute_result"
    }
   ],
   "source": [
    "rpy = math.RollPitchYaw(np.pi/2, np.pi/2, np.pi/2)\n",
    "rpy.roll_angle()"
   ]
  },
  {
   "cell_type": "markdown",
   "id": "33d61a42",
   "metadata": {},
   "source": [
    "***math.RollPitchYaw().ToQuaternion()***"
   ]
  },
  {
   "cell_type": "code",
   "execution_count": 103,
   "id": "10dfa74a",
   "metadata": {},
   "outputs": [
    {
     "data": {
      "text/plain": [
       "<pydrake.common.eigen_geometry.Quaternion at 0x7fdfd6730630>"
      ]
     },
     "execution_count": 103,
     "metadata": {},
     "output_type": "execute_result"
    }
   ],
   "source": [
    "rpy = math.RollPitchYaw(np.pi/2, np.pi/2, np.pi/2)\n",
    "rpy.ToQuaternion()"
   ]
  },
  {
   "cell_type": "markdown",
   "id": "2ed344e9",
   "metadata": {},
   "source": [
    "***math.RollPitchYaw().ToRotationMatrix()***"
   ]
  },
  {
   "cell_type": "code",
   "execution_count": 104,
   "id": "e0020029",
   "metadata": {},
   "outputs": [
    {
     "data": {
      "text/plain": [
       "RotationMatrix([\n",
       "  [3.749399456654644e-33, 0.0, 1.0],\n",
       "  [6.123233995736766e-17, 1.0, 0.0],\n",
       "  [-1.0, 6.123233995736766e-17, 3.749399456654644e-33],\n",
       "])"
      ]
     },
     "execution_count": 104,
     "metadata": {},
     "output_type": "execute_result"
    }
   ],
   "source": [
    "rpy = math.RollPitchYaw(np.pi/2, np.pi/2, np.pi/2)\n",
    "rpy.ToRotationMatrix()"
   ]
  },
  {
   "cell_type": "markdown",
   "id": "2a03dea6",
   "metadata": {},
   "source": [
    "***math.RollPitchYaw().vector()***"
   ]
  },
  {
   "cell_type": "code",
   "execution_count": 105,
   "id": "855d5798",
   "metadata": {},
   "outputs": [
    {
     "data": {
      "text/plain": [
       "array([1.57079633, 1.57079633, 1.57079633])"
      ]
     },
     "execution_count": 105,
     "metadata": {},
     "output_type": "execute_result"
    }
   ],
   "source": [
    "# Returns the numpy array(1x3) underlying this RollPitchYaw.\n",
    "rpy = math.RollPitchYaw(np.pi/2, np.pi/2, np.pi/2)\n",
    "rpy.vector()"
   ]
  },
  {
   "cell_type": "markdown",
   "id": "432224b5",
   "metadata": {},
   "source": [
    "***math.RollPitchYaw().yaw_angle()***"
   ]
  },
  {
   "cell_type": "code",
   "execution_count": 106,
   "id": "a54690fb",
   "metadata": {},
   "outputs": [
    {
     "data": {
      "text/plain": [
       "1.5707963267948966"
      ]
     },
     "execution_count": 106,
     "metadata": {},
     "output_type": "execute_result"
    }
   ],
   "source": [
    "rpy = math.RollPitchYaw(np.pi/2, np.pi/2, np.pi/2)\n",
    "rpy.yaw_angle()"
   ]
  },
  {
   "cell_type": "markdown",
   "id": "460579cb",
   "metadata": {},
   "source": [
    "## [Class]: pydrake.math.RotationMatrix\n",
    "\n",
    "- Note to self: do AutoDiffXD and Expression versions"
   ]
  },
  {
   "cell_type": "code",
   "execution_count": 107,
   "id": "66bf06b1",
   "metadata": {},
   "outputs": [],
   "source": [
    "# 1) Default Constructor (returns identity)\n",
    "Rmat0 = math.RotationMatrix()\n",
    "\n",
    "# 1) Construct with another RotationMatrix:\n",
    "Rmat1 = math.RotationMatrix(Rmat0)\n",
    "\n",
    "# 3) Construct with 3x3 numpy array\n",
    "Rmat3 = math.RotationMatrix(\n",
    "    np.array([  [3.749399456654644e-33, 0.0, 1.0],\n",
    "                [6.123233995736766e-17, 1.0, 0.0],\n",
    "                [-1.0, 6.123233995736766e-17, 3.749399456654644e-33] ])\n",
    ")\n",
    "\n",
    "# 4) Construct with quaternion:\n",
    "from pydrake.common.eigen_geometry import Quaternion\n",
    "quat = Quaternion([1.0, 0, 0, 0])\n",
    "Rmat4 = math.RotationMatrix(quat)\n",
    "\n",
    "# 5) Construct with AngleAxis object:\n",
    "from pydrake.common.eigen_geometry import AngleAxis\n",
    "angax = AngleAxis(np.pi/2, np.array([[1, 0, 0]]).T)\n",
    "Rmat5 = math.RotationMatrix(angax)\n",
    "\n",
    "#6 ) Construct with RollPitchYaw object:\n",
    "rpy = math.RollPitchYaw(np.pi/3, np.pi/3, np.pi/3)\n",
    "Rmat5 = math.RotationMatrix(rpy)"
   ]
  },
  {
   "cell_type": "markdown",
   "id": "1bd2f25c",
   "metadata": {},
   "source": [
    "***math.RotationMatrix().cast()***"
   ]
  },
  {
   "cell_type": "code",
   "execution_count": 108,
   "id": "5b33caa7",
   "metadata": {
    "scrolled": true
   },
   "outputs": [
    {
     "data": {
      "text/plain": [
       "RotationMatrix_[AutoDiffXd]([\n",
       "  [<AutoDiffXd 0.2500000000000001 nderiv=0>, <AutoDiffXd -0.058012701892219354 nderiv=0>, <AutoDiffXd 0.9665063509461096 nderiv=0>],\n",
       "  [<AutoDiffXd 0.4330127018922194 nderiv=0>, <AutoDiffXd 0.899519052838329 nderiv=0>, <AutoDiffXd -0.05801270189221941 nderiv=0>],\n",
       "  [<AutoDiffXd -0.8660254037844386 nderiv=0>, <AutoDiffXd 0.4330127018922194 nderiv=0>, <AutoDiffXd 0.2500000000000001 nderiv=0>],\n",
       "])"
      ]
     },
     "execution_count": 108,
     "metadata": {},
     "output_type": "execute_result"
    }
   ],
   "source": [
    "Rmat5.cast[AutoDiffXd]()"
   ]
  },
  {
   "cell_type": "code",
   "execution_count": 109,
   "id": "382cf70c",
   "metadata": {},
   "outputs": [
    {
     "data": {
      "text/plain": [
       "RotationMatrix_[Expression]([\n",
       "  [<Expression \"0.25000000000000011\">, <Expression \"-0.058012701892219354\">, <Expression \"0.96650635094610959\">],\n",
       "  [<Expression \"0.43301270189221941\">, <Expression \"0.899519052838329\">, <Expression \"-0.058012701892219409\">],\n",
       "  [<Expression \"-0.8660254037844386\">, <Expression \"0.43301270189221941\">, <Expression \"0.25000000000000011\">],\n",
       "])"
      ]
     },
     "execution_count": 109,
     "metadata": {},
     "output_type": "execute_result"
    }
   ],
   "source": [
    "Rmat5.cast[Expression]()"
   ]
  },
  {
   "cell_type": "code",
   "execution_count": 110,
   "id": "cc0687fd",
   "metadata": {},
   "outputs": [
    {
     "data": {
      "text/plain": [
       "RotationMatrix([\n",
       "  [0.2500000000000001, -0.058012701892219354, 0.9665063509461096],\n",
       "  [0.4330127018922194, 0.899519052838329, -0.05801270189221941],\n",
       "  [-0.8660254037844386, 0.4330127018922194, 0.2500000000000001],\n",
       "])"
      ]
     },
     "execution_count": 110,
     "metadata": {},
     "output_type": "execute_result"
    }
   ],
   "source": [
    "Rmat5.cast[float]()"
   ]
  },
  {
   "cell_type": "markdown",
   "id": "415486fe",
   "metadata": {},
   "source": [
    "***math.RotationMatrix().col()***"
   ]
  },
  {
   "cell_type": "code",
   "execution_count": 111,
   "id": "b7e27740",
   "metadata": {},
   "outputs": [
    {
     "data": {
      "text/plain": [
       "array([ 0.25     ,  0.4330127, -0.8660254])"
      ]
     },
     "execution_count": 111,
     "metadata": {},
     "output_type": "execute_result"
    }
   ],
   "source": [
    "# Get column vector at index:\n",
    "rpy = math.RollPitchYaw(np.pi/3, np.pi/3, np.pi/3)\n",
    "Rmat5 = math.RotationMatrix(rpy)\n",
    "Rmat5.col(0)"
   ]
  },
  {
   "cell_type": "markdown",
   "id": "964b59f3",
   "metadata": {},
   "source": [
    "***math.RotationMatrix().Identity()***"
   ]
  },
  {
   "cell_type": "code",
   "execution_count": 112,
   "id": "d629e13a",
   "metadata": {},
   "outputs": [
    {
     "data": {
      "text/plain": [
       "RotationMatrix([\n",
       "  [1.0, 0.0, 0.0],\n",
       "  [0.0, 1.0, 0.0],\n",
       "  [0.0, 0.0, 1.0],\n",
       "])"
      ]
     },
     "execution_count": 112,
     "metadata": {},
     "output_type": "execute_result"
    }
   ],
   "source": [
    "rpy = math.RollPitchYaw(np.pi/3, np.pi/3, np.pi/3)\n",
    "Rmat5 = math.RotationMatrix(rpy)\n",
    "Rmat5.Identity()"
   ]
  },
  {
   "cell_type": "markdown",
   "id": "a1a8e631",
   "metadata": {},
   "source": [
    "***math.RotationMatrix().inverse()***"
   ]
  },
  {
   "cell_type": "code",
   "execution_count": 113,
   "id": "841c763b",
   "metadata": {},
   "outputs": [
    {
     "data": {
      "text/plain": [
       "RotationMatrix([\n",
       "  [0.2500000000000001, 0.4330127018922194, -0.8660254037844386],\n",
       "  [-0.058012701892219354, 0.899519052838329, 0.4330127018922194],\n",
       "  [0.9665063509461096, -0.05801270189221941, 0.2500000000000001],\n",
       "])"
      ]
     },
     "execution_count": 113,
     "metadata": {},
     "output_type": "execute_result"
    }
   ],
   "source": [
    "rpy = math.RollPitchYaw(np.pi/3, np.pi/3, np.pi/3)\n",
    "Rmat5 = math.RotationMatrix(rpy)\n",
    "Rmat5.inverse()"
   ]
  },
  {
   "cell_type": "markdown",
   "id": "904c3b13",
   "metadata": {},
   "source": [
    "***math.RotationMatrix().InvertAndCompose()***"
   ]
  },
  {
   "cell_type": "code",
   "execution_count": 114,
   "id": "c3c72462",
   "metadata": {},
   "outputs": [
    {
     "data": {
      "text/plain": [
       "RotationMatrix([\n",
       "  [1.0, 2.8162062380854957e-18, -4.0636983087920364e-17],\n",
       "  [2.8162062380854957e-18, 1.0, -3.519265968729763e-17],\n",
       "  [-4.0636983087920364e-17, -3.519265968729763e-17, 1.0],\n",
       "])"
      ]
     },
     "execution_count": 114,
     "metadata": {},
     "output_type": "execute_result"
    }
   ],
   "source": [
    "# Calculates the product of this inverted and another RotationMatrix. If you consider this to be the rotation matrix R_AB, and other to be R_AC, then this method returns R_BC = R_AB⁻¹ * R_AC. For T==double, this method can be much faster than inverting first and then performing the composition because it can take advantage of the orthogonality of rotation matrices. On some platforms it can use SIMD instructions for further speedups.\n",
    "rpy = math.RollPitchYaw(np.pi/3, np.pi/3, np.pi/3)\n",
    "Rmat5 = math.RotationMatrix(rpy)\n",
    "Rmat5.InvertAndCompose(Rmat5)"
   ]
  },
  {
   "cell_type": "markdown",
   "id": "d080dec4",
   "metadata": {},
   "source": [
    "***math.RotationMatrix().IsExactlyIdentity()***"
   ]
  },
  {
   "cell_type": "code",
   "execution_count": 115,
   "id": "2033ecb3",
   "metadata": {},
   "outputs": [
    {
     "data": {
      "text/plain": [
       "False"
      ]
     },
     "execution_count": 115,
     "metadata": {},
     "output_type": "execute_result"
    }
   ],
   "source": [
    "rpy = math.RollPitchYaw(np.pi/3, np.pi/3, np.pi/3)\n",
    "Rmat5 = math.RotationMatrix(rpy)\n",
    "Rmat5.IsExactlyIdentity()"
   ]
  },
  {
   "cell_type": "markdown",
   "id": "5b45ecf0",
   "metadata": {},
   "source": [
    "***math.RotationMatrix().IsNearlyIdentity()***"
   ]
  },
  {
   "cell_type": "code",
   "execution_count": 116,
   "id": "1c3e0e99",
   "metadata": {},
   "outputs": [
    {
     "data": {
      "text/plain": [
       "False"
      ]
     },
     "execution_count": 116,
     "metadata": {},
     "output_type": "execute_result"
    }
   ],
   "source": [
    "rpy = math.RollPitchYaw(np.pi/3, np.pi/3, np.pi/3)\n",
    "Rmat5 = math.RotationMatrix(rpy)\n",
    "Rmat5.IsNearlyIdentity()"
   ]
  },
  {
   "cell_type": "markdown",
   "id": "f6b8e4d5",
   "metadata": {},
   "source": [
    "***math.RotationMatrix().IsValid()***"
   ]
  },
  {
   "cell_type": "code",
   "execution_count": 117,
   "id": "a93d216a",
   "metadata": {},
   "outputs": [
    {
     "data": {
      "text/plain": [
       "True"
      ]
     },
     "execution_count": 117,
     "metadata": {},
     "output_type": "execute_result"
    }
   ],
   "source": [
    "rpy = math.RollPitchYaw(np.pi/3, np.pi/3, np.pi/3)\n",
    "Rmat5 = math.RotationMatrix(rpy)\n",
    "Rmat5.IsValid()"
   ]
  },
  {
   "cell_type": "markdown",
   "id": "85d753f9",
   "metadata": {},
   "source": [
    "***math.MakeFromOneVector()***"
   ]
  },
  {
   "cell_type": "code",
   "execution_count": 118,
   "id": "4b936565",
   "metadata": {},
   "outputs": [
    {
     "data": {
      "text/plain": [
       "RotationMatrix([\n",
       "  [-0.0, 1.0, 0.0],\n",
       "  [1.0, 0.0, 0.0],\n",
       "  [-0.0, 0.0, -1.0],\n",
       "])"
      ]
     },
     "execution_count": 118,
     "metadata": {},
     "output_type": "execute_result"
    }
   ],
   "source": [
    "# Creates a 3D right-handed orthonormal basis B from a given vector b_A, \n",
    "# returned as a rotation matrix R_AB. It consists of orthogonal unit vectors\n",
    "# u_A, v_A, w_A where u_A is the normalized b_A in the axis_index column of \n",
    "# R_AB and v_A has one element which is zero. If an element of b_A is zero, \n",
    "# then one element of w_A is 1 and the other two elements are 0.\n",
    "b_A = np.array([1.0, 0.0, 0.0])\n",
    "math.RotationMatrix().MakeFromOneVector(b_A, axis_index = 1)"
   ]
  },
  {
   "cell_type": "markdown",
   "id": "6c7e44d7",
   "metadata": {},
   "source": [
    "***math.RotationMatrix().MakeXRotation()***"
   ]
  },
  {
   "cell_type": "code",
   "execution_count": 119,
   "id": "1fcd565d",
   "metadata": {},
   "outputs": [
    {
     "data": {
      "text/plain": [
       "RotationMatrix([\n",
       "  [1.0, 0.0, 0.0],\n",
       "  [0.0, 0.5000000000000001, -0.8660254037844386],\n",
       "  [0.0, 0.8660254037844386, 0.5000000000000001],\n",
       "])"
      ]
     },
     "execution_count": 119,
     "metadata": {},
     "output_type": "execute_result"
    }
   ],
   "source": [
    "# Makes the RotationMatrix R_AB associated with rotating a frame \n",
    "# B relative to a frame A by an angle theta about unit vector \n",
    "# Ax = Bx.\n",
    "rpy = math.RollPitchYaw(0, 0, 0)\n",
    "Rmat5 = math.RotationMatrix(rpy)\n",
    "theta = np.pi/3\n",
    "Rmat5.MakeXRotation(theta)"
   ]
  },
  {
   "cell_type": "markdown",
   "id": "99768930",
   "metadata": {},
   "source": [
    "***math.RotationMatrix().MakeYRotation()***"
   ]
  },
  {
   "cell_type": "code",
   "execution_count": 120,
   "id": "f57bf519",
   "metadata": {},
   "outputs": [
    {
     "data": {
      "text/plain": [
       "RotationMatrix([\n",
       "  [0.5000000000000001, 0.0, 0.8660254037844386],\n",
       "  [0.0, 1.0, 0.0],\n",
       "  [-0.8660254037844386, 0.0, 0.5000000000000001],\n",
       "])"
      ]
     },
     "execution_count": 120,
     "metadata": {},
     "output_type": "execute_result"
    }
   ],
   "source": [
    "rpy = math.RollPitchYaw(0, 0, 0)\n",
    "Rmat5 = math.RotationMatrix(rpy)\n",
    "theta = np.pi/3\n",
    "Rmat5.MakeYRotation(theta)"
   ]
  },
  {
   "cell_type": "markdown",
   "id": "fbf10183",
   "metadata": {},
   "source": [
    "***math.RotationMatrix().MakeZRotation()***"
   ]
  },
  {
   "cell_type": "code",
   "execution_count": 121,
   "id": "8e6094b6",
   "metadata": {},
   "outputs": [
    {
     "data": {
      "text/plain": [
       "RotationMatrix([\n",
       "  [0.5000000000000001, -0.8660254037844386, 0.0],\n",
       "  [0.8660254037844386, 0.5000000000000001, 0.0],\n",
       "  [0.0, 0.0, 1.0],\n",
       "])"
      ]
     },
     "execution_count": 121,
     "metadata": {},
     "output_type": "execute_result"
    }
   ],
   "source": [
    "rpy = math.RollPitchYaw(0, 0, 0)\n",
    "Rmat5 = math.RotationMatrix(rpy)\n",
    "theta = np.pi/3\n",
    "Rmat5.MakeZRotation(theta)"
   ]
  },
  {
   "cell_type": "markdown",
   "id": "50a32621",
   "metadata": {},
   "source": [
    "***math.RotationMatrix().matrix()***"
   ]
  },
  {
   "cell_type": "code",
   "execution_count": 122,
   "id": "42a01513",
   "metadata": {
    "scrolled": false
   },
   "outputs": [
    {
     "data": {
      "text/plain": [
       "array([[ 0.25      , -0.0580127 ,  0.96650635],\n",
       "       [ 0.4330127 ,  0.89951905, -0.0580127 ],\n",
       "       [-0.8660254 ,  0.4330127 ,  0.25      ]])"
      ]
     },
     "execution_count": 122,
     "metadata": {},
     "output_type": "execute_result"
    }
   ],
   "source": [
    "# Returns the Matrix3 underlying a RotationMatrix.\n",
    "rpy = math.RollPitchYaw(np.pi/3, np.pi/3, np.pi/3)\n",
    "Rmat5 = math.RotationMatrix(rpy)\n",
    "Rmat5.matrix()"
   ]
  },
  {
   "cell_type": "markdown",
   "id": "7271e8d5",
   "metadata": {},
   "source": [
    "***math.RotationMatrix().multiply()***"
   ]
  },
  {
   "cell_type": "code",
   "execution_count": 123,
   "id": "b670c1f5",
   "metadata": {},
   "outputs": [
    {
     "data": {
      "text/plain": [
       "RotationMatrix([\n",
       "  [-0.3024535860488, 0.9414037444617962, 0.1492676059951728],\n",
       "  [0.6735739998521033, 0.321900832025964, -0.6653404550034748],\n",
       "  [-0.6744033622465564, -0.10069182814062493, -0.7314651466312246],\n",
       "])"
      ]
     },
     "execution_count": 123,
     "metadata": {},
     "output_type": "execute_result"
    }
   ],
   "source": [
    "# Returns the Matrix3 underlying a RotationMatrix.\n",
    "rpy = math.RollPitchYaw(np.pi/3, np.pi/3, np.pi/3)\n",
    "Rmat5 = math.RotationMatrix(rpy)\n",
    "rpy2 = math.RollPitchYaw(np.pi/2, np.pi/6, np.pi/8)\n",
    "Rmat6 = math.RotationMatrix(rpy2)\n",
    "Rmat5.multiply(Rmat6)"
   ]
  },
  {
   "cell_type": "markdown",
   "id": "6d22bdab",
   "metadata": {},
   "source": [
    "***math.RotationMatrix().ProjectToRotationMatrix()***"
   ]
  },
  {
   "cell_type": "code",
   "execution_count": 124,
   "id": "8d129129",
   "metadata": {},
   "outputs": [
    {
     "data": {
      "text/plain": [
       "RotationMatrix([\n",
       "  [0.24904415825920032, -0.05793268168849103, 0.96675788676863],\n",
       "  [0.43402162330621874, 0.8990378384111617, -0.057932681688491194],\n",
       "  [-0.865795725179792, 0.43402162330621874, 0.2490441582592002],\n",
       "])"
      ]
     },
     "execution_count": 124,
     "metadata": {},
     "output_type": "execute_result"
    }
   ],
   "source": [
    "# Clean up an \"almost\" rotation matrix:\n",
    "math.RotationMatrix().ProjectToRotationMatrix(\n",
    "    np.array([[ 0.250, -0.050,  0.96],\n",
    "              [ 0.433,  0.890, -0.05],\n",
    "              [-0.866,  0.433,  0.25]]))"
   ]
  },
  {
   "cell_type": "markdown",
   "id": "6a02a56f",
   "metadata": {},
   "source": [
    "***math.RotationMatrix().row()***"
   ]
  },
  {
   "cell_type": "code",
   "execution_count": 125,
   "id": "6d325e99",
   "metadata": {},
   "outputs": [
    {
     "data": {
      "text/plain": [
       "array([0.80010315, 0.46193977, 0.38268343])"
      ]
     },
     "execution_count": 125,
     "metadata": {},
     "output_type": "execute_result"
    }
   ],
   "source": [
    "rpy = math.RollPitchYaw(np.pi/2, np.pi/6, np.pi/8)\n",
    "Rmat = math.RotationMatrix(rpy)\n",
    "Rmat.row(0)"
   ]
  },
  {
   "cell_type": "markdown",
   "id": "f935a1fb",
   "metadata": {},
   "source": [
    "***math.RotationMatrix().ToAngleAxis()***"
   ]
  },
  {
   "cell_type": "code",
   "execution_count": 126,
   "id": "6c7372d5",
   "metadata": {},
   "outputs": [
    {
     "data": {
      "text/plain": [
       "<pydrake.common.eigen_geometry.AngleAxis at 0x7fdfd67d74f0>"
      ]
     },
     "execution_count": 126,
     "metadata": {},
     "output_type": "execute_result"
    }
   ],
   "source": [
    "rpy = math.RollPitchYaw(np.pi/2, np.pi/6, np.pi/8)\n",
    "Rmat = math.RotationMatrix(rpy)\n",
    "Rmat.ToAngleAxis()"
   ]
  },
  {
   "cell_type": "markdown",
   "id": "52177cd3",
   "metadata": {},
   "source": [
    "***math.RotationMatrix().ToQuaternion()***"
   ]
  },
  {
   "cell_type": "code",
   "execution_count": 127,
   "id": "e1c7211c",
   "metadata": {},
   "outputs": [
    {
     "data": {
      "text/plain": [
       "<pydrake.common.eigen_geometry.Quaternion at 0x7fdfd683fc30>"
      ]
     },
     "execution_count": 127,
     "metadata": {},
     "output_type": "execute_result"
    }
   ],
   "source": [
    "rpy = math.RollPitchYaw(np.pi/2, np.pi/6, np.pi/8)\n",
    "Rmat = math.RotationMatrix(rpy)\n",
    "Rmat.ToQuaternion()"
   ]
  },
  {
   "cell_type": "markdown",
   "id": "4a0baebd",
   "metadata": {},
   "source": [
    "***math.RotationMatrix().ToRollPitchYaw()***"
   ]
  },
  {
   "cell_type": "code",
   "execution_count": 128,
   "id": "ae647533",
   "metadata": {},
   "outputs": [
    {
     "data": {
      "text/plain": [
       "RollPitchYaw(roll=1.5707963267948966, pitch=0.5235987755982988, yaw=0.39269908169872403)"
      ]
     },
     "execution_count": 128,
     "metadata": {},
     "output_type": "execute_result"
    }
   ],
   "source": [
    "rpy = math.RollPitchYaw(np.pi/2, np.pi/6, np.pi/8)\n",
    "Rmat = math.RotationMatrix(rpy)\n",
    "Rmat.ToRollPitchYaw()"
   ]
  },
  {
   "cell_type": "markdown",
   "id": "ad22e258",
   "metadata": {},
   "source": [
    "***math.RotationMatrix().transpose()***"
   ]
  },
  {
   "cell_type": "code",
   "execution_count": 129,
   "id": "a57200e6",
   "metadata": {},
   "outputs": [
    {
     "data": {
      "text/plain": [
       "RotationMatrix([\n",
       "  [0.8001031451912656, 0.3314135740355918, -0.49999999999999994],\n",
       "  [0.4619397662556433, 0.19134171618254492, 0.8660254037844387],\n",
       "  [0.38268343236508984, -0.9238795325112867, 5.3028761936245346e-17],\n",
       "])"
      ]
     },
     "execution_count": 129,
     "metadata": {},
     "output_type": "execute_result"
    }
   ],
   "source": [
    "rpy = math.RollPitchYaw(np.pi/2, np.pi/6, np.pi/8)\n",
    "Rmat = math.RotationMatrix(rpy)\n",
    "Rmat.transpose()"
   ]
  },
  {
   "cell_type": "markdown",
   "id": "1d6514f7",
   "metadata": {},
   "source": [
    "### [Function]: pydrake.math.sin"
   ]
  },
  {
   "cell_type": "code",
   "execution_count": 130,
   "id": "f77e412e",
   "metadata": {},
   "outputs": [
    {
     "name": "stdout",
     "output_type": "stream",
     "text": [
      "Numeric:  0.479425538604203\n"
     ]
    },
    {
     "data": {
      "text/markdown": [
       "Symbolic: $\\sin{x0}$"
      ],
      "text/plain": [
       "<IPython.core.display.Markdown object>"
      ]
     },
     "metadata": {},
     "output_type": "display_data"
    },
    {
     "name": "stdout",
     "output_type": "stream",
     "text": [
      "AD value:  0.479425538604203\n",
      "AD derivatives:  [0.87758256]\n"
     ]
    }
   ],
   "source": [
    "# Numerical Example:\n",
    "numerical = math.sin(0.5)\n",
    "\n",
    "# Symbolic Example:\n",
    "x = Variable(\"x0\")\n",
    "expr = math.sin(x)\n",
    "\n",
    "# AutoDiff Example:\n",
    "x_ad = AutoDiffXd(0.5, [1.0])\n",
    "expr_ad = math.sin(x_ad)\n",
    "\n",
    "# Print results:\n",
    "print(\"Numeric: \", numerical)\n",
    "display(Markdown(\"Symbolic: $\" + ToLatex(expr) + \"$\"))\n",
    "print(\"AD value: \", expr_ad.value())\n",
    "print(\"AD derivatives: \", expr_ad.derivatives())"
   ]
  },
  {
   "cell_type": "markdown",
   "id": "78c8747e",
   "metadata": {},
   "source": [
    "### [Function]: pydrake.math.sinh"
   ]
  },
  {
   "cell_type": "code",
   "execution_count": 131,
   "id": "ac4993a9",
   "metadata": {},
   "outputs": [
    {
     "name": "stdout",
     "output_type": "stream",
     "text": [
      "Numeric:  0.5210953054937474\n"
     ]
    },
    {
     "data": {
      "text/markdown": [
       "Symbolic: $\\sinh{x0}$"
      ],
      "text/plain": [
       "<IPython.core.display.Markdown object>"
      ]
     },
     "metadata": {},
     "output_type": "display_data"
    },
    {
     "name": "stdout",
     "output_type": "stream",
     "text": [
      "AD value:  0.5210953054937474\n",
      "AD derivatives:  [1.12762597]\n"
     ]
    }
   ],
   "source": [
    "# Numerical Example:\n",
    "numerical = math.sinh(0.5)\n",
    "\n",
    "# Symbolic Example:\n",
    "x = Variable(\"x0\")\n",
    "expr = math.sinh(x)\n",
    "\n",
    "# AutoDiff Example:\n",
    "x_ad = AutoDiffXd(0.5, [1.0])\n",
    "expr_ad = math.sinh(x_ad)\n",
    "\n",
    "# Print results:\n",
    "print(\"Numeric: \", numerical)\n",
    "display(Markdown(\"Symbolic: $\" + ToLatex(expr) + \"$\"))\n",
    "print(\"AD value: \", expr_ad.value())\n",
    "print(\"AD derivatives: \", expr_ad.derivatives())"
   ]
  },
  {
   "cell_type": "markdown",
   "id": "14b5c977",
   "metadata": {},
   "source": [
    "### [Function]: pydrake.math.SoftOverMax\n",
    "\n",
    "Computes a smooth over approximation of max function, namely SoftOverMax(x) >= max(x). Mathematically we compute this as\n",
    "$$log (\\sum_i \\frac{exp(\\alpha x_i)))}{\\alpha}$$"
   ]
  },
  {
   "cell_type": "code",
   "execution_count": 132,
   "id": "8cd97d6b",
   "metadata": {},
   "outputs": [
    {
     "data": {
      "text/plain": [
       "1000000000000.0"
      ]
     },
     "execution_count": 132,
     "metadata": {},
     "output_type": "execute_result"
    }
   ],
   "source": [
    "# Larger α makes the soft max more similar to max,\n",
    "alpha = 0.9\n",
    "math.SoftOverMax(np.linspace(-1e+12, 1e12, 20), alpha)"
   ]
  },
  {
   "cell_type": "markdown",
   "id": "25028a77",
   "metadata": {},
   "source": [
    "### [Function]: pydrake.math.SoftOverMin"
   ]
  },
  {
   "cell_type": "code",
   "execution_count": 133,
   "id": "fe449a03",
   "metadata": {},
   "outputs": [
    {
     "data": {
      "text/plain": [
       "-1000000000000.0"
      ]
     },
     "execution_count": 133,
     "metadata": {},
     "output_type": "execute_result"
    }
   ],
   "source": [
    "# Larger α makes the soft max more similar to max,\n",
    "alpha = 0.9\n",
    "math.SoftOverMin(np.linspace(-1e+12, 1e12, 20), alpha)"
   ]
  },
  {
   "cell_type": "markdown",
   "id": "c76ae428",
   "metadata": {},
   "source": [
    "### [Function]: pydrake.math.SoftUnderMin"
   ]
  },
  {
   "cell_type": "code",
   "execution_count": 134,
   "id": "fabaebe7",
   "metadata": {},
   "outputs": [
    {
     "data": {
      "text/plain": [
       "-1000000000000.0"
      ]
     },
     "execution_count": 134,
     "metadata": {},
     "output_type": "execute_result"
    }
   ],
   "source": [
    "# Larger α makes the soft max more similar to max,\n",
    "alpha = 0.9\n",
    "math.SoftUnderMin(np.linspace(-1e+12, 1e12, 20), alpha)"
   ]
  },
  {
   "cell_type": "markdown",
   "id": "55abd146",
   "metadata": {},
   "source": [
    "### [Function]: pydrake.math.SoftUnderMax"
   ]
  },
  {
   "cell_type": "code",
   "execution_count": 135,
   "id": "d5d8bd0c",
   "metadata": {},
   "outputs": [
    {
     "data": {
      "text/plain": [
       "1000000000000.0"
      ]
     },
     "execution_count": 135,
     "metadata": {},
     "output_type": "execute_result"
    }
   ],
   "source": [
    "# Larger α makes the soft max more similar to max,\n",
    "alpha = 0.9\n",
    "math.SoftUnderMax(np.linspace(-1e+12, 1e12, 20), alpha)"
   ]
  },
  {
   "cell_type": "markdown",
   "id": "8d3e49a9",
   "metadata": {},
   "source": [
    "### [Function]: pydrake.math.sqrt"
   ]
  },
  {
   "cell_type": "code",
   "execution_count": 136,
   "id": "4c20e290",
   "metadata": {},
   "outputs": [
    {
     "name": "stdout",
     "output_type": "stream",
     "text": [
      "Numeric:  2.0\n"
     ]
    },
    {
     "data": {
      "text/markdown": [
       "Symbolic: $\\sqrt{x}$"
      ],
      "text/plain": [
       "<IPython.core.display.Markdown object>"
      ]
     },
     "metadata": {},
     "output_type": "display_data"
    },
    {
     "name": "stdout",
     "output_type": "stream",
     "text": [
      "AD value:  2.0\n",
      "AD derivatives:  [0.25]\n"
     ]
    }
   ],
   "source": [
    "# Numerical Example:\n",
    "numerical = math.sqrt(4)\n",
    "\n",
    "# Symbolic Example:\n",
    "x = Variable(\"x\")\n",
    "expr = math.sqrt(x)\n",
    "\n",
    "# AutoDiff Example:\n",
    "x_ad = AutoDiffXd(4, [1.0])\n",
    "expr_ad = math.sqrt(x_ad)\n",
    "\n",
    "# Print results:\n",
    "print(\"Numeric: \", numerical)\n",
    "display(Markdown(\"Symbolic: $\" + ToLatex(expr) + \"$\"))\n",
    "print(\"AD value: \", expr_ad.value())\n",
    "print(\"AD derivatives: \", expr_ad.derivatives())"
   ]
  },
  {
   "cell_type": "markdown",
   "id": "58ca88dd",
   "metadata": {},
   "source": [
    "### [Function]: pydrake.math.tan"
   ]
  },
  {
   "cell_type": "code",
   "execution_count": 137,
   "id": "b9182fa7",
   "metadata": {},
   "outputs": [
    {
     "name": "stdout",
     "output_type": "stream",
     "text": [
      "Numeric:  1.5574077246549023\n"
     ]
    },
    {
     "data": {
      "text/markdown": [
       "Symbolic: $\\tan{x}$"
      ],
      "text/plain": [
       "<IPython.core.display.Markdown object>"
      ]
     },
     "metadata": {},
     "output_type": "display_data"
    },
    {
     "name": "stdout",
     "output_type": "stream",
     "text": [
      "AD value:  1.1578212823495775\n",
      "AD derivatives:  [2.34055012]\n"
     ]
    }
   ],
   "source": [
    "# Numerical Example:\n",
    "numerical = math.tan(1)\n",
    "\n",
    "# Symbolic Example:\n",
    "x = Variable(\"x\")\n",
    "expr = math.tan(x)\n",
    "\n",
    "# AutoDiff Example:\n",
    "x_ad = AutoDiffXd(4, [1.0])\n",
    "expr_ad = math.tan(x_ad)\n",
    "\n",
    "# Print results:\n",
    "print(\"Numeric: \", numerical)\n",
    "display(Markdown(\"Symbolic: $\" + ToLatex(expr) + \"$\"))\n",
    "print(\"AD value: \", expr_ad.value())\n",
    "print(\"AD derivatives: \", expr_ad.derivatives())"
   ]
  },
  {
   "cell_type": "markdown",
   "id": "e0a1cb60",
   "metadata": {},
   "source": [
    "### [Function]: pydrake.math.tanh"
   ]
  },
  {
   "cell_type": "code",
   "execution_count": 138,
   "id": "6466bc99",
   "metadata": {},
   "outputs": [
    {
     "name": "stdout",
     "output_type": "stream",
     "text": [
      "Numeric:  0.7615941559557649\n"
     ]
    },
    {
     "data": {
      "text/markdown": [
       "Symbolic: $\\tanh{x}$"
      ],
      "text/plain": [
       "<IPython.core.display.Markdown object>"
      ]
     },
     "metadata": {},
     "output_type": "display_data"
    },
    {
     "name": "stdout",
     "output_type": "stream",
     "text": [
      "AD value:  0.999329299739067\n",
      "AD derivatives:  [0.00134095]\n"
     ]
    }
   ],
   "source": [
    "# Numerical Example:\n",
    "numerical = math.tanh(1)\n",
    "\n",
    "# Symbolic Example:\n",
    "x = Variable(\"x\")\n",
    "expr = math.tanh(x)\n",
    "\n",
    "# AutoDiff Example:\n",
    "x_ad = AutoDiffXd(4, [1.0])\n",
    "expr_ad = math.tanh(x_ad)\n",
    "\n",
    "# Print results:\n",
    "print(\"Numeric: \", numerical)\n",
    "display(Markdown(\"Symbolic: $\" + ToLatex(expr) + \"$\"))\n",
    "print(\"AD value: \", expr_ad.value())\n",
    "print(\"AD derivatives: \", expr_ad.derivatives())"
   ]
  },
  {
   "cell_type": "markdown",
   "id": "997ff16c",
   "metadata": {},
   "source": [
    "### [Function]: pydrake.math.ToSymmetricMatrixFromLowerTriangularColumns("
   ]
  },
  {
   "cell_type": "code",
   "execution_count": 139,
   "id": "166c5f04",
   "metadata": {},
   "outputs": [
    {
     "data": {
      "text/plain": [
       "array([[1., 2., 3.],\n",
       "       [2., 4., 5.],\n",
       "       [3., 5., 6.]])"
      ]
     },
     "execution_count": 139,
     "metadata": {},
     "output_type": "execute_result"
    }
   ],
   "source": [
    "lower_triangular_columns = np.array([[1,2,3,4,5,6]]).T\n",
    "math.ToSymmetricMatrixFromLowerTriangularColumns(lower_triangular_columns)"
   ]
  },
  {
   "cell_type": "markdown",
   "id": "f6ac2dfd",
   "metadata": {},
   "source": [
    "### [Function]: pydrake.math.UniformlyRandomAngleAxis"
   ]
  },
  {
   "cell_type": "code",
   "execution_count": 140,
   "id": "b6f23fe9",
   "metadata": {},
   "outputs": [
    {
     "data": {
      "text/plain": [
       "1.286035054979245"
      ]
     },
     "execution_count": 140,
     "metadata": {},
     "output_type": "execute_result"
    }
   ],
   "source": [
    "from pydrake.common import RandomGenerator\n",
    "angax = math.UniformlyRandomAngleAxis(RandomGenerator())\n",
    "angax.angle()"
   ]
  },
  {
   "cell_type": "markdown",
   "id": "064e4ac8",
   "metadata": {},
   "source": [
    "### [Function]: pydrake.math.UniformlyRandomQuaternion"
   ]
  },
  {
   "cell_type": "code",
   "execution_count": 141,
   "id": "1a92bf75",
   "metadata": {},
   "outputs": [
    {
     "data": {
      "text/plain": [
       "array([[ 0.72904599,  0.51016685,  0.45631319],\n",
       "       [-0.64562052,  0.29116433,  0.70597272],\n",
       "       [ 0.22730175, -0.80929174,  0.54164637]])"
      ]
     },
     "execution_count": 141,
     "metadata": {},
     "output_type": "execute_result"
    }
   ],
   "source": [
    "from pydrake.common import RandomGenerator\n",
    "randquat = math.UniformlyRandomQuaternion(RandomGenerator())\n",
    "randquat.rotation()"
   ]
  },
  {
   "cell_type": "markdown",
   "id": "358d71c3",
   "metadata": {},
   "source": [
    "### [Function]: pydrake.math.UniformlyRandomRotationMatrix\n",
    "\n",
    "Generates a rotation (in the rotation matrix representation) that rotates a point on the unit sphere to another point on the unit sphere with a uniform distribution over the sphere."
   ]
  },
  {
   "cell_type": "code",
   "execution_count": 142,
   "id": "b8e9b89f",
   "metadata": {},
   "outputs": [
    {
     "data": {
      "text/plain": [
       "RotationMatrix([\n",
       "  [0.7290459914064391, 0.5101668494275139, 0.4563131908672011],\n",
       "  [-0.6456205191266177, 0.2911643269934498, 0.7059727189977869],\n",
       "  [0.2273017547157944, -0.8092917399996467, 0.5416463716037108],\n",
       "])"
      ]
     },
     "execution_count": 142,
     "metadata": {},
     "output_type": "execute_result"
    }
   ],
   "source": [
    "from pydrake.common import RandomGenerator\n",
    "math.UniformlyRandomRotationMatrix(RandomGenerator())"
   ]
  },
  {
   "cell_type": "markdown",
   "id": "7b67f51f",
   "metadata": {
    "scrolled": true
   },
   "source": [
    "### [Function]: pydrake.math.UniformlyRandomRPY"
   ]
  },
  {
   "cell_type": "code",
   "execution_count": 143,
   "id": "769bf214",
   "metadata": {},
   "outputs": [
    {
     "data": {
      "text/plain": [
       "array([-0.98098361, -0.22930601, -0.72478471])"
      ]
     },
     "execution_count": 143,
     "metadata": {},
     "output_type": "execute_result"
    }
   ],
   "source": [
    "from pydrake.common import RandomGenerator\n",
    "math.UniformlyRandomRPY(RandomGenerator())"
   ]
  },
  {
   "cell_type": "markdown",
   "id": "f9a7df04",
   "metadata": {},
   "source": [
    "### [Function]: pydrake.math.VectorToSkewSymmetric"
   ]
  },
  {
   "cell_type": "code",
   "execution_count": 144,
   "id": "23c3deeb",
   "metadata": {},
   "outputs": [
    {
     "data": {
      "text/plain": [
       "array([[ 0., -3.,  2.],\n",
       "       [ 3.,  0., -1.],\n",
       "       [-2.,  1.,  0.]])"
      ]
     },
     "execution_count": 144,
     "metadata": {},
     "output_type": "execute_result"
    }
   ],
   "source": [
    "# w = [x,y,z], \n",
    "# get back [0 -z y]\n",
    "#          [z 0 -x]\n",
    "#          [-y x 0]\n",
    "# i.e (w x [])\n",
    "math.VectorToSkewSymmetric(np.array([[1,2,3]]).T)"
   ]
  },
  {
   "cell_type": "markdown",
   "id": "5155008f",
   "metadata": {},
   "source": [
    "### [Function]: pydrake.math.wrap_to"
   ]
  },
  {
   "cell_type": "code",
   "execution_count": 145,
   "id": "fcfd12f8",
   "metadata": {},
   "outputs": [
    {
     "data": {
      "text/plain": [
       "0.0"
      ]
     },
     "execution_count": 145,
     "metadata": {},
     "output_type": "execute_result"
    }
   ],
   "source": [
    "# For variables that are meant to be periodic, \n",
    "# (e.g. over a 2π interval), wraps value into the interval \n",
    "# [low, high)\n",
    "\n",
    "# 6𝜋 = 2𝜋 = 0\n",
    "val_to_wrap = 6*np.pi\n",
    "math.wrap_to(val_to_wrap, 0, 2*np.pi)"
   ]
  }
 ],
 "metadata": {
  "kernelspec": {
   "display_name": "Python 3 (ipykernel)",
   "language": "python",
   "name": "python3"
  },
  "language_info": {
   "codemirror_mode": {
    "name": "ipython",
    "version": 3
   },
   "file_extension": ".py",
   "mimetype": "text/x-python",
   "name": "python",
   "nbconvert_exporter": "python",
   "pygments_lexer": "ipython3",
   "version": "3.10.12"
  }
 },
 "nbformat": 4,
 "nbformat_minor": 5
}
