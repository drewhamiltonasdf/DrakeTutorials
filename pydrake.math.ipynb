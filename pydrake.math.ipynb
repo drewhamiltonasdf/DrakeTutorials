{
 "cells": [
  {
   "cell_type": "markdown",
   "id": "e293ceaa",
   "metadata": {},
   "source": [
    "# pydrake.math\n",
    "\n",
    "- Most of these functions have a version that takes floats, as well as an AutoDiffXd and an Expression version.\n",
    "\n",
    "- AutoDiffXd overload is for autodiffing through equations, obviously, and Expression is for Symbolic computation (similar to Sympy)."
   ]
  },
  {
   "cell_type": "markdown",
   "id": "1c020674",
   "metadata": {},
   "source": [
    "#### Exhaustive List of classes and member functions:\n",
    "\n",
    "- pydrake.math.abs\n",
    "- pydrake.math.acos\n",
    "- pydrake.math.arccos\n",
    "- pydrake.math.arcsin\n",
    "- pydrake.math.arctan\n",
    "- pydrake.math.arctan2\n",
    "- pydrake.math.AreQuaternionsEqualForOrientation\n",
    "- pydrake.math.asin\n",
    "- pydrake.math.atan\n",
    "- pydrake.math.atan2\n",
    "- pydrake.math.BalanceQuadraticForms\n",
    "- pydrake.math.BarycentricMesh\n",
    "    - Eval\n",
    "    - EvalBarycentricWeights\n",
    "    - get_all_mesh_points\n",
    "    - get_input_grid\n",
    "    - get_input_size\n",
    "    - get_mesh_point\n",
    "    - get_num_interpolants\n",
    "    - get_num_mesh_points\n",
    "    - MeshValuesFrom\n",
    "- pydrake.math.BsplineBasis\n",
    "    - ComputeActiveBasisFunctionIndices\n",
    "    - degree\n",
    "    - EvaluateBasisFunctionI\n",
    "    - EvaluateCurve\n",
    "    - final_parameter_value\n",
    "    - FindContainingInterval\n",
    "    - initial_parameter_value\n",
    "    - knots\n",
    "    - num_basis_functions\n",
    "    - order\n",
    "- pydrake.math.CalculateAngularVelocityExpressedInBFromQuaternionDt\n",
    "- pydrake.math.CalculateQuaternionDtConstraintViolation\n",
    "- pydrake.math.CalculateQuaternionDtFromAngularVelocityExpressedInB\n",
    "- pydrake.math.ceil\n",
    "- pydrake.math.ClosestQuaternion\n",
    "- pydrake.math.ComputeNumericalGradient\n",
    "- pydrake.math.ContinuousAlgebraicRiccatiEquation\n",
    "- pydrake.math.cos\n",
    "- pydrake.math.cosh\n",
    "- pydrake.math.DecomposePositiveQuadraticForm\n",
    "- pydrake.math.DecomposePSDmatrixIntoXtransposeTimesX\n",
    "- pydrake.math.DiscreteAlgebraicRiccatiEquation\n",
    "- pydrake.math.exp\n",
    "- pydrake.math.floor\n",
    "- pydrake.math.inv\n",
    "- pydrake.math.is_quaternion_in_canonical_form\n",
    "- pydrake.math.IsBothQuaternionAndQuaternionDtOK\n",
    "- pydrake.math.isnan\n",
    "- pydrake.math.IsPositiveDefinite\n",
    "- pydrake.math.IsQuaternionValid\n",
    "- pydrake.math.IsSymmetric\n",
    "- pydrake.math.KnotVectorType\n",
    "- pydrake.math.log\n",
    "- pydrake.math.matmul\n",
    "- pydrake.math.max\n",
    "- pydrake.math.min\n",
    "- pydrake.math.NumericalGradientMethod\n",
    "- pydrake.math.NumericalGradientOption\n",
    "- pydrake.math.pow\n",
    "- pydrake.math.QuaternionToCanonicalForm\n",
    "- pydrake.math.RealContinuousLyapunovEquation\n",
    "- pydrake.math.RealDiscreteLyapunovEquation\n",
    "- pydrake.math.RigidTransform\n",
    "    - GetAsIsometry3\n",
    "    - GetAsMatrix34\n",
    "    - GetAsMatrix4\n",
    "    - GetMaximumAbsoluteDifference\n",
    "    - GetMaximumAbsoluteTranslationDifference\n",
    "    - Identity\n",
    "    - inverse\n",
    "    - InvertAndCompose\n",
    "    - IsExactlyEqualTo\n",
    "    - IsExactlyIdentity\n",
    "    - IsNearlyEqualTo\n",
    "    - IsNearlyIdentity\n",
    "    - multiply\n",
    "    - rotation\n",
    "    - set\n",
    "    - set_rotation\n",
    "    - set_translation\n",
    "    - SetFromIsometry3\n",
    "    - SetIdentity\n",
    "    - translation\n",
    "    \n",
    "- pydrake.math.RollPitchYaw\n",
    "    - CalcAngularVelocityInChildFromRpyDt\n",
    "    - CalcAngularVelocityInParentFromRpyDt\n",
    "    - CalcRotationMatrixDt\n",
    "    - CalcRpyDDtFromAngularAccelInChild\n",
    "    - CalcRpyDDtFromRpyDtAndAngularAccelInParent\n",
    "    - CalcRpyDtFromAngularVelocityInChild\n",
    "    - CalcRpyDtFromAngularVelocityInParent\n",
    "    - pitch_angle\n",
    "    - roll_angle\n",
    "    - ToQuaternion\n",
    "    - ToRotationMatrix\n",
    "    - vector\n",
    "    - yaw_angle\n",
    "    \n",
    "- pydrake.math.RotationMatrix\n",
    "    - cast[AutoDiffXd]\n",
    "    - cast[Expression]\n",
    "    - cast[float]\n",
    "    - col\n",
    "    - Identity\n",
    "    - inverse\n",
    "    - InvertAndCompose\n",
    "    - IsExactlyIdentity\n",
    "    - IsNearlyIdentity\n",
    "    - IsValid\n",
    "    - MakeFromOneVector\n",
    "    - MakeXRotation\n",
    "    - MakeYRotation\n",
    "    - MakeZRotation\n",
    "    - matrix\n",
    "    - multiply\n",
    "    - ProjectToRotationMatrix\n",
    "    - row\n",
    "    - set\n",
    "    - ToAngleAxis\n",
    "    - ToQuaternion\n",
    "    - ToRollPitchYaw\n",
    "    - transpose\n",
    "    \n",
    "- pydrake.math.sin\n",
    "- pydrake.math.sinh\n",
    "- pydrake.math.SoftOverMax\n",
    "- pydrake.math.SoftOverMin\n",
    "- pydrake.math.SoftUnderMax\n",
    "- pydrake.math.SoftUnderMin\n",
    "- pydrake.math.sqrt\n",
    "- pydrake.math.tan\n",
    "- pydrake.math.tanh\n",
    "- pydrake.math.ToSymmetricMatrixFromLowerTriangularColumns\n",
    "- pydrake.math.UniformlyRandomAngleAxis\n",
    "- pydrake.math.UniformlyRandomQuaternion\n",
    "- pydrake.math.UniformlyRandomRotationMatrix\n",
    "- pydrake.math.UniformlyRandomRPY\n",
    "- pydrake.math.VectorToSkewSymmetric\n",
    "- pydrake.math.wrap_to"
   ]
  },
  {
   "cell_type": "code",
   "execution_count": 4,
   "id": "b19f56ef",
   "metadata": {},
   "outputs": [],
   "source": [
    "import numpy as np\n",
    "from IPython.display import Markdown, display\n",
    "\n",
    "from pydrake import math\n",
    "from pydrake.all import Variable, Expression\n",
    "from pydrake.all import ToLatex\n",
    "\n",
    "from pydrake.autodiffutils import AutoDiffXd\n",
    "from pydrake.autodiffutils import ExtractGradient"
   ]
  },
  {
   "cell_type": "markdown",
   "id": "89226ae3",
   "metadata": {},
   "source": [
    "### Before we begin, a (very) quick primer on AutoDiffXD:"
   ]
  },
  {
   "cell_type": "code",
   "execution_count": 5,
   "id": "191a01c4",
   "metadata": {},
   "outputs": [],
   "source": [
    "# This sets up a value a=1.5\n",
    "# with first deriv = 1\n",
    "# second deriv = 0\n",
    "# third deriv = 0\n",
    "a = AutoDiffXd(1.5, [1.0, 0.0, 0.0])\n",
    "\n",
    "# This sets up a value b=1.5\n",
    "# with first deriv = 1\n",
    "b = AutoDiffXd(1.5, [1.0])\n",
    "\n",
    "# This sets up a vector c with 12 elements\n",
    "# with value=1.5, and a derivative of 1\n",
    "# JUST at offset 1 in the vector.\n",
    "c = AutoDiffXd(value=1.5, size=12, offset=0)\n",
    "\n",
    "# This sets up a value d=1.4 with empty derivatives.\n",
    "d = AutoDiffXd(1.4)\n",
    "\n",
    "# If you just want derivatives, set the 1st deriv. to 1.0"
   ]
  },
  {
   "cell_type": "code",
   "execution_count": 6,
   "id": "1a80c305",
   "metadata": {
    "scrolled": true
   },
   "outputs": [
    {
     "name": "stdout",
     "output_type": "stream",
     "text": [
      "grada:  [[0.0707372 0.        0.       ]]\n",
      "gradb:  [[0.0707372]]\n",
      "gradc:  [[0.0707372 0.        0.        0.        0.        0.        0.\n",
      "  0.        0.        0.        0.        0.       ]]\n",
      "gradd:  []\n"
     ]
    }
   ],
   "source": [
    "expra = math.sin(a)\n",
    "exprb = math.sin(b)\n",
    "exprc = math.sin(c)\n",
    "exprd = math.sin(d)\n",
    "\n",
    "grada = ExtractGradient(np.array([[expra]]))\n",
    "gradb = ExtractGradient(np.array([[exprb]]))\n",
    "gradc = ExtractGradient(np.array([[exprc]]))\n",
    "gradd = ExtractGradient(np.array([[exprd]]))\n",
    "\n",
    "print(\"grada: \", grada)\n",
    "print(\"gradb: \", gradb)\n",
    "print(\"gradc: \", gradc)\n",
    "print(\"gradd: \", gradd)"
   ]
  },
  {
   "cell_type": "markdown",
   "id": "d1f90c49",
   "metadata": {},
   "source": [
    "***We can also get values/derivatives directly from AD expressions:***"
   ]
  },
  {
   "cell_type": "code",
   "execution_count": 7,
   "id": "e71246fb",
   "metadata": {},
   "outputs": [
    {
     "data": {
      "text/plain": [
       "array([0.0707372, 0.       , 0.       ])"
      ]
     },
     "execution_count": 7,
     "metadata": {},
     "output_type": "execute_result"
    }
   ],
   "source": [
    "expra.value()\n",
    "expra.derivatives()"
   ]
  },
  {
   "cell_type": "markdown",
   "id": "60ba9dd9",
   "metadata": {},
   "source": [
    "---\n",
    "\n",
    "\n",
    "# pydrake.math classes and methods:\n",
    "\n",
    "---"
   ]
  },
  {
   "cell_type": "markdown",
   "id": "d14f2e86",
   "metadata": {},
   "source": [
    "###  [function]: pydrake.math.abs(*args, **kwargs)\n",
    "\n",
    "- Overloaded function.\n",
    "    - abs(arg0: float) -> float\n",
    "    - abs(arg0: pydrake.autodiffutils.AutoDiffXd) -> pydrake.autodiffutils.AutoDiffXd\n",
    "    - abs(arg0: pydrake.symbolic.Expression) -> pydrake.symbolic.Expression"
   ]
  },
  {
   "cell_type": "code",
   "execution_count": 8,
   "id": "7ec52f2e",
   "metadata": {},
   "outputs": [
    {
     "name": "stdout",
     "output_type": "stream",
     "text": [
      "Numeric:  13.0\n"
     ]
    },
    {
     "data": {
      "text/markdown": [
       "Symbolic: $|( - 5x0 + x0^{3})|$"
      ],
      "text/plain": [
       "<IPython.core.display.Markdown object>"
      ]
     },
     "metadata": {},
     "output_type": "display_data"
    },
    {
     "name": "stdout",
     "output_type": "stream",
     "text": [
      "AD value:  2132.0\n",
      "AD derivatives:  [-502.]\n"
     ]
    }
   ],
   "source": [
    "# Numerical Example:\n",
    "numerical = math.abs(-13)\n",
    "\n",
    "# Symbolic Example:\n",
    "x = Variable(\"x0\")\n",
    "expr = math.abs(x**3 - 5*x)\n",
    "\n",
    "# AutoDiff Example:\n",
    "x_ad = AutoDiffXd(-13, [1.0])\n",
    "expr_ad = math.abs(x_ad**3 - 5*x_ad)\n",
    "\n",
    "# Print results:\n",
    "print(\"Numeric: \", numerical)\n",
    "display(Markdown(\"Symbolic: $\" + ToLatex(expr) + \"$\"))\n",
    "print(\"AD value: \", expr_ad.value())\n",
    "print(\"AD derivatives: \", expr_ad.derivatives())"
   ]
  },
  {
   "cell_type": "markdown",
   "id": "9da68891",
   "metadata": {},
   "source": [
    " ###  [function]: pydrake.math.acos(*args, **kwargs)\n",
    " \n",
    " - Note: ToLatex doesn't seem to work on acos"
   ]
  },
  {
   "cell_type": "code",
   "execution_count": 9,
   "id": "6df9c456",
   "metadata": {},
   "outputs": [
    {
     "name": "stdout",
     "output_type": "stream",
     "text": [
      "Numeric:  1.369438406004566\n"
     ]
    },
    {
     "data": {
      "text/plain": [
       "<Expression \"acos(x0)\">"
      ]
     },
     "metadata": {},
     "output_type": "display_data"
    },
    {
     "name": "stdout",
     "output_type": "stream",
     "text": [
      "AD value:  1.369438406004566\n",
      "AD derivatives:  [-1.02062073]\n"
     ]
    }
   ],
   "source": [
    "# Numerical Example:\n",
    "numerical = math.acos(0.2)\n",
    "\n",
    "# Symbolic Example:\n",
    "x = Variable(\"x0\")\n",
    "expr = math.acos(x)\n",
    "\n",
    "# AutoDiff Example:\n",
    "x_ad = AutoDiffXd(0.2, [1.0])\n",
    "expr_ad = math.acos(x_ad)\n",
    "\n",
    "# Print results:\n",
    "print(\"Numeric: \", numerical)\n",
    "display(expr)\n",
    "print(\"AD value: \", expr_ad.value())\n",
    "print(\"AD derivatives: \", expr_ad.derivatives())"
   ]
  },
  {
   "cell_type": "markdown",
   "id": "a727c12f",
   "metadata": {},
   "source": [
    "###  [function]:  pydrake.math.arccos(*args, **kwargs)\n",
    "\n",
    "- Note: ToLatex doesn't seem to work on arccos"
   ]
  },
  {
   "cell_type": "code",
   "execution_count": 10,
   "id": "a4c94b04",
   "metadata": {},
   "outputs": [
    {
     "name": "stdout",
     "output_type": "stream",
     "text": [
      "Numeric:  1.369438406004566\n"
     ]
    },
    {
     "data": {
      "text/plain": [
       "<Expression \"acos(x0)\">"
      ]
     },
     "metadata": {},
     "output_type": "display_data"
    },
    {
     "name": "stdout",
     "output_type": "stream",
     "text": [
      "AD value:  1.369438406004566\n",
      "AD derivatives:  [-1.02062073]\n"
     ]
    }
   ],
   "source": [
    "# Numerical Example:\n",
    "numerical = math.arccos(0.2)\n",
    "\n",
    "# Symbolic Example:\n",
    "x = Variable(\"x0\")\n",
    "expr = math.arccos(x)\n",
    "\n",
    "# AutoDiff Example:\n",
    "x_ad = AutoDiffXd(0.2, [1.0])\n",
    "expr_ad = math.arccos(x_ad)\n",
    "\n",
    "# Print results:\n",
    "print(\"Numeric: \", numerical)\n",
    "display(expr)\n",
    "print(\"AD value: \", expr_ad.value())\n",
    "print(\"AD derivatives: \", expr_ad.derivatives())"
   ]
  },
  {
   "cell_type": "markdown",
   "id": "602d3514",
   "metadata": {},
   "source": [
    "###  [function]:  pydrake.math.arcsin(*args, **kwargs)\n",
    "\n",
    "- Note: ToLatex doesn't seem to work on arcsin"
   ]
  },
  {
   "cell_type": "code",
   "execution_count": 11,
   "id": "a2b3100f",
   "metadata": {},
   "outputs": [
    {
     "name": "stdout",
     "output_type": "stream",
     "text": [
      "Numeric:  0.2013579207903308\n"
     ]
    },
    {
     "data": {
      "text/plain": [
       "<Expression \"asin(x0)\">"
      ]
     },
     "metadata": {},
     "output_type": "display_data"
    },
    {
     "name": "stdout",
     "output_type": "stream",
     "text": [
      "AD value:  0.2013579207903308\n",
      "AD derivatives:  [1.02062073]\n"
     ]
    }
   ],
   "source": [
    "# Numerical Example:\n",
    "numerical = math.arcsin(0.2)\n",
    "\n",
    "# Symbolic Example:\n",
    "x = Variable(\"x0\")\n",
    "expr = math.arcsin(x)\n",
    "\n",
    "# AutoDiff Example:\n",
    "x_ad = AutoDiffXd(0.2, [1.0])\n",
    "expr_ad = math.arcsin(x_ad)\n",
    "\n",
    "# Print results:\n",
    "print(\"Numeric: \", numerical)\n",
    "display(expr)\n",
    "print(\"AD value: \", expr_ad.value())\n",
    "print(\"AD derivatives: \", expr_ad.derivatives())"
   ]
  },
  {
   "cell_type": "markdown",
   "id": "2d0b8b20",
   "metadata": {},
   "source": [
    "###   [function]: pydrake.math.arctan(*args, **kwargs)\n",
    "\n",
    "- Note: ToLatex doesn't seem to work on arctan"
   ]
  },
  {
   "cell_type": "code",
   "execution_count": 12,
   "id": "94d8c38e",
   "metadata": {},
   "outputs": [
    {
     "name": "stdout",
     "output_type": "stream",
     "text": [
      "Numeric:  0.19739555984988078\n"
     ]
    },
    {
     "data": {
      "text/plain": [
       "<Expression \"atan(x0)\">"
      ]
     },
     "metadata": {},
     "output_type": "display_data"
    },
    {
     "name": "stdout",
     "output_type": "stream",
     "text": [
      "AD value:  0.19739555984988078\n",
      "AD derivatives:  [0.96153846]\n"
     ]
    }
   ],
   "source": [
    "# Numerical Example:\n",
    "numerical = math.arctan(0.2)\n",
    "\n",
    "# Symbolic Example:\n",
    "x = Variable(\"x0\")\n",
    "expr = math.arctan(x)\n",
    "\n",
    "# AutoDiff Example:\n",
    "x_ad = AutoDiffXd(0.2, [1.0])\n",
    "expr_ad = math.arctan(x_ad)\n",
    "\n",
    "# Print results:\n",
    "print(\"Numeric: \", numerical)\n",
    "display(expr)\n",
    "print(\"AD value: \", expr_ad.value())\n",
    "print(\"AD derivatives: \", expr_ad.derivatives())"
   ]
  },
  {
   "cell_type": "markdown",
   "id": "8ca8bd54",
   "metadata": {},
   "source": [
    "###  [function]: pydrake.math.arctan2(*args, **kwargs)\n",
    "\n",
    "- Note: ToLatex doesn't seem to work on arctan2"
   ]
  },
  {
   "cell_type": "code",
   "execution_count": 13,
   "id": "0f6fd8b2",
   "metadata": {},
   "outputs": [
    {
     "name": "stdout",
     "output_type": "stream",
     "text": [
      "Numeric:  0.19739555984988078\n"
     ]
    },
    {
     "data": {
      "text/plain": [
       "<Expression \"atan2(x, y)\">"
      ]
     },
     "metadata": {},
     "output_type": "display_data"
    },
    {
     "name": "stdout",
     "output_type": "stream",
     "text": [
      "AD value:  0.19739555984988078\n",
      "AD derivatives:  [0.76923077]\n"
     ]
    }
   ],
   "source": [
    "# Numerical Example:\n",
    "numerical = math.arctan2(0.2, 1)\n",
    "\n",
    "# Symbolic Example:\n",
    "x = Variable(\"x\")\n",
    "y = Variable(\"y\")\n",
    "expr = math.arctan2(x, y)\n",
    "\n",
    "# AutoDiff Example:\n",
    "x_ad = AutoDiffXd(0.2, [1.0])\n",
    "y_ad = AutoDiffXd(1, [1.0])\n",
    "expr_ad = math.arctan2(x_ad, y_ad)\n",
    "\n",
    "# Print results:\n",
    "print(\"Numeric: \", numerical)\n",
    "display(expr)\n",
    "print(\"AD value: \", expr_ad.value())\n",
    "print(\"AD derivatives: \", expr_ad.derivatives())"
   ]
  },
  {
   "cell_type": "markdown",
   "id": "4112db47",
   "metadata": {},
   "source": [
    "###  [function]: pydrake.math.AreQuaternionsEqualForOrientation(*args, **kwargs)\n",
    "\n",
    "- 1. (quat1: pydrake.common.eigen_geometry.Quaternion, quat2: pydrake.common.eigen_geometry.Quaternion, tolerance: float) -> bool\n",
    "\n",
    "- 2. (quat1: pydrake.common.eigen_geometry.Quaternion_𝓣AutoDiffXd𝓤, quat2: pydrake.common.eigen_geometry.Quaternion_𝓣AutoDiffXd𝓤, tolerance: pydrake.autodiffutils.AutoDiffXd) -> bool\n",
    "\n",
    "- 3. (quat1: pydrake.common.eigen_geometry.Quaternion_𝓣Expression𝓤, quat2: pydrake.common.eigen_geometry.Quaternion_𝓣Expression𝓤, tolerance: pydrake.symbolic.Expression) -> pydrake.symbolic.Formula"
   ]
  },
  {
   "cell_type": "code",
   "execution_count": 14,
   "id": "6dbab7f9",
   "metadata": {},
   "outputs": [
    {
     "name": "stdout",
     "output_type": "stream",
     "text": [
      "Does quat1 = quat2?: False\n"
     ]
    }
   ],
   "source": [
    "from pydrake.common.eigen_geometry import Quaternion, Quaternion_\n",
    "from pydrake.all import MakeVectorVariable\n",
    "\n",
    "# Numeric Example:\n",
    "quat1 = Quaternion([1,0,0,0])\n",
    "quat2 = Quaternion([0,0,1,0])\n",
    "bool_numeric = math.AreQuaternionsEqualForOrientation(quat1, quat2, tolerance=1e-3)\n",
    "print(\"Does quat1 = quat2?:\", bool_numeric)"
   ]
  },
  {
   "cell_type": "code",
   "execution_count": 15,
   "id": "4b066133",
   "metadata": {},
   "outputs": [
    {
     "name": "stdout",
     "output_type": "stream",
     "text": [
      "Does quat1 = quat2?: False\n"
     ]
    }
   ],
   "source": [
    "# Symbolic Example. Not sure how to make this work with symbolic variables for w,x,y,z\n",
    "# then again, not sure why you would want to...\n",
    "\n",
    "quat1 = Quaternion_[Expression]([1,0,0,0])\n",
    "quat2 = Quaternion_[Expression]([0,0,1,0])\n",
    "\n",
    "bool_symbolic = math.AreQuaternionsEqualForOrientation(quat1, quat2, tolerance=Expression(1e-3))\n",
    "print(\"Does quat1 = quat2?:\", bool_symbolic)"
   ]
  },
  {
   "cell_type": "code",
   "execution_count": 16,
   "id": "b14923b6",
   "metadata": {},
   "outputs": [
    {
     "name": "stdout",
     "output_type": "stream",
     "text": [
      "Does quat1 = quat2?: False\n"
     ]
    }
   ],
   "source": [
    "# AutoDiffXd example\n",
    "\n",
    "quat1 = Quaternion_[AutoDiffXd]([1,0,0,0])\n",
    "quat2 = Quaternion_[AutoDiffXd]([0,1,0,0])\n",
    "\n",
    "bool_symbolic = math.AreQuaternionsEqualForOrientation(quat1, quat2, tolerance=1e-3)\n",
    "print(\"Does quat1 = quat2?:\", bool_symbolic)"
   ]
  },
  {
   "cell_type": "markdown",
   "id": "caca298d",
   "metadata": {},
   "source": [
    " ###  [function]: pydrake.math.asin(*args, **kwargs)\n",
    " \n",
    " - Note: ToLatex doesn't seem to work on arctan2"
   ]
  },
  {
   "cell_type": "code",
   "execution_count": 17,
   "id": "072d2e04",
   "metadata": {},
   "outputs": [
    {
     "name": "stdout",
     "output_type": "stream",
     "text": [
      "Numeric:  0.2013579207903308\n"
     ]
    },
    {
     "data": {
      "text/plain": [
       "<Expression \"asin(x)\">"
      ]
     },
     "metadata": {},
     "output_type": "display_data"
    },
    {
     "name": "stdout",
     "output_type": "stream",
     "text": [
      "AD value:  0.2013579207903308\n",
      "AD derivatives:  [1.02062073]\n"
     ]
    }
   ],
   "source": [
    "# Numerical Example:\n",
    "numerical = math.asin(0.2)\n",
    "\n",
    "# Symbolic Example:\n",
    "x = Variable(\"x\")\n",
    "expr = math.asin(x)\n",
    "\n",
    "# AutoDiff Example:\n",
    "x_ad = AutoDiffXd(0.2, [1.0])\n",
    "expr_ad = math.asin(x_ad)\n",
    "\n",
    "# Print results:\n",
    "print(\"Numeric: \", numerical)\n",
    "display(expr)\n",
    "print(\"AD value: \", expr_ad.value())\n",
    "print(\"AD derivatives: \", expr_ad.derivatives())"
   ]
  },
  {
   "cell_type": "markdown",
   "id": "0dc09d25",
   "metadata": {},
   "source": [
    "###  [function]: pydrake.math.atan(*args, **kwargs)"
   ]
  },
  {
   "cell_type": "code",
   "execution_count": 18,
   "id": "81aea1a2",
   "metadata": {},
   "outputs": [
    {
     "name": "stdout",
     "output_type": "stream",
     "text": [
      "Numeric:  0.19739555984988078\n"
     ]
    },
    {
     "data": {
      "text/plain": [
       "<Expression \"atan(x)\">"
      ]
     },
     "metadata": {},
     "output_type": "display_data"
    },
    {
     "name": "stdout",
     "output_type": "stream",
     "text": [
      "AD value:  0.19739555984988078\n",
      "AD derivatives:  [0.96153846]\n"
     ]
    }
   ],
   "source": [
    "# Numerical Example:\n",
    "numerical = math.atan(0.2)\n",
    "\n",
    "# Symbolic Example:\n",
    "x = Variable(\"x\")\n",
    "expr = math.atan(x)\n",
    "\n",
    "# AutoDiff Example:\n",
    "x_ad = AutoDiffXd(0.2, [1.0])\n",
    "expr_ad = math.atan(x_ad)\n",
    "\n",
    "# Print results:\n",
    "print(\"Numeric: \", numerical)\n",
    "display(expr)\n",
    "print(\"AD value: \", expr_ad.value())\n",
    "print(\"AD derivatives: \", expr_ad.derivatives())"
   ]
  },
  {
   "cell_type": "markdown",
   "id": "f9eccfc6",
   "metadata": {},
   "source": [
    "###  [function]: pydrake.math.atan2(*args, **kwargs)"
   ]
  },
  {
   "cell_type": "code",
   "execution_count": 19,
   "id": "83cc8123",
   "metadata": {},
   "outputs": [
    {
     "name": "stdout",
     "output_type": "stream",
     "text": [
      "Numeric:  0.19739555984988078\n"
     ]
    },
    {
     "data": {
      "text/plain": [
       "<Expression \"atan2(x, y)\">"
      ]
     },
     "metadata": {},
     "output_type": "display_data"
    },
    {
     "name": "stdout",
     "output_type": "stream",
     "text": [
      "AD value:  0.19739555984988078\n",
      "AD derivatives:  [0.76923077]\n"
     ]
    }
   ],
   "source": [
    "# Numerical Example:\n",
    "numerical = math.atan2(0.2, 1)\n",
    "\n",
    "# Symbolic Example:\n",
    "x = Variable(\"x\")\n",
    "y = Variable(\"y\")\n",
    "expr = math.atan2(x, y)\n",
    "\n",
    "# AutoDiff Example:\n",
    "x_ad = AutoDiffXd(0.2, [1.0])\n",
    "y_ad = AutoDiffXd(1, [1.0])\n",
    "expr_ad = math.atan2(x_ad, y_ad)\n",
    "\n",
    "# Print results:\n",
    "print(\"Numeric: \", numerical)\n",
    "display(expr)\n",
    "print(\"AD value: \", expr_ad.value())\n",
    "print(\"AD derivatives: \", expr_ad.derivatives())"
   ]
  },
  {
   "cell_type": "markdown",
   "id": "09d9b0a8",
   "metadata": {},
   "source": [
    "### [function]: pydrake.math.BalanceQuadraticForms\n",
    "\n",
    "pydrake.math.BalanceQuadraticForms(S: numpy.ndarray[numpy.float64[m, n], flags.f_contiguous], P: numpy.ndarray[numpy.float64[m, n], flags.f_contiguous]) → numpy.ndarray[numpy.float64[m, n]]\n",
    "\n",
    "Given two quadratic forms $x^T S x > 0$ and $x^T P x$, with $P$ symmetric and full rank, finds a change of variables $x = Ty$, which simultaneously diagonalizes both forms (as inspired by “balanced truncation” in model-order reduction). In this note, we use abs(M) to indicate the elementwise absolute value."
   ]
  },
  {
   "cell_type": "code",
   "execution_count": 20,
   "id": "ae56c9b4",
   "metadata": {},
   "outputs": [
    {
     "data": {
      "text/plain": [
       "array([[1.        , 0.        , 0.        ],\n",
       "       [0.        , 0.75983569, 0.        ],\n",
       "       [0.        , 0.        , 0.6389431 ]])"
      ]
     },
     "execution_count": 20,
     "metadata": {},
     "output_type": "execute_result"
    }
   ],
   "source": [
    "m = 3\n",
    "n = 3\n",
    "\n",
    "x = np.random.random((m,n))\n",
    "S = np.array([[1, 0, 0],\n",
    "              [0, 3, 0],\n",
    "              [0, 0, 6]])\n",
    "\n",
    "P = np.eye(3)\n",
    "\n",
    "T = math.BalanceQuadraticForms(S=S, P=P)\n",
    "T"
   ]
  },
  {
   "cell_type": "markdown",
   "id": "64f479b0",
   "metadata": {},
   "source": [
    "## [class]: pydrake.math.BarycentricMesh\n",
    "\n",
    "- NOTE: This example needs alot of work and should really build a BarycentricMeshSystem. This is built in drake/systems/controllers/dynamic_programming.cc in C++, but we want to build the whole thing in Python.\n",
    "\n",
    "Represents a multi-linear function (from vector inputs to vector outputs) by interpolating between points on a mesh using (triangular) barycentric interpolation.\n",
    "\n",
    "For a technical description of barycentric interpolation, see e.g. Remi Munos and Andrew Moore, “Barycentric Interpolators for Continuous Space and Time Reinforcement Learning”, NIPS 1998"
   ]
  },
  {
   "cell_type": "code",
   "execution_count": 238,
   "id": "5ade1b51",
   "metadata": {
    "scrolled": false
   },
   "outputs": [
    {
     "name": "stdout",
     "output_type": "stream",
     "text": [
      "input_size:  1\n",
      "num_interpolants:  2\n",
      "Ti:  [5 4] T:  [1. 0.]\n"
     ]
    },
    {
     "data": {
      "image/png": "[encoded data removed]",
      "text/plain": [
       "<Figure size 1080x720 with 1 Axes>"
      ]
     },
     "metadata": {
      "needs_background": "light"
     },
     "output_type": "display_data"
    }
   ],
   "source": [
    "import numpy as np\n",
    "import matplotlib.pyplot as plt\n",
    "\n",
    "# takes a List[Set[float]]\n",
    "#arg0 = [{1.0,2.0},{3.0,4.0},{5.0,6.0}]\n",
    "\n",
    "# Create a NumPy array with some sample data\n",
    "#numpy_array = np.array([[1.2, 2.3, 3.4],\n",
    "#                        [2.3, 4.5, 2.9],\n",
    "#                        [1.2, 3.4, 5.6]])\n",
    "\n",
    "x = np.array([np.linspace(0, 10, 11)])\n",
    "\n",
    "# Convert the NumPy array to the desired format\n",
    "input_grid = [set(row) for row in x]\n",
    "\n",
    "\n",
    "mesh = math.BarycentricMesh(input_grid)\n",
    "\n",
    "ninputs = mesh.get_input_size()\n",
    "n_indices = mesh.get_num_interpolants()\n",
    "\n",
    "print(\"input_size: \",ninputs)\n",
    "print(\"num_interpolants: \", n_indices)\n",
    "\n",
    "# Vec, size ninputs\n",
    "vec = 5*np.ones(ninputs)\n",
    "[Ti, T] = mesh.EvalBarycentricWeights(vec)\n",
    "print(\"Ti: \", Ti, \"T: \", T)\n",
    "\n",
    "# Define a function to build mesh\n",
    "def vector_func(x):\n",
    "    return np.sin(x)\n",
    "\n",
    "# Evaluates vector_func at all input mesh points and extracts \n",
    "# the mesh value matrix that should be used to approximate the \n",
    "# function with this barycentric interpolation.\n",
    "mesh_values = mesh.MeshValuesFrom(vector_func)\n",
    "mshpts = mesh.get_all_mesh_points()\n",
    "\n",
    "# Plot\n",
    "plt.figure(figsize=(15, 10))\n",
    "xsmooth = np.linspace(0, 10, 100)\n",
    "plt.plot(xsmooth, vector_func(xsmooth), \"--\", alpha=0.4, label=\"f(x)\")\n",
    "plt.plot(mshpts, mesh_values, \"o\")\n",
    "plt.title(\"Mesh points/values over vector_func\")\n",
    "plt.show()"
   ]
  },
  {
   "cell_type": "markdown",
   "id": "505755f5",
   "metadata": {},
   "source": [
    "## [class]: pydrake.math.BsplineBasis\n",
    "\n",
    "Given a set of non-descending breakpoints t₀ ≤ t₁ ≤ ⋅⋅⋅ ≤ tₘ, a B-spline basis of order k is a set of n + 1 (where n = m - k) piecewise polynomials of degree k - 1 defined over those breakpoints. The elements of this set are called “B-splines”. The vector (t₀, t₁, …, tₘ)’ is referred to as the “knot vector” of the basis and its elements are referred to as “knots”.\n",
    "\n",
    "At a breakpoint with multiplicity p (i.e. a breakpoint that appears p times in the knot vector), B-splines are guaranteed to have Cᵏ⁻ᵖ⁻¹ continuity.\n",
    "\n",
    "A B-spline curve using a B-spline basis B, is a parametric curve mapping parameter values in [tₖ₋₁, tₙ₊₁] to a vector space V. For t ∈ [tₖ₋₁, tₙ₊₁] the value of the curve is given by the linear combination of n + 1 control points, pᵢ ∈ V, with the elements of B evaluated at t.\n",
    "\n",
    "For more information on B-splines and their uses, see (for example) Patrikalakis et al. [1].\n",
    "\n",
    "[1] https://web.mit.edu/hyperbook/Patrikalakis-Maekawa-Cho/node15.html\n",
    "\n",
    "\n",
    "***Note to self:*** what would Expression and AutoDiffXd versions do?!?"
   ]
  },
  {
   "cell_type": "code",
   "execution_count": 455,
   "id": "d67e0ce5",
   "metadata": {},
   "outputs": [
    {
     "data": {
      "image/png": "[encoded data removed]",
      "text/plain": [
       "<Figure size 1080x720 with 1 Axes>"
      ]
     },
     "metadata": {
      "needs_background": "light"
     },
     "output_type": "display_data"
    }
   ],
   "source": [
    "import matplotlib.pyplot as plt\n",
    "import numpy as np\n",
    "from pydrake import math\n",
    "\n",
    "bspline = math.BsplineBasis()\n",
    "\n",
    "order = 3\n",
    "num_basis_funcs = 5\n",
    "\n",
    "# kClampedUniform will clamp the curve to the inital/final values\n",
    "bspline = math.BsplineBasis(order=order, num_basis_functions=num_basis_funcs,\n",
    "               type=math.KnotVectorType.kClampedUniform, #kUniform,\n",
    "               initial_parameter_value=1.,\n",
    "               final_parameter_value=16.)\n",
    "\n",
    "\n",
    "knots = bspline.knots()\n",
    "nk = len(knots)\n",
    "x0 = bspline.initial_parameter_value()\n",
    "xf = bspline.final_parameter_value()\n",
    "\n",
    "# Generate (but repeateable) random control points\n",
    "np.random.seed(seed=1)\n",
    "offset = 0\n",
    "ctrl_ptsx = np.linspace(x0 - offset, xf + offset, num_basis_funcs)\n",
    "ctrl_ptsy = np.random.random(num_basis_funcs)\n",
    "ctrl_pts = np.vstack((ctrl_ptsx, ctrl_ptsy)).T\n",
    "\n",
    "# Evaluate the curve at 100 points...\n",
    "xy = []\n",
    "t = np.linspace(x0, xf, 100)\n",
    "for x in t:\n",
    "    val = bspline.EvaluateCurve(control_points=ctrl_pts, parameter_value=x)\n",
    "    xy.append(val)\n",
    "xy = np.vstack(xy)\n",
    "\n",
    "fig, ax = plt.subplots(figsize=(15, 10))\n",
    "ctrl_pts = np.vstack(ctrl_pts)\n",
    "ax.axvline(x=x0)\n",
    "ax.axvline(x=xf)\n",
    "\n",
    "ax.plot(xy[:,0], xy[:,1], color = \"red\", label='Bspline Drake')\n",
    "ax.plot(ctrl_pts[:,0], ctrl_pts[:,1], label=\"'handles'\")\n",
    "ax.plot(ctrl_ptsx, ctrl_ptsy, \"o\",markersize=10, alpha=0.5, color=\"orange\", label=\"ctrl_pts\")\n",
    "\n",
    "\n",
    "ax.plot(ctrl_ptsx, ctrl_ptsy, \"o\",markersize=10, alpha=0.5, color=\"orange\", label=\"ctrl_pts\")\n",
    "\n",
    "ax.grid(True)\n",
    "ax.legend(loc='upper right')\n",
    "plt.show()"
   ]
  },
  {
   "cell_type": "markdown",
   "id": "43fa6385",
   "metadata": {},
   "source": [
    "### [Function]: pydrake.math.CalculateAngularVelocityExpressedInBFromQuaternionDt\n",
    "\n",
    "This function calculates angular velocity from a quaternion and its time- derivative. Algorithm from [Kane, 1983] Section 1.13, Pages 58-59."
   ]
  },
  {
   "cell_type": "code",
   "execution_count": 469,
   "id": "413a42b0",
   "metadata": {},
   "outputs": [
    {
     "name": "stdout",
     "output_type": "stream",
     "text": [
      "Angular velocity:  [1.2 0.2 0.2]\n"
     ]
    }
   ],
   "source": [
    "from pydrake.common.eigen_geometry import Quaternion, Quaternion_\n",
    "\n",
    "# quat_AB is analogous to the rotation matrix R_AB.\n",
    "quat_AB = Quaternion([1,0,0,0])\n",
    "\n",
    "# Time-derivative of quat_AB, i.e. [ẇ, ẋ, ẏ, ż].\n",
    "# This can't be a quaternion object, because it will\n",
    "# almost necessarily not have unit-norm, so it's np.array:\n",
    "quatDt = np.array([0.0,0.6,0.1,0.1])\n",
    "\n",
    "w_AB_B = math.CalculateAngularVelocityExpressedInBFromQuaternionDt(quat_AB, quatDt)\n",
    "\n",
    "print(\"Angular velocity: \", w_AB_B)"
   ]
  },
  {
   "cell_type": "markdown",
   "id": "266815f3",
   "metadata": {},
   "source": [
    "### [Function]: pydrake.math.CalculateQuaternionDtConstraintViolation\n",
    "\n",
    "This function calculates how well a quaternion and its time-derivative satisfy the quaternion time-derivative constraint specified in [Kane, 1983] Section 1.13, equations 12-13, page 59. For a quaternion [w, x, y, z], the quaternion must satisfy: w^2 + x^2 + y^2 + z^2 = 1, hence its time-derivative must satisfy: 2*(w*ẇ + x*ẋ + y*ẏ + z*ż) = 0."
   ]
  },
  {
   "cell_type": "code",
   "execution_count": 470,
   "id": "71fb6fd9",
   "metadata": {},
   "outputs": [
    {
     "data": {
      "text/plain": [
       "0.0"
      ]
     },
     "execution_count": 470,
     "metadata": {},
     "output_type": "execute_result"
    }
   ],
   "source": [
    "from pydrake.common.eigen_geometry import Quaternion, Quaternion_\n",
    "\n",
    "quat = Quaternion([1,0,0,0])\n",
    "\n",
    "# Time-derivative of quat_AB, i.e. [ẇ, ẋ, ẏ, ż].\n",
    "# This can't be a quaternion object, because it will\n",
    "# almost necessarily not have unit-norm, so it's np.array:\n",
    "quatDt = np.array([0.0,0.6,0.1,0.1])\n",
    "\n",
    "math.CalculateQuaternionDtConstraintViolation(quat, quatDt)"
   ]
  },
  {
   "cell_type": "code",
   "execution_count": 473,
   "id": "631a165f",
   "metadata": {},
   "outputs": [
    {
     "name": "stdout",
     "output_type": "stream",
     "text": [
      "Constraint violation of:  2.0\n",
      "Probably not a valid combo...\n"
     ]
    }
   ],
   "source": [
    "quat = Quaternion([1,0,0,0])\n",
    "quatDt = np.array([1.0,0.6,0.1,0.1])\n",
    "\n",
    "quaternionDt_constraint_violation = math.CalculateQuaternionDtConstraintViolation(quat, quatDt)\n",
    "\n",
    "if (np.isclose(np.abs(quaternionDt_constraint_violation), 0, atol=1e-06)):\n",
    "    print(\"No constraint violation.\")\n",
    "else:\n",
    "    print(\"Constraint violation of: \", quaternionDt_constraint_violation)\n",
    "    print(\"Probably not a valid combo...\")"
   ]
  },
  {
   "cell_type": "markdown",
   "id": "99ee8028",
   "metadata": {},
   "source": [
    "### [Function]: pydrake.math.CalculateQuaternionDtFromAngularVelocityExpressedInB\n",
    "\n",
    "This function calculates a quaternion’s time-derivative from its quaternion and angular velocity. Algorithm from [Kane, 1983] Section 1.13, Pages 58-59."
   ]
  },
  {
   "cell_type": "code",
   "execution_count": 481,
   "id": "77cdd8f0",
   "metadata": {},
   "outputs": [
    {
     "name": "stdout",
     "output_type": "stream",
     "text": [
      "quatDt, i.e [ẇ, ẋ, ẏ, ż]:  [-0.    0.    0.3   0.05]\n"
     ]
    }
   ],
   "source": [
    "from pydrake.common.eigen_geometry import Quaternion, Quaternion_\n",
    "\n",
    "quat = Quaternion([1,0,0,0])\n",
    "w_AB_B = np.array([0.0,0.6,0.1]).T\n",
    "\n",
    "quatDt = math.CalculateQuaternionDtFromAngularVelocityExpressedInB(quat, w_AB_B)\n",
    "\n",
    "print(\"quatDt, i.e [ẇ, ẋ, ẏ, ż]: \", quatDt)"
   ]
  },
  {
   "cell_type": "code",
   "execution_count": null,
   "id": "78b6f097",
   "metadata": {},
   "outputs": [],
   "source": []
  }
 ],
 "metadata": {
  "kernelspec": {
   "display_name": "Python 3 (ipykernel)",
   "language": "python",
   "name": "python3"
  },
  "language_info": {
   "codemirror_mode": {
    "name": "ipython",
    "version": 3
   },
   "file_extension": ".py",
   "mimetype": "text/x-python",
   "name": "python",
   "nbconvert_exporter": "python",
   "pygments_lexer": "ipython3",
   "version": "3.10.12"
  }
 },
 "nbformat": 4,
 "nbformat_minor": 5
}
