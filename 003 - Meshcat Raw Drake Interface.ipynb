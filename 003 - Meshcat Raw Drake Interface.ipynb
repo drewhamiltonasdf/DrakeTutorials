{
 "cells": [
  {
   "cell_type": "markdown",
   "id": "8db06c6c",
   "metadata": {},
   "source": [
    "# Visualizing Models:\n",
    "\n",
    "- In this Notebook we show how to set up a bare Meshcat visualizer, and add a bunch of objects. Later we will interact with Meshcat through the system.frameworks methods DiagramBuilder, SceneGraph, MultibodyPlant etc..."
   ]
  },
  {
   "cell_type": "code",
   "execution_count": 17,
   "id": "aa78e4a8",
   "metadata": {},
   "outputs": [
    {
     "name": "stderr",
     "output_type": "stream",
     "text": [
      "INFO:drake:Meshcat listening for connections at http://localhost:7001\n"
     ]
    },
    {
     "name": "stdout",
     "output_type": "stream",
     "text": [
      "Click the link to open Meshcat viewer in the browser...\n"
     ]
    }
   ],
   "source": [
    "from pydrake.geometry import StartMeshcat\n",
    "from IPython.display import IFrame\n",
    "\n",
    "print(\"Click the link to open Meshcat viewer in the browser...\")\n",
    "meshcat = StartMeshcat()"
   ]
  },
  {
   "cell_type": "markdown",
   "id": "6e3cfda6",
   "metadata": {},
   "source": [
    "## OR...\n",
    "***You can do it INSIDE your notebook***: though this can get a little messy, because you'll be adding code and having to scroll up to see, but it can be handy for debugging."
   ]
  },
  {
   "cell_type": "code",
   "execution_count": 18,
   "id": "8e088e4a",
   "metadata": {
    "scrolled": false
   },
   "outputs": [
    {
     "data": {
      "text/html": [
       "\n",
       "        <iframe\n",
       "            width=\"100%\"\n",
       "            height=\"500px\"\n",
       "            src=\"http://localhost:7001\"\n",
       "            frameborder=\"0\"\n",
       "            allowfullscreen\n",
       "            \n",
       "        ></iframe>\n",
       "        "
      ],
      "text/plain": [
       "<IPython.lib.display.IFrame at 0x7f0059da34f0>"
      ]
     },
     "execution_count": 18,
     "metadata": {},
     "output_type": "execute_result"
    }
   ],
   "source": [
    "address = meshcat.web_url()\n",
    "IFrame(src=address, width='100%', height='500px')"
   ]
  },
  {
   "cell_type": "markdown",
   "id": "0dd5c4a1",
   "metadata": {},
   "source": [
    "# Add some objects"
   ]
  },
  {
   "cell_type": "code",
   "execution_count": 19,
   "id": "d461b59b",
   "metadata": {},
   "outputs": [],
   "source": [
    "from pydrake.geometry import Box, Capsule, Ellipsoid\n",
    "from pydrake.math import RigidTransform\n",
    "from pydrake.geometry import Rgba\n",
    "\n",
    "# width, depth, height\n",
    "box = Box(2, 2, 2)\n",
    "meshcat.SetObject(\"box0\", box, Rgba(r=0.9, g=0.3, b=0.3, a=1.0))\n",
    "meshcat.SetTransform(\"box0\", RigidTransform([0, 0, 1]))\n",
    "\n",
    "# Can re-use other box object to initialize shape\n",
    "# and still freely transform as a unique Shape\n",
    "meshcat.SetObject(\"box1\", box, Rgba(r=0.9, g=0.7, b=0.3, a=1.0))\n",
    "meshcat.SetTransform(\"box1\", RigidTransform([4, 0, 1]))\n",
    "\n",
    "# radius, height\n",
    "capsule = Capsule(0.5, 2)\n",
    "meshcat.SetObject(\"capsule0\", capsule, Rgba(r=0.3, g=0.7, b=0.3, a=1.0))\n",
    "meshcat.SetTransform(\"capsule0\", RigidTransform([4, 4, 4]))\n",
    "\n",
    "# a,b,c lengths of principal semi-axes\n",
    "ellipsoid = Ellipsoid(0.5, 0.75, 2)\n",
    "meshcat.SetObject(\"ellipsoid0\", ellipsoid, Rgba(r=0.3, g=0.7, b=0.7, a=1.0))\n",
    "meshcat.SetTransform(\"ellipsoid0\", RigidTransform([-4, 4, 4]))"
   ]
  },
  {
   "cell_type": "markdown",
   "id": "10d2cfdd",
   "metadata": {},
   "source": [
    "# Add Buttons and Sliders"
   ]
  },
  {
   "cell_type": "markdown",
   "id": "1d950df8",
   "metadata": {},
   "source": [
    "- Verify in meshcat window that the buttons/sliders show up"
   ]
  },
  {
   "cell_type": "code",
   "execution_count": 20,
   "id": "9c0f7712",
   "metadata": {
    "scrolled": true
   },
   "outputs": [
    {
     "data": {
      "text/plain": [
       "0"
      ]
     },
     "execution_count": 20,
     "metadata": {},
     "output_type": "execute_result"
    }
   ],
   "source": [
    "# Labelled button\n",
    "meshcat.AddButton(\"button_we_delete_later\")\n",
    "\n",
    "# Labelled button with keydown callback for Left Arrow key:\n",
    "# Possible keycodes:\n",
    "# https://developer.mozilla.org/en-US/docs/Web/API/UI_Events/Keyboard_event_code_values\n",
    "meshcat.AddButton(\"button1\", keycode=\"ArrowLeft\")\n",
    "\n",
    "meshcat.DeleteButton('button_we_delete_later')\n",
    "\n",
    "# Return numclicks\n",
    "meshcat.GetButtonClicks('button1')"
   ]
  },
  {
   "cell_type": "markdown",
   "id": "15a4b53a",
   "metadata": {},
   "source": [
    "- Verify in meshcat window that ArrowDown/ArrowUp and ArrowLeft can control slider1 / button1"
   ]
  },
  {
   "cell_type": "code",
   "execution_count": 21,
   "id": "130fefe4",
   "metadata": {
    "scrolled": true
   },
   "outputs": [
    {
     "name": "stdout",
     "output_type": "stream",
     "text": [
      "['slider0', 'slider1']\n",
      "['slider1']\n",
      "50.0\n"
     ]
    }
   ],
   "source": [
    "# Labelled slider\n",
    "meshcat.AddSlider(\"slider0\", 0, 100, 1, 25)\n",
    "\n",
    "# All options, explicitly:\n",
    "meshcat.AddSlider(\"slider1\", min=0, max=100, step=1, value=50, \n",
    "                  decrement_keycode=\"ArrowDown\", \n",
    "                  increment_keycode=\"ArrowUp\"\n",
    ")\n",
    "\n",
    "print(meshcat.GetSliderNames())\n",
    "meshcat.DeleteSlider(\"slider0\")\n",
    "print(meshcat.GetSliderNames())\n",
    "print(meshcat.GetSliderValue('slider1'))\n",
    "\n",
    "meshcat.SetSliderValue('slider1', 79) "
   ]
  },
  {
   "cell_type": "markdown",
   "id": "98744c6c",
   "metadata": {},
   "source": [
    "***Add an environment map, to make it look like a disco***.\n",
    "\n",
    "- Note: Check the docs, adding just any old image won't get you very good results. You can download free, or build them in Blender etc..."
   ]
  },
  {
   "cell_type": "code",
   "execution_count": 23,
   "id": "bf56c233",
   "metadata": {},
   "outputs": [],
   "source": [
    "# Cool!\n",
    "meshcat.SetEnvironmentMap('testenvironmentmap.jpg')"
   ]
  },
  {
   "cell_type": "markdown",
   "id": "fb79cc53",
   "metadata": {},
   "source": [
    "***PlotSurface()***"
   ]
  },
  {
   "cell_type": "code",
   "execution_count": 24,
   "id": "7f21369e",
   "metadata": {},
   "outputs": [],
   "source": [
    "import numpy as np\n",
    "from pydrake.geometry import Rgba\n",
    "\n",
    "#PlotSurface(self: pydrake.geometry.Meshcat, \n",
    "#            path: str, \n",
    "#            X: numpy.ndarray[numpy.float64[m, n], flags.f_contiguous], \n",
    "#            Y: numpy.ndarray[numpy.float64[m, n], flags.f_contiguous], \n",
    "#            Z: numpy.ndarray[numpy.float64[m, n], flags.f_contiguous], \n",
    "#            rgba: pydrake.geometry.Rgba = Rgba(r=0.1, g=0.1, b=0.9, a=1.0), \n",
    "#            wireframe: bool = False, \n",
    "#            wireframe_line_width: \n",
    "#            float = 1.0) → None\n",
    "\n",
    "\n",
    "# Plot the six-hump camel\n",
    "xs = np.linspace(-4, 4, 51)\n",
    "ys = np.linspace(-4, 4, 51)\n",
    "[X, Y] = np.meshgrid(xs, ys)\n",
    "P = 0.3*(X**2 + Y**2)\n",
    "\n",
    "meshcat.PlotSurface(path=\"quadratic_bowl\",\n",
    "                    X=X,\n",
    "                    Y=Y,\n",
    "                    Z=P,\n",
    "                    rgba=Rgba(0.8, 0.8, 0.3),\n",
    "                    wireframe=False,\n",
    "                    wireframe_line_width=2.0)"
   ]
  },
  {
   "cell_type": "markdown",
   "id": "d0acf664",
   "metadata": {},
   "source": [
    "...wireframe..."
   ]
  },
  {
   "cell_type": "code",
   "execution_count": 25,
   "id": "4bb586f2",
   "metadata": {},
   "outputs": [],
   "source": [
    "meshcat.PlotSurface(path=\"quadratic_bowl_wireframe\",\n",
    "                    X=X,\n",
    "                    Y=Y,\n",
    "                    Z=P,\n",
    "                    rgba=Rgba(0.5, 0.1, 0.8),\n",
    "                    wireframe=True,\n",
    "                    wireframe_line_width=2.0)"
   ]
  },
  {
   "cell_type": "markdown",
   "id": "d76206b0",
   "metadata": {},
   "source": [
    "***SetLine()***"
   ]
  },
  {
   "cell_type": "code",
   "execution_count": 26,
   "id": "06d4eef4",
   "metadata": {},
   "outputs": [],
   "source": [
    "from pydrake.geometry import Rgba\n",
    "\n",
    "# Must be 3xn (so transpose)\n",
    "verts = np.array([[0,0,0],\n",
    "                     [0,10,0],\n",
    "                     [0,10,10],\n",
    "                     [10,10,10],\n",
    "                     [10,0,10],\n",
    "                     [10,0,0],\n",
    "                     [0,0,0]]).T\n",
    "\n",
    "meshcat.SetLine(\"newThingaMajig\", verts, line_width=2.0, rgba=Rgba(r=1.0, g=1.0, b=1.0, a=1.0))"
   ]
  },
  {
   "cell_type": "markdown",
   "id": "3d45dd5d",
   "metadata": {},
   "source": [
    "***SetLineSegments()***"
   ]
  },
  {
   "cell_type": "code",
   "execution_count": 27,
   "id": "10d24789",
   "metadata": {},
   "outputs": [],
   "source": [
    "from pydrake.geometry import Rgba\n",
    "\n",
    "# Must be 3xn (so transpose)\n",
    "start_verts = np.array([[0,10,0],\n",
    "                 [0,10,10],\n",
    "                 [10,10,10],\n",
    "                 [10,0,10],\n",
    "                 [10,0,0]]).T\n",
    "\n",
    "end_verts = np.array([[0,0,0],\n",
    "                 [0,0,0],\n",
    "                 [0,0,0],\n",
    "                 [0,0,0],\n",
    "                 [0,0,0]]).T\n",
    "\n",
    "meshcat.SetLineSegments(\"newThingaMajig2\", \n",
    "                        start_verts,\n",
    "                        end_verts, \n",
    "                        line_width=2.0, \n",
    "                        rgba=Rgba(r=1.0, g=1.0, b=0.0, a=1.0))"
   ]
  },
  {
   "cell_type": "markdown",
   "id": "6fdd232c",
   "metadata": {},
   "source": [
    "***Move things around with SetTransform()***"
   ]
  },
  {
   "cell_type": "code",
   "execution_count": 29,
   "id": "aa4f8c46",
   "metadata": {},
   "outputs": [],
   "source": [
    "from pydrake.math import RollPitchYaw, RotationMatrix\n",
    "\n",
    "position = [4,0,1.5]\n",
    "rpy = RollPitchYaw(np.array([[1, 2, 3]]).T)\n",
    "pose34 = RotationMatrix(rpy)\n",
    "X = RigidTransform(RotationMatrix(rpy), position)\n",
    "\n",
    "meshcat.SetTransform(\"box1\", X)"
   ]
  },
  {
   "cell_type": "markdown",
   "id": "04cd03c6",
   "metadata": {},
   "source": [
    "***SetTriangleColorMesh() and SetTriangleMesh()***"
   ]
  },
  {
   "cell_type": "code",
   "execution_count": 31,
   "id": "833d32d1",
   "metadata": {},
   "outputs": [],
   "source": [
    "# List of verts in shape\n",
    "verts = np.array([[0,0,0],\n",
    "                  [2,0,0],\n",
    "                  [1,3,0],\n",
    "                  [0,0,2]\n",
    "                 ]).T\n",
    "\n",
    "# List of vert indices corresponding to face\n",
    "faces = np.array([[0,1,2],\n",
    "                  [0,1,3],\n",
    "                  [0,2,3],\n",
    "                  [2,3,1]\n",
    "                 ]).T\n",
    "\n",
    "# rgb corresponding to each vertex\n",
    "colors = np.array([[1,0,0],\n",
    "                   [0,1,0],\n",
    "                   [0,0,1.0],\n",
    "                   [1,1,0]\n",
    "                  ]).T\n",
    "\n",
    "\n",
    "########## SetTriangleColorMesh ##############\n",
    "# Vertex colors, blend across face:\n",
    "meshcat.SetTriangleColorMesh(\"handMesh\", \n",
    "                             vertices=verts, \n",
    "                             faces=faces,\n",
    "                             colors=colors,\n",
    "                             wireframe=False, \n",
    "                             wireframe_line_width=1.0,\n",
    "                             side=meshcat.SideOfFaceToRender.kDoubleSide)\n",
    "\n",
    "\n",
    "########## SetTriangleMesh ##############\n",
    "# One color for the whole object (with alpha)\n",
    "meshcat.SetTriangleMesh(\"handMesh2\", \n",
    "                             vertices=verts, \n",
    "                             faces=faces,\n",
    "                             rgba=Rgba(r=0.9, g=0.3, b=0.3, a=0.5),\n",
    "                             wireframe=False, \n",
    "                             wireframe_line_width=1.0,\n",
    "                             side=meshcat.SideOfFaceToRender.kDoubleSide)\n",
    "\n",
    "\n",
    "\n",
    "position = [-8,1,2]\n",
    "rpy = RollPitchYaw(np.array([[1, 2, 3]]).T)\n",
    "X2 = RigidTransform(RotationMatrix(rpy), position)\n",
    "meshcat.SetTransform(\"handMesh\", X2)\n",
    "\n",
    "position = [6,-4,2]\n",
    "X3 = RigidTransform(RotationMatrix(rpy), position)\n",
    "meshcat.SetTransform(\"handMesh2\", X3)"
   ]
  },
  {
   "cell_type": "markdown",
   "id": "24fdbe2a",
   "metadata": {},
   "source": [
    "***If you need more control, use MeshCatParams***\n",
    "\n",
    "- Note: StartMeshCat is just initializing some extra Deepnote friendly options, but internally it calls Meshcat(), as below:"
   ]
  },
  {
   "cell_type": "code",
   "execution_count": null,
   "id": "5dc18fbe",
   "metadata": {},
   "outputs": [],
   "source": [
    "from pydrake.geometry import MeshcatParams\n",
    "\n",
    "meshcat_params = MeshcatParams(\n",
    "    host='http://localhost',\n",
    "    port=7000,                               # must be zero or >= 1024\n",
    "    show_stats_plot=True#,                   # plot including realtime rate and WebGL render statistics.\n",
    "    web_url_pattern='http://{host}:{port}'   # This may be useful in case Meshcat sits behind a firewall or proxy.\n",
    ")\n",
    "\n",
    "# and call\n",
    "meshcat = Meshcat(meshcat_params)"
   ]
  }
 ],
 "metadata": {
  "kernelspec": {
   "display_name": "Python 3 (ipykernel)",
   "language": "python",
   "name": "python3"
  },
  "language_info": {
   "codemirror_mode": {
    "name": "ipython",
    "version": 3
   },
   "file_extension": ".py",
   "mimetype": "text/x-python",
   "name": "python",
   "nbconvert_exporter": "python",
   "pygments_lexer": "ipython3",
   "version": "3.10.12"
  }
 },
 "nbformat": 4,
 "nbformat_minor": 5
}
