{
 "cells": [
  {
   "cell_type": "code",
   "execution_count": 1,
   "id": "61151c94",
   "metadata": {},
   "outputs": [],
   "source": [
    "from pydrake.geometry import SceneGraph\n",
    "from pydrake.geometry import StartMeshcat"
   ]
  },
  {
   "cell_type": "code",
   "execution_count": 2,
   "id": "0e7e8e77",
   "metadata": {
    "scrolled": true
   },
   "outputs": [
    {
     "name": "stderr",
     "output_type": "stream",
     "text": [
      "INFO:drake:Meshcat listening for connections at http://localhost:7000\n"
     ]
    }
   ],
   "source": [
    "meshcat = StartMeshcat()"
   ]
  },
  {
   "cell_type": "markdown",
   "id": "8a3eddc9",
   "metadata": {},
   "source": [
    "Only registered “geometry sources” can introduce geometry into SceneGraph. Geometry sources will typically be other leaf systems, but, in the case of anchored (i.e., stationary) geometry, it could also be some other block of code (e.g., adding a common ground plane with which all systems’ geometries interact). For dynamic geometry (geometry whose pose depends on a Context), the geometry source must also provide pose/configuration values for all of the geometries the source owns, via a port connection on SceneGraph. For N geometry sources, the SceneGraph instance will have N pose/configuration input ports."
   ]
  },
  {
   "cell_type": "code",
   "execution_count": 3,
   "id": "519497df",
   "metadata": {},
   "outputs": [],
   "source": [
    "import numpy as np\n",
    "from pydrake.common.containers import namedview\n",
    "from pydrake.common.value import Value\n",
    "from pydrake.math import RigidTransform, RotationMatrix\n",
    "from pydrake.systems.analysis import Simulator\n",
    "from pydrake.systems.framework import BasicVector, LeafSystem\n",
    "from pydrake.trajectories import PiecewisePolynomial\n",
    "from pydrake.all import LogVectorOutput\n",
    "\n",
    "from pydrake.systems.framework import DiagramBuilder\n",
    "from pydrake.systems.framework import WitnessFunctionDirection\n",
    "from pydrake.systems.framework import UnrestrictedUpdateEvent\n",
    "from pydrake.systems.framework import EventStatus\n",
    "\n",
    "from pydrake.systems.analysis import SimulatorConfig, ApplySimulatorConfig\n",
    "\n",
    "from pydrake.geometry import FramePoseVector\n",
    "from pydrake.geometry import GeometryFrame\n",
    "from pydrake.geometry import GeometryInstance\n",
    "from pydrake.geometry import Box, Capsule, Ellipsoid\n",
    "from pydrake.geometry import Rgba\n",
    "from pydrake.geometry import MeshcatVisualizer\n",
    "from pydrake.geometry import MakePhongIllustrationProperties\n",
    "\n",
    "from pydrake.math import RigidTransform\n",
    "\n",
    "class HybridSystem(LeafSystem):\n",
    "    def __init__(self):\n",
    "        super().__init__()  # Don't forget to initialize the base class.\n",
    "\n",
    "        self.name = \"Example 2.2 from Impulsive and Hybrid Dynamical Systems\"\n",
    "        \n",
    "        self.k1 = 1\n",
    "        self.k2 = 0.1\n",
    "        self.m1 = 2\n",
    "        self.m2 = 1\n",
    "        self.e = 0.8\n",
    "        self.L = 0.5\n",
    "        \n",
    "        # Continuous State\n",
    "        state_index = self.DeclareContinuousState(4)  \n",
    "        self.DeclareStateOutputPort(\"y\", state_index) \n",
    "        \n",
    "        # https://drake.mit.edu/pydrake/pydrake.systems.framework.html?highlight=witnessfunction#pydrake.systems.framework.WitnessFunctio\n",
    "        self.witness = self.MakeWitnessFunction(\n",
    "            \"witness\", \n",
    "            WitnessFunctionDirection.kPositiveThenNonPositive, #kPositiveThenNonPositive, #kCrossesZero,\n",
    "            self._guard,\n",
    "            UnrestrictedUpdateEvent(self._reset)\n",
    "        )\n",
    "        \n",
    "        \n",
    "    def _guard(self, context):\n",
    "        #t = context.get_time()\n",
    "        x = context.get_continuous_state_vector()\n",
    "        x1, x2, x3, x4 = x.GetAtIndex(0), x.GetAtIndex(1), x.GetAtIndex(2), x.GetAtIndex(3)\n",
    "        L = self.L\n",
    "        \n",
    "        # See if their bumpers are touching...\n",
    "        # easiest to just check absolute distance between cars...\n",
    "        return L-(x1-x3)\n",
    "        \n",
    "        #return 666.0\n",
    "\n",
    "    \n",
    "    def _reset(self, context, event, state):\n",
    "        x = context.get_continuous_state_vector()\n",
    "        x1, x2, x3, x4 = x.GetAtIndex(0), x.GetAtIndex(1), x.GetAtIndex(2), x.GetAtIndex(3)\n",
    "        m1,m2,k1,k2,e = self.m1, self.m2, self.k1, self.k2, self.e\n",
    "        Δx1 = 0\n",
    "        Δx2 = (-((1+e)*m2)/(m1+m2))*(x2-x4)\n",
    "        Δx3 = 0\n",
    "        Δx4 = (+((1+e)*m1)/(m1+m2))*(x2-x4)\n",
    "        \n",
    "        # We could just as well have returned just delx, but again, trying to make it explicit\n",
    "        state.get_mutable_continuous_state().get_mutable_vector().SetFromVector(\n",
    "            [x1+Δx1, \n",
    "             x2+Δx2,\n",
    "             x3+Δx3,\n",
    "             x4+Δx4]\n",
    "        )\n",
    "    \n",
    "    def DoCalcTimeDerivatives(self, context, derivatives):\n",
    "        x = context.get_continuous_state_vector()\n",
    "        #x = context.get_mutable_continuous_state().get_mutable_vector()\n",
    "        x1, x2, x3, x4 = x.GetAtIndex(0), x.GetAtIndex(1), x.GetAtIndex(2), x.GetAtIndex(3)\n",
    "\n",
    "        x1dot = x2\n",
    "        x2dot = -((self.k1 + self.k2)/self.m1)*x1 + (self.k2/self.m1)*x3\n",
    "        x3dot = x4\n",
    "        x4dot = (self.k2/self.m2)*x1 - (self.k2/self.m2)*x3\n",
    "        \n",
    "        derivatives.get_mutable_vector().SetAtIndex(0, x1dot)\n",
    "        derivatives.get_mutable_vector().SetAtIndex(1, x2dot)\n",
    "        derivatives.get_mutable_vector().SetAtIndex(2, x3dot)\n",
    "        derivatives.get_mutable_vector().SetAtIndex(3, x4dot)\n",
    "\n",
    "    # This override is required (exactly as typed) anytime\n",
    "    # you use a Witness function. It also must take \"context\",\n",
    "    # and, of course, \"self\"\n",
    "    def DoGetWitnessFunctions(self, context):\n",
    "        return [self.witness]\n",
    "             "
   ]
  },
  {
   "cell_type": "code",
   "execution_count": 4,
   "id": "922a4109",
   "metadata": {},
   "outputs": [],
   "source": [
    "class HybridSystemGeometry(LeafSystem):\n",
    "    \n",
    "    def __init__(self, frame_id0, frame_id1, scene_graph):\n",
    "        super().__init__()  # Don't forget to initialize the base class.\n",
    "        self.x_port = self.DeclareVectorInputPort(\"state\", 4)\n",
    "        \n",
    "        self.frame_id0 = frame_id0\n",
    "        self.frame_id1 = frame_id1\n",
    "        self.DeclareAbstractOutputPort(\"geometry_pose\",\n",
    "                                    alloc=lambda: Value(FramePoseVector()),\n",
    "                                    calc=self.OutputGeometryPose)\n",
    "        \n",
    "        \n",
    "            \n",
    "    def OutputGeometryPose(self, context, framePoseVec):\n",
    "        x = self.x_port.Eval(context)\n",
    "        \n",
    "        X1 = RigidTransform([x[0], 0, 0])\n",
    "        X3 = RigidTransform([x[2], 0, 0])\n",
    "        \n",
    "        # Bizarre that we have to unpack like this...\n",
    "        FPV = framePoseVec.get_value()\n",
    "        \n",
    "        FPV.set_value(self.frame_id0, X1)\n",
    "        FPV.set_value(self.frame_id1, X3)    "
   ]
  },
  {
   "cell_type": "code",
   "execution_count": 5,
   "id": "f4cef987",
   "metadata": {},
   "outputs": [],
   "source": [
    "hybrid_system = HybridSystem()\n",
    "\n",
    "scene_graph = SceneGraph()\n",
    "_id = scene_graph.RegisterSource(\"boxes\")\n",
    "fid0 = scene_graph.RegisterFrame(_id, GeometryFrame(\"f0\"), )\n",
    "fid1 = scene_graph.RegisterFrame(_id, GeometryFrame(\"f1\"))\n",
    "\n",
    "hybrid_system_geom = HybridSystemGeometry(fid0, fid1, scene_graph)\n",
    "\n",
    "# Make some geometry, and set initial (geom) positions:\n",
    "_box0 = GeometryInstance(RigidTransform([-0.5, 0, 0.5]), Box(1, 1, 1), \"box_instance0\")\n",
    "_box1 = GeometryInstance(RigidTransform([0.5 + hybrid_system.L, 0, 0.5]), Box(1, 1, 1), \"box_instance1\")\n",
    "\n",
    "scene_graph.AssignRole(_id, scene_graph.RegisterGeometry(_id, fid0, _box0), MakePhongIllustrationProperties(np.array([.9, .1, 0, 1]).T))\n",
    "scene_graph.AssignRole(_id, scene_graph.RegisterGeometry(_id, fid1, _box1), MakePhongIllustrationProperties(np.array([.9, .9, 0, 1]).T))\n",
    "\n",
    "builder = DiagramBuilder()\n",
    "builder.AddSystem(scene_graph)\n",
    "builder.AddSystem(hybrid_system)\n",
    "builder.AddSystem(hybrid_system_geom)\n",
    "\n",
    "# Connect system output to geom_input, and geom_ouput to scenegraph pose input.\n",
    "builder.Connect(hybrid_system.GetOutputPort('y'),  hybrid_system_geom.get_input_port())\n",
    "builder.Connect(hybrid_system_geom.GetOutputPort(\"geometry_pose\"),  scene_graph.get_source_pose_port(_id))\n",
    "\n",
    "# Convenience function to add meshcat to builder\n",
    "MeshcatVisualizer.AddToBuilder(builder, scene_graph, meshcat)\n",
    "\n",
    "diagram = builder.Build()"
   ]
  },
  {
   "cell_type": "markdown",
   "id": "e2f7b189",
   "metadata": {},
   "source": [
    "# Display Meshcat in Notebook:"
   ]
  },
  {
   "cell_type": "code",
   "execution_count": 6,
   "id": "d3bb7e61",
   "metadata": {},
   "outputs": [
    {
     "name": "stdout",
     "output_type": "stream",
     "text": [
      "Or, just view it here in the browser...\n"
     ]
    },
    {
     "data": {
      "text/html": [
       "\n",
       "        <iframe\n",
       "            width=\"100%\"\n",
       "            height=\"800px\"\n",
       "            src=\"http://localhost:7000\"\n",
       "            frameborder=\"0\"\n",
       "            allowfullscreen\n",
       "            \n",
       "        ></iframe>\n",
       "        "
      ],
      "text/plain": [
       "<IPython.lib.display.IFrame at 0x7fba6d1c88e0>"
      ]
     },
     "metadata": {},
     "output_type": "display_data"
    }
   ],
   "source": [
    "from IPython.display import IFrame\n",
    "address = meshcat.web_url()\n",
    "print(\"Or, just view it here in the browser...\")\n",
    "display(IFrame(src=address, width='100%', height='800px'))"
   ]
  },
  {
   "cell_type": "code",
   "execution_count": 7,
   "id": "3755e53f",
   "metadata": {
    "scrolled": false
   },
   "outputs": [
    {
     "name": "stdout",
     "output_type": "stream",
     "text": [
      "Press 'Stop Simulation' in MeshCat to continue.\n"
     ]
    }
   ],
   "source": [
    "ics = [0.32, -0.8, 0.01, 0.6]\n",
    "\n",
    "simulator = Simulator(diagram)\n",
    "sim_context = simulator.get_mutable_context()\n",
    "sim_context.SetTime(0)\n",
    "sim_context.SetContinuousState(ics)\n",
    "sim_context.SetAccuracy(1e-10)      #<--- hybrid model needs this.\n",
    "\n",
    "simulator.set_target_realtime_rate(4.0)\n",
    "\n",
    "#print(\"Use the slider in the MeshCat controls to apply elbow torque.\")\n",
    "print(\"Press 'Stop Simulation' in MeshCat to continue.\")\n",
    "meshcat.AddButton(\"Stop Simulation\")\n",
    "while meshcat.GetButtonClicks(\"Stop Simulation\") < 1:\n",
    "    simulator.AdvanceTo(simulator.get_context().get_time() + 0.025)\n",
    "\n",
    "meshcat.DeleteAddedControls()"
   ]
  }
 ],
 "metadata": {
  "kernelspec": {
   "display_name": "Python 3 (ipykernel)",
   "language": "python",
   "name": "python3"
  },
  "language_info": {
   "codemirror_mode": {
    "name": "ipython",
    "version": 3
   },
   "file_extension": ".py",
   "mimetype": "text/x-python",
   "name": "python",
   "nbconvert_exporter": "python",
   "pygments_lexer": "ipython3",
   "version": "3.10.12"
  }
 },
 "nbformat": 4,
 "nbformat_minor": 5
}
